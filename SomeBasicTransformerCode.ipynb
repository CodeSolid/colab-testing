{
 "cells": [
  {
   "cell_type": "markdown",
   "metadata": {
    "colab_type": "text",
    "id": "view-in-github"
   },
   "source": [
    "<a href=\"https://colab.research.google.com/github/CodeSolid/colab-testing/blob/main/TestNotebookForGithubIntegration.ipynb\" target=\"_parent\"><img src=\"https://colab.research.google.com/assets/colab-badge.svg\" alt=\"Open In Colab\"/></a>"
   ]
  },
  {
   "cell_type": "markdown",
   "metadata": {
    "id": "E4u6_aNiMVC8"
   },
   "source": [
    "# Ensure we have what we need."
   ]
  },
  {
   "cell_type": "code",
   "execution_count": 39,
   "metadata": {
    "colab": {
     "base_uri": "https://localhost:8080/"
    },
    "id": "cT-DFz1VMJ0V",
    "outputId": "3ed40fc3-5008-4d90-d730-2ccbf9c670d4"
   },
   "outputs": [],
   "source": [
    "!pip install -q numpy # Should be here, but make sure\n",
    "!pip install -q torch transformers"
   ]
  },
  {
   "cell_type": "code",
   "execution_count": 1,
   "metadata": {
    "id": "WseqFgrCFp4q"
   },
   "outputs": [],
   "source": [
    "import transformers"
   ]
  },
  {
   "cell_type": "markdown",
   "metadata": {},
   "source": [
    "Now run through some of the basic transformer functionality, largely based on the discussion [here](https://huggingface.co/learn/llm-course/chapter1/3?fw=pt).\n",
    "\n"
   ]
  },
  {
   "cell_type": "code",
   "execution_count": 2,
   "metadata": {
    "colab": {
     "base_uri": "https://localhost:8080/",
     "height": 373,
     "referenced_widgets": [
      "b9f931592d2e4536a9987aee7a36c633",
      "4988b13ec1ae41d1a526f598f40f26b1",
      "c6be7361c5134d888236a73febe85437",
      "b9b8700e649f4766a85017fa36d33769",
      "4aadbed0521b46d9a5418fa51a9f9251",
      "bc65d55f4db84cac8e02d13d7f172d92",
      "fd1d5f53605a455dbdb12c10fafd7951",
      "a657ce1f597f4cb59b7ad2ccb42118a7",
      "13b3c178c148428a99847c8310713eff",
      "eb7792ddd0894e55ba2b0cdf324e2e8a",
      "626a814ed23b422391b4d0dd92065396",
      "883799898b5e4235aaf8ba0fbac94a70",
      "4f129fd3aae740eaabe696921eb6efcb",
      "b0bf35edfefa40a08cbd91f25c4147ac",
      "b16522342fae465f81a446590eb4d390",
      "336e4a6d9276473db0ba2a17f3d9ced6",
      "6c4f92c2fe1147b5af96ba3ec20b7596",
      "c2b0ee7b8d054c6c992a98ad0a30ef5b",
      "3e1be01498434d3fad89865c1cf52615",
      "82d765a04a5540e79b4d3b9556c0b043",
      "7f84d3d4141d4a13a01ed2045a4e4e5e",
      "e4d0c3159389473bb734edf2083b8f0f",
      "fdbcfab329694b05ae3d5497956e3503",
      "e9ccddd62cc5455dbe36d5d2dba9f14a",
      "d6730cfc442e42149994d65e1affd6a4",
      "8de49999c4754e1499318285e9dfa53d",
      "96adb1c17868434ca82aeb72389272e3",
      "a2507b31832745658f1e1329c5edae7f",
      "8f997af189d141879e1e25f0072f4333",
      "4c2a282830ad4491ba60f3cad225cdc0",
      "911e7495cf2f489ea0a73b0910112992",
      "3f3e65c4c0cf4d868576393fdba266b2",
      "60930e1382c44e8a939012f3bbad86c4",
      "4c5d83f1bedc4548bd8273f9a0665cfb",
      "6fed15acec3f4b04bda75c2a5860736b",
      "93553eb84c19488f98810a0ed0f6ff87",
      "57bfe35f16d5443cbb4dc627eee1d5d0",
      "8d6600f418304647954a0351ab285083",
      "f72445ccb6814b71855ec2f5cbdbd7ff",
      "fc7348d9c6cd48619b6e22f8c5e8af22",
      "9ad5915b5c6d47f0bda47048fb3b7ddd",
      "8dc7ffa871644dbe998cdfe283945622",
      "6a272f8cf5a84b24a327580938a5e20d",
      "25c01365a35246ddbc27beb41c960062"
     ]
    },
    "id": "iQB8aFRv6N7u",
    "outputId": "332ec43d-fd74-4331-8c42-df64180b6b09"
   },
   "outputs": [
    {
     "name": "stderr",
     "output_type": "stream",
     "text": [
      "Device set to use mps:0\n"
     ]
    },
    {
     "name": "stdout",
     "output_type": "stream",
     "text": [
      "[{'label': 'POSITIVE', 'score': 0.9996805191040039}]\n",
      "<class 'list'> <class 'dict'>\n"
     ]
    }
   ],
   "source": [
    "# A brief Transformers demo cf. https://huggingface.co/learn/llm-course/chapter1/3?fw=pt\n",
    "\n",
    "from transformers import pipeline\n",
    "\n",
    "classifier = pipeline(\"sentiment-analysis\", model=\"distilbert/distilbert-base-uncased-finetuned-sst-2-english\")\n",
    "results = classifier(\"We are incredibly excited show you the Transformers library.\")\n",
    "print(results)\n",
    "print(type(results), type(results[0]))\n"
   ]
  },
  {
   "cell_type": "code",
   "execution_count": 3,
   "metadata": {
    "id": "KFj1GEaC6Nm2"
   },
   "outputs": [
    {
     "name": "stdout",
     "output_type": "stream",
     "text": [
      "{'label': 'POSITIVE', 'score': 0.9998612403869629}\n",
      "{'label': 'NEGATIVE', 'score': 0.9994088411331177}\n",
      "{'label': 'POSITIVE', 'score': 0.9980136156082153}\n"
     ]
    }
   ],
   "source": [
    "sentence_list = [\"HuggingFace is awesome!\", \"I can't stand this soup!  It's disgusting\", \"I am curious about chimps\"]\n",
    "\n",
    "results = classifier(sentence_list)\n",
    "for result in results:\n",
    "    print(result)"
   ]
  },
  {
   "cell_type": "code",
   "execution_count": 4,
   "metadata": {},
   "outputs": [
    {
     "name": "stderr",
     "output_type": "stream",
     "text": [
      "Device set to use mps:0\n"
     ]
    },
    {
     "name": "stdout",
     "output_type": "stream",
     "text": [
      "----\n",
      "(1, 6, 768)\n",
      "----\n",
      "(1, 11, 768)\n",
      "----\n",
      "(1, 6, 768)\n"
     ]
    }
   ],
   "source": [
    "# Try our hand at some embedding:\n",
    "embedder = pipeline(\"feature-extraction\", model=\"openai-community/gpt2\")\n",
    "results = embedder(sentence_list)\n",
    "import numpy as np\n",
    "for result in results:\n",
    "    print(\"----\")\n",
    "    data = np.array(result)\n",
    "    print(data.shape)"
   ]
  }
 ],
 "metadata": {
  "colab": {
   "include_colab_link": true,
   "provenance": []
  },
  "kernelspec": {
   "display_name": ".venv",
   "language": "python",
   "name": "python3"
  },
  "language_info": {
   "codemirror_mode": {
    "name": "ipython",
    "version": 3
   },
   "file_extension": ".py",
   "mimetype": "text/x-python",
   "name": "python",
   "nbconvert_exporter": "python",
   "pygments_lexer": "ipython3",
   "version": "3.13.2"
  },
  "widgets": {
   "application/vnd.jupyter.widget-state+json": {
    "state": {
     "00ebe164fcbd44c48889dcadc48591f3": {
      "model_module": "@jupyter-widgets/base",
      "model_module_version": "2.0.0",
      "model_name": "LayoutModel",
      "state": {}
     },
     "072af6b3c266439abe85aa3a6f2c51cc": {
      "model_module": "@jupyter-widgets/controls",
      "model_module_version": "2.0.0",
      "model_name": "HTMLModel",
      "state": {
       "layout": "IPY_MODEL_63dc7cd30fe74456a29958fbdd30e359",
       "style": "IPY_MODEL_4e329c468f5a41658c79f32912f10b7d",
       "value": "model.safetensors: 100%"
      }
     },
     "0a4f5fd4f9f74692a4c8832b79702774": {
      "model_module": "@jupyter-widgets/controls",
      "model_module_version": "2.0.0",
      "model_name": "HTMLStyleModel",
      "state": {
       "description_width": "",
       "font_size": null,
       "text_color": null
      }
     },
     "0a70784d3caf406c80474f7fcb565e87": {
      "model_module": "@jupyter-widgets/base",
      "model_module_version": "2.0.0",
      "model_name": "LayoutModel",
      "state": {}
     },
     "10f7317afe724851b0abc588042877e4": {
      "model_module": "@jupyter-widgets/controls",
      "model_module_version": "2.0.0",
      "model_name": "HBoxModel",
      "state": {
       "children": [
        "IPY_MODEL_e6e72d077dd74322838a0ab0bdd25ed0",
        "IPY_MODEL_2455857e4ac34009a3a43090a0d853f4",
        "IPY_MODEL_3ccbb3b1b1164532820797cef4c5349a"
       ],
       "layout": "IPY_MODEL_589279416324404d8096790ffe581215"
      }
     },
     "1480b8ad484348c7afbf7482f1d394cd": {
      "model_module": "@jupyter-widgets/controls",
      "model_module_version": "2.0.0",
      "model_name": "HTMLModel",
      "state": {
       "layout": "IPY_MODEL_c024f2a65d704a42afa04749f80d2067",
       "style": "IPY_MODEL_2e1bf8af105e4df4ac510c2d32437699",
       "value": " 26.0/26.0 [00:00&lt;00:00, 10.1kB/s]"
      }
     },
     "14aea0b4cc4741679a6abb51fabeabb4": {
      "model_module": "@jupyter-widgets/base",
      "model_module_version": "2.0.0",
      "model_name": "LayoutModel",
      "state": {}
     },
     "22860e2ef6ec4947ac5e80bb7ded11dc": {
      "model_module": "@jupyter-widgets/controls",
      "model_module_version": "2.0.0",
      "model_name": "ProgressStyleModel",
      "state": {
       "description_width": ""
      }
     },
     "23d010d823c845bf8fe1c0b84d52e6cc": {
      "model_module": "@jupyter-widgets/base",
      "model_module_version": "2.0.0",
      "model_name": "LayoutModel",
      "state": {}
     },
     "240782f079024a15aa5ac37ef298d9d0": {
      "model_module": "@jupyter-widgets/controls",
      "model_module_version": "2.0.0",
      "model_name": "ProgressStyleModel",
      "state": {
       "description_width": ""
      }
     },
     "2455857e4ac34009a3a43090a0d853f4": {
      "model_module": "@jupyter-widgets/controls",
      "model_module_version": "2.0.0",
      "model_name": "FloatProgressModel",
      "state": {
       "bar_style": "success",
       "layout": "IPY_MODEL_6ab03b60e2ed4bfdb63dc1da63186ada",
       "max": 665,
       "style": "IPY_MODEL_c35683c4fca64ef394756c1950a35021",
       "value": 665
      }
     },
     "2951f5c38e9d4e749dbda00b5c2d21a7": {
      "model_module": "@jupyter-widgets/controls",
      "model_module_version": "2.0.0",
      "model_name": "HTMLStyleModel",
      "state": {
       "description_width": "",
       "font_size": null,
       "text_color": null
      }
     },
     "2cc1c611a2544320b0481392d8bd9644": {
      "model_module": "@jupyter-widgets/controls",
      "model_module_version": "2.0.0",
      "model_name": "ProgressStyleModel",
      "state": {
       "description_width": ""
      }
     },
     "2d1fdd2902504d229136b427180963d4": {
      "model_module": "@jupyter-widgets/base",
      "model_module_version": "2.0.0",
      "model_name": "LayoutModel",
      "state": {}
     },
     "2e1bf8af105e4df4ac510c2d32437699": {
      "model_module": "@jupyter-widgets/controls",
      "model_module_version": "2.0.0",
      "model_name": "HTMLStyleModel",
      "state": {
       "description_width": "",
       "font_size": null,
       "text_color": null
      }
     },
     "300297dfdcf849d896b2e8a689fd69ac": {
      "model_module": "@jupyter-widgets/base",
      "model_module_version": "2.0.0",
      "model_name": "LayoutModel",
      "state": {}
     },
     "32f8d0114fe1434bb0f8cdb57d04f7c0": {
      "model_module": "@jupyter-widgets/controls",
      "model_module_version": "2.0.0",
      "model_name": "ProgressStyleModel",
      "state": {
       "description_width": ""
      }
     },
     "338c6e4454a742e7a68cc15870da5833": {
      "model_module": "@jupyter-widgets/controls",
      "model_module_version": "2.0.0",
      "model_name": "HBoxModel",
      "state": {
       "children": [
        "IPY_MODEL_072af6b3c266439abe85aa3a6f2c51cc",
        "IPY_MODEL_ebb42adf58e24ff689e80d36c511b407",
        "IPY_MODEL_4f006e21927746fba0d56cdb28888904"
       ],
       "layout": "IPY_MODEL_14aea0b4cc4741679a6abb51fabeabb4"
      }
     },
     "37dc535115844d9a823c51570a238052": {
      "model_module": "@jupyter-widgets/base",
      "model_module_version": "2.0.0",
      "model_name": "LayoutModel",
      "state": {}
     },
     "3ac1b77effe949b3956489c8b759ee37": {
      "model_module": "@jupyter-widgets/controls",
      "model_module_version": "2.0.0",
      "model_name": "HBoxModel",
      "state": {
       "children": [
        "IPY_MODEL_85a00192f9094650bfb05b18529c511c",
        "IPY_MODEL_8bd37b6c39404c86afdccfcb90ce8698",
        "IPY_MODEL_8108f0950f17457bb2375c4e437894b2"
       ],
       "layout": "IPY_MODEL_dd043cf968fb4c00849c53ac72e55514"
      }
     },
     "3ccbb3b1b1164532820797cef4c5349a": {
      "model_module": "@jupyter-widgets/controls",
      "model_module_version": "2.0.0",
      "model_name": "HTMLModel",
      "state": {
       "layout": "IPY_MODEL_8988c33104be4bb494778e2e1cd54fc4",
       "style": "IPY_MODEL_6c5c9dd4b3eb4599833acaafe7cf89a9",
       "value": " 665/665 [00:00&lt;00:00, 64.7kB/s]"
      }
     },
     "3d0d5897008d4e23a79076ceda6863b3": {
      "model_module": "@jupyter-widgets/controls",
      "model_module_version": "2.0.0",
      "model_name": "FloatProgressModel",
      "state": {
       "bar_style": "success",
       "layout": "IPY_MODEL_cca5a70b69764d2ca593c10dbc3dda15",
       "max": 1042301,
       "style": "IPY_MODEL_a13dd6b7714f4609b791e8334ed9bd05",
       "value": 1042301
      }
     },
     "449d31299a7b423e9c630da0b00b3b1a": {
      "model_module": "@jupyter-widgets/base",
      "model_module_version": "2.0.0",
      "model_name": "LayoutModel",
      "state": {}
     },
     "4e329c468f5a41658c79f32912f10b7d": {
      "model_module": "@jupyter-widgets/controls",
      "model_module_version": "2.0.0",
      "model_name": "HTMLStyleModel",
      "state": {
       "description_width": "",
       "font_size": null,
       "text_color": null
      }
     },
     "4f006e21927746fba0d56cdb28888904": {
      "model_module": "@jupyter-widgets/controls",
      "model_module_version": "2.0.0",
      "model_name": "HTMLModel",
      "state": {
       "layout": "IPY_MODEL_a46e994113c947ce917f3d0fa82c7903",
       "style": "IPY_MODEL_0a4f5fd4f9f74692a4c8832b79702774",
       "value": " 548M/548M [00:09&lt;00:00, 58.3MB/s]"
      }
     },
     "4fa62855ae204e5284ec51a9ece68d82": {
      "model_module": "@jupyter-widgets/controls",
      "model_module_version": "2.0.0",
      "model_name": "HTMLStyleModel",
      "state": {
       "description_width": "",
       "font_size": null,
       "text_color": null
      }
     },
     "53313f81d4fb4bf4bd00aef86dd4ac8f": {
      "model_module": "@jupyter-widgets/base",
      "model_module_version": "2.0.0",
      "model_name": "LayoutModel",
      "state": {}
     },
     "56b7593a477b4a77a91def7d5b481648": {
      "model_module": "@jupyter-widgets/controls",
      "model_module_version": "2.0.0",
      "model_name": "FloatProgressModel",
      "state": {
       "bar_style": "success",
       "layout": "IPY_MODEL_0a70784d3caf406c80474f7fcb565e87",
       "max": 456318,
       "style": "IPY_MODEL_22860e2ef6ec4947ac5e80bb7ded11dc",
       "value": 456318
      }
     },
     "589279416324404d8096790ffe581215": {
      "model_module": "@jupyter-widgets/base",
      "model_module_version": "2.0.0",
      "model_name": "LayoutModel",
      "state": {}
     },
     "5d9669748ac04e33bb1d158fb98f688d": {
      "model_module": "@jupyter-widgets/controls",
      "model_module_version": "2.0.0",
      "model_name": "HTMLModel",
      "state": {
       "layout": "IPY_MODEL_300297dfdcf849d896b2e8a689fd69ac",
       "style": "IPY_MODEL_2951f5c38e9d4e749dbda00b5c2d21a7",
       "value": "vocab.json: 100%"
      }
     },
     "63dc7cd30fe74456a29958fbdd30e359": {
      "model_module": "@jupyter-widgets/base",
      "model_module_version": "2.0.0",
      "model_name": "LayoutModel",
      "state": {}
     },
     "6ab03b60e2ed4bfdb63dc1da63186ada": {
      "model_module": "@jupyter-widgets/base",
      "model_module_version": "2.0.0",
      "model_name": "LayoutModel",
      "state": {}
     },
     "6c5c9dd4b3eb4599833acaafe7cf89a9": {
      "model_module": "@jupyter-widgets/controls",
      "model_module_version": "2.0.0",
      "model_name": "HTMLStyleModel",
      "state": {
       "description_width": "",
       "font_size": null,
       "text_color": null
      }
     },
     "6d7f902bed6d4fa6b93e84c3d6d3f889": {
      "model_module": "@jupyter-widgets/controls",
      "model_module_version": "2.0.0",
      "model_name": "HTMLModel",
      "state": {
       "layout": "IPY_MODEL_37dc535115844d9a823c51570a238052",
       "style": "IPY_MODEL_ac0b09bcc5d144e9af2bd532c30c78c0",
       "value": "tokenizer_config.json: 100%"
      }
     },
     "6eeaa2b2fd1742279873a7a2a18bd560": {
      "model_module": "@jupyter-widgets/base",
      "model_module_version": "2.0.0",
      "model_name": "LayoutModel",
      "state": {}
     },
     "72ec0d4c9c5144ada745d30cae5cf887": {
      "model_module": "@jupyter-widgets/controls",
      "model_module_version": "2.0.0",
      "model_name": "HTMLStyleModel",
      "state": {
       "description_width": "",
       "font_size": null,
       "text_color": null
      }
     },
     "75375eb3432941c283b8578abf2ae3b6": {
      "model_module": "@jupyter-widgets/controls",
      "model_module_version": "2.0.0",
      "model_name": "HTMLModel",
      "state": {
       "layout": "IPY_MODEL_00ebe164fcbd44c48889dcadc48591f3",
       "style": "IPY_MODEL_4fa62855ae204e5284ec51a9ece68d82",
       "value": " 1.04M/1.04M [00:00&lt;00:00, 16.8MB/s]"
      }
     },
     "79111f5ae79a48c2895e1517406ff320": {
      "model_module": "@jupyter-widgets/controls",
      "model_module_version": "2.0.0",
      "model_name": "HBoxModel",
      "state": {
       "children": [
        "IPY_MODEL_5d9669748ac04e33bb1d158fb98f688d",
        "IPY_MODEL_3d0d5897008d4e23a79076ceda6863b3",
        "IPY_MODEL_75375eb3432941c283b8578abf2ae3b6"
       ],
       "layout": "IPY_MODEL_904d19d472d9437c85a6d945a847ffdf"
      }
     },
     "8108f0950f17457bb2375c4e437894b2": {
      "model_module": "@jupyter-widgets/controls",
      "model_module_version": "2.0.0",
      "model_name": "HTMLModel",
      "state": {
       "layout": "IPY_MODEL_6eeaa2b2fd1742279873a7a2a18bd560",
       "style": "IPY_MODEL_a64a84dc4d0d43848cc77b6cb62812ff",
       "value": " 1.36M/1.36M [00:00&lt;00:00, 29.1MB/s]"
      }
     },
     "83ac87120d924229b0eb9d310857f989": {
      "model_module": "@jupyter-widgets/controls",
      "model_module_version": "2.0.0",
      "model_name": "FloatProgressModel",
      "state": {
       "bar_style": "success",
       "layout": "IPY_MODEL_ad19e61b324945e1a2ac1097d80b0a27",
       "max": 26,
       "style": "IPY_MODEL_2cc1c611a2544320b0481392d8bd9644",
       "value": 26
      }
     },
     "85a00192f9094650bfb05b18529c511c": {
      "model_module": "@jupyter-widgets/controls",
      "model_module_version": "2.0.0",
      "model_name": "HTMLModel",
      "state": {
       "layout": "IPY_MODEL_2d1fdd2902504d229136b427180963d4",
       "style": "IPY_MODEL_e0f39464c7ce4822bbd1bd03712e042b",
       "value": "tokenizer.json: 100%"
      }
     },
     "8988c33104be4bb494778e2e1cd54fc4": {
      "model_module": "@jupyter-widgets/base",
      "model_module_version": "2.0.0",
      "model_name": "LayoutModel",
      "state": {}
     },
     "8bd37b6c39404c86afdccfcb90ce8698": {
      "model_module": "@jupyter-widgets/controls",
      "model_module_version": "2.0.0",
      "model_name": "FloatProgressModel",
      "state": {
       "bar_style": "success",
       "layout": "IPY_MODEL_23d010d823c845bf8fe1c0b84d52e6cc",
       "max": 1355256,
       "style": "IPY_MODEL_240782f079024a15aa5ac37ef298d9d0",
       "value": 1355256
      }
     },
     "904d19d472d9437c85a6d945a847ffdf": {
      "model_module": "@jupyter-widgets/base",
      "model_module_version": "2.0.0",
      "model_name": "LayoutModel",
      "state": {}
     },
     "98ea8ead273b44939ad00c6f0a21b6b3": {
      "model_module": "@jupyter-widgets/base",
      "model_module_version": "2.0.0",
      "model_name": "LayoutModel",
      "state": {}
     },
     "a13dd6b7714f4609b791e8334ed9bd05": {
      "model_module": "@jupyter-widgets/controls",
      "model_module_version": "2.0.0",
      "model_name": "ProgressStyleModel",
      "state": {
       "description_width": ""
      }
     },
     "a46e994113c947ce917f3d0fa82c7903": {
      "model_module": "@jupyter-widgets/base",
      "model_module_version": "2.0.0",
      "model_name": "LayoutModel",
      "state": {}
     },
     "a64a84dc4d0d43848cc77b6cb62812ff": {
      "model_module": "@jupyter-widgets/controls",
      "model_module_version": "2.0.0",
      "model_name": "HTMLStyleModel",
      "state": {
       "description_width": "",
       "font_size": null,
       "text_color": null
      }
     },
     "ac0b09bcc5d144e9af2bd532c30c78c0": {
      "model_module": "@jupyter-widgets/controls",
      "model_module_version": "2.0.0",
      "model_name": "HTMLStyleModel",
      "state": {
       "description_width": "",
       "font_size": null,
       "text_color": null
      }
     },
     "ad19e61b324945e1a2ac1097d80b0a27": {
      "model_module": "@jupyter-widgets/base",
      "model_module_version": "2.0.0",
      "model_name": "LayoutModel",
      "state": {}
     },
     "afd438eb9544482a9e57cdbde3848f16": {
      "model_module": "@jupyter-widgets/controls",
      "model_module_version": "2.0.0",
      "model_name": "HTMLStyleModel",
      "state": {
       "description_width": "",
       "font_size": null,
       "text_color": null
      }
     },
     "b00223040ef34c4391a4895258cfaae0": {
      "model_module": "@jupyter-widgets/base",
      "model_module_version": "2.0.0",
      "model_name": "LayoutModel",
      "state": {}
     },
     "c024f2a65d704a42afa04749f80d2067": {
      "model_module": "@jupyter-widgets/base",
      "model_module_version": "2.0.0",
      "model_name": "LayoutModel",
      "state": {}
     },
     "c2f87f5d3ed04ebcb871033612481c40": {
      "model_module": "@jupyter-widgets/controls",
      "model_module_version": "2.0.0",
      "model_name": "HTMLStyleModel",
      "state": {
       "description_width": "",
       "font_size": null,
       "text_color": null
      }
     },
     "c35683c4fca64ef394756c1950a35021": {
      "model_module": "@jupyter-widgets/controls",
      "model_module_version": "2.0.0",
      "model_name": "ProgressStyleModel",
      "state": {
       "description_width": ""
      }
     },
     "c9d47b77904a4834b1dcd3d473598fe2": {
      "model_module": "@jupyter-widgets/controls",
      "model_module_version": "2.0.0",
      "model_name": "HBoxModel",
      "state": {
       "children": [
        "IPY_MODEL_6d7f902bed6d4fa6b93e84c3d6d3f889",
        "IPY_MODEL_83ac87120d924229b0eb9d310857f989",
        "IPY_MODEL_1480b8ad484348c7afbf7482f1d394cd"
       ],
       "layout": "IPY_MODEL_d73d765c7af94074b294d1bcf6a07404"
      }
     },
     "cca5a70b69764d2ca593c10dbc3dda15": {
      "model_module": "@jupyter-widgets/base",
      "model_module_version": "2.0.0",
      "model_name": "LayoutModel",
      "state": {}
     },
     "d59a23e9934c43a4846c2623f90b7298": {
      "model_module": "@jupyter-widgets/controls",
      "model_module_version": "2.0.0",
      "model_name": "HBoxModel",
      "state": {
       "children": [
        "IPY_MODEL_f9839cf57df54728b4fe794fa2d60373",
        "IPY_MODEL_56b7593a477b4a77a91def7d5b481648",
        "IPY_MODEL_ddc3e22f5a694c9ebb4825d5cb67cd2d"
       ],
       "layout": "IPY_MODEL_e29f14fa68b14d1b88dca63ad0c83629"
      }
     },
     "d73d765c7af94074b294d1bcf6a07404": {
      "model_module": "@jupyter-widgets/base",
      "model_module_version": "2.0.0",
      "model_name": "LayoutModel",
      "state": {}
     },
     "dd043cf968fb4c00849c53ac72e55514": {
      "model_module": "@jupyter-widgets/base",
      "model_module_version": "2.0.0",
      "model_name": "LayoutModel",
      "state": {}
     },
     "ddc3e22f5a694c9ebb4825d5cb67cd2d": {
      "model_module": "@jupyter-widgets/controls",
      "model_module_version": "2.0.0",
      "model_name": "HTMLModel",
      "state": {
       "layout": "IPY_MODEL_98ea8ead273b44939ad00c6f0a21b6b3",
       "style": "IPY_MODEL_c2f87f5d3ed04ebcb871033612481c40",
       "value": " 456k/456k [00:00&lt;00:00, 15.3MB/s]"
      }
     },
     "e0f39464c7ce4822bbd1bd03712e042b": {
      "model_module": "@jupyter-widgets/controls",
      "model_module_version": "2.0.0",
      "model_name": "HTMLStyleModel",
      "state": {
       "description_width": "",
       "font_size": null,
       "text_color": null
      }
     },
     "e29f14fa68b14d1b88dca63ad0c83629": {
      "model_module": "@jupyter-widgets/base",
      "model_module_version": "2.0.0",
      "model_name": "LayoutModel",
      "state": {}
     },
     "e6e72d077dd74322838a0ab0bdd25ed0": {
      "model_module": "@jupyter-widgets/controls",
      "model_module_version": "2.0.0",
      "model_name": "HTMLModel",
      "state": {
       "layout": "IPY_MODEL_b00223040ef34c4391a4895258cfaae0",
       "style": "IPY_MODEL_72ec0d4c9c5144ada745d30cae5cf887",
       "value": "config.json: 100%"
      }
     },
     "ebb42adf58e24ff689e80d36c511b407": {
      "model_module": "@jupyter-widgets/controls",
      "model_module_version": "2.0.0",
      "model_name": "FloatProgressModel",
      "state": {
       "bar_style": "success",
       "layout": "IPY_MODEL_449d31299a7b423e9c630da0b00b3b1a",
       "max": 548105171,
       "style": "IPY_MODEL_32f8d0114fe1434bb0f8cdb57d04f7c0",
       "value": 548105171
      }
     },
     "f9839cf57df54728b4fe794fa2d60373": {
      "model_module": "@jupyter-widgets/controls",
      "model_module_version": "2.0.0",
      "model_name": "HTMLModel",
      "state": {
       "layout": "IPY_MODEL_53313f81d4fb4bf4bd00aef86dd4ac8f",
       "style": "IPY_MODEL_afd438eb9544482a9e57cdbde3848f16",
       "value": "merges.txt: 100%"
      }
     }
    },
    "version_major": 2,
    "version_minor": 0
   }
  }
 },
 "nbformat": 4,
 "nbformat_minor": 4
}
