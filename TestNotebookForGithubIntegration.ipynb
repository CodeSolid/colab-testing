{
  "nbformat": 4,
  "nbformat_minor": 0,
  "metadata": {
    "colab": {
      "provenance": [],
      "authorship_tag": "ABX9TyP/wdAp9/Kn+DkG+MslTb2g",
      "include_colab_link": true
    },
    "kernelspec": {
      "name": "python3",
      "display_name": "Python 3"
    },
    "language_info": {
      "name": "python"
    }
  },
  "cells": [
    {
      "cell_type": "markdown",
      "metadata": {
        "id": "view-in-github",
        "colab_type": "text"
      },
      "source": [
        "<a href=\"https://colab.research.google.com/github/CodeSolid/colab-testing/blob/main/TestNotebookForGithubIntegration.ipynb\" target=\"_parent\"><img src=\"https://colab.research.google.com/assets/colab-badge.svg\" alt=\"Open In Colab\"/></a>"
      ]
    },
    {
      "cell_type": "code",
      "execution_count": null,
      "metadata": {
        "id": "cT-DFz1VMJ0V"
      },
      "outputs": [],
      "source": []
    },
    {
      "cell_type": "markdown",
      "source": [
        "# Is this Markdown that you're calling text?\n",
        "* Talks like a duck\n",
        "* Walks like a duck\n",
        "* Is a duck, QED"
      ],
      "metadata": {
        "id": "E4u6_aNiMVC8"
      }
    },
    {
      "cell_type": "code",
      "source": [],
      "metadata": {
        "id": "iCni8tq1MXkK"
      },
      "execution_count": null,
      "outputs": []
    }
  ]
}