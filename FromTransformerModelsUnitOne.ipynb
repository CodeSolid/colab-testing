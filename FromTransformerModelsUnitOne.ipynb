{
 "cells": [
  {
   "cell_type": "markdown",
   "metadata": {
    "colab_type": "text",
    "id": "view-in-github"
   },
   "source": [
    "<a href=\"https://colab.research.google.com/github/CodeSolid/colab-testing/blob/main/TestNotebookForGithubIntegration.ipynb\" target=\"_parent\"><img src=\"https://colab.research.google.com/assets/colab-badge.svg\" alt=\"Open In Colab\"/></a>"
   ]
  },
  {
   "cell_type": "markdown",
   "metadata": {
    "id": "E4u6_aNiMVC8"
   },
   "source": [
    "# Ensure we have what we need."
   ]
  },
  {
   "cell_type": "code",
   "execution_count": 7,
   "metadata": {
    "colab": {
     "base_uri": "https://localhost:8080/"
    },
    "id": "cT-DFz1VMJ0V",
    "outputId": "3ed40fc3-5008-4d90-d730-2ccbf9c670d4"
   },
   "outputs": [],
   "source": [
    "!pip install -q numpy # Should be here, but make sure\n",
    "!pip install -q torch transformers tensorflow tf_keras"
   ]
  },
  {
   "cell_type": "code",
   "execution_count": 8,
   "metadata": {
    "id": "WseqFgrCFp4q"
   },
   "outputs": [],
   "source": [
    "import transformers"
   ]
  },
  {
   "cell_type": "markdown",
   "metadata": {},
   "source": [
    "Now run through some of the basic transformer functionality, largely based on the discussion [here](https://huggingface.co/learn/llm-course/chapter1/3?fw=pt)."
   ]
  },
  {
   "cell_type": "markdown",
   "metadata": {},
   "source": [
    "# Some Sentiment Analysis Examples"
   ]
  },
  {
   "cell_type": "code",
   "execution_count": 57,
   "metadata": {
    "colab": {
     "base_uri": "https://localhost:8080/",
     "height": 373,
     "referenced_widgets": [
      "b9f931592d2e4536a9987aee7a36c633",
      "4988b13ec1ae41d1a526f598f40f26b1",
      "c6be7361c5134d888236a73febe85437",
      "b9b8700e649f4766a85017fa36d33769",
      "4aadbed0521b46d9a5418fa51a9f9251",
      "bc65d55f4db84cac8e02d13d7f172d92",
      "fd1d5f53605a455dbdb12c10fafd7951",
      "a657ce1f597f4cb59b7ad2ccb42118a7",
      "13b3c178c148428a99847c8310713eff",
      "eb7792ddd0894e55ba2b0cdf324e2e8a",
      "626a814ed23b422391b4d0dd92065396",
      "883799898b5e4235aaf8ba0fbac94a70",
      "4f129fd3aae740eaabe696921eb6efcb",
      "b0bf35edfefa40a08cbd91f25c4147ac",
      "b16522342fae465f81a446590eb4d390",
      "336e4a6d9276473db0ba2a17f3d9ced6",
      "6c4f92c2fe1147b5af96ba3ec20b7596",
      "c2b0ee7b8d054c6c992a98ad0a30ef5b",
      "3e1be01498434d3fad89865c1cf52615",
      "82d765a04a5540e79b4d3b9556c0b043",
      "7f84d3d4141d4a13a01ed2045a4e4e5e",
      "e4d0c3159389473bb734edf2083b8f0f",
      "fdbcfab329694b05ae3d5497956e3503",
      "e9ccddd62cc5455dbe36d5d2dba9f14a",
      "d6730cfc442e42149994d65e1affd6a4",
      "8de49999c4754e1499318285e9dfa53d",
      "96adb1c17868434ca82aeb72389272e3",
      "a2507b31832745658f1e1329c5edae7f",
      "8f997af189d141879e1e25f0072f4333",
      "4c2a282830ad4491ba60f3cad225cdc0",
      "911e7495cf2f489ea0a73b0910112992",
      "3f3e65c4c0cf4d868576393fdba266b2",
      "60930e1382c44e8a939012f3bbad86c4",
      "4c5d83f1bedc4548bd8273f9a0665cfb",
      "6fed15acec3f4b04bda75c2a5860736b",
      "93553eb84c19488f98810a0ed0f6ff87",
      "57bfe35f16d5443cbb4dc627eee1d5d0",
      "8d6600f418304647954a0351ab285083",
      "f72445ccb6814b71855ec2f5cbdbd7ff",
      "fc7348d9c6cd48619b6e22f8c5e8af22",
      "9ad5915b5c6d47f0bda47048fb3b7ddd",
      "8dc7ffa871644dbe998cdfe283945622",
      "6a272f8cf5a84b24a327580938a5e20d",
      "25c01365a35246ddbc27beb41c960062"
     ]
    },
    "id": "iQB8aFRv6N7u",
    "outputId": "332ec43d-fd74-4331-8c42-df64180b6b09"
   },
   "outputs": [
    {
     "name": "stderr",
     "output_type": "stream",
     "text": [
      "Device set to use mps:0\n"
     ]
    },
    {
     "name": "stdout",
     "output_type": "stream",
     "text": [
      "[{'label': 'POSITIVE', 'score': 0.9996805191040039}]\n",
      "<class 'list'> <class 'dict'>\n"
     ]
    }
   ],
   "source": [
    "# A brief Transformers demo cf. https://huggingface.co/learn/llm-course/chapter1/3?fw=pt\n",
    "\n",
    "from transformers import pipeline\n",
    "\n",
    "classifier = pipeline(\"sentiment-analysis\", model=\"distilbert/distilbert-base-uncased-finetuned-sst-2-english\")\n",
    "results = classifier(\"We are incredibly excited show you the Transformers library.\", mps=0)\n",
    "print(results)\n",
    "print(type(results), type(results[0]))\n"
   ]
  },
  {
   "cell_type": "code",
   "execution_count": 10,
   "metadata": {
    "id": "KFj1GEaC6Nm2"
   },
   "outputs": [
    {
     "name": "stdout",
     "output_type": "stream",
     "text": [
      "{'label': 'POSITIVE', 'score': 0.9998612403869629}\n",
      "{'label': 'NEGATIVE', 'score': 0.9994088411331177}\n",
      "{'label': 'POSITIVE', 'score': 0.9980136156082153}\n"
     ]
    }
   ],
   "source": [
    "sentence_list = [\"HuggingFace is awesome!\", \"I can't stand this soup!  It's disgusting\", \"I am curious about chimps\"]\n",
    "\n",
    "results = classifier(sentence_list)\n",
    "for result in results:\n",
    "    print(result)"
   ]
  },
  {
   "cell_type": "code",
   "execution_count": null,
   "metadata": {},
   "outputs": [],
   "source": [
    "# Embeddings\n",
    "Extracting embeddings"
   ]
  },
  {
   "cell_type": "code",
   "execution_count": 14,
   "metadata": {},
   "outputs": [
    {
     "name": "stderr",
     "output_type": "stream",
     "text": [
      "Device set to use mps:0\n"
     ]
    },
    {
     "name": "stdout",
     "output_type": "stream",
     "text": [
      "----\n",
      "(1, 6, 768)\n",
      "----\n",
      "(1, 11, 768)\n",
      "----\n",
      "(1, 6, 768)\n"
     ]
    }
   ],
   "source": [
    "# Try our hand at some embedding:\n",
    "embedder = pipeline(\"feature-extraction\", model=\"openai-community/gpt2\")\n",
    "results = embedder(sentence_list)\n",
    "import numpy as np\n",
    "for result in results:\n",
    "    print(\"----\")\n",
    "    data = np.array(result)\n",
    "    print(data.shape)"
   ]
  },
  {
   "cell_type": "code",
   "execution_count": 15,
   "metadata": {},
   "outputs": [
    {
     "name": "stdout",
     "output_type": "stream",
     "text": [
      "[[48098, 2667, 32388, 318, 7427, 0], [40, 460, 470, 1302, 428, 17141, 0, 220, 632, 338, 23374], [40, 716, 11040, 546, 18205, 862]]\n"
     ]
    }
   ],
   "source": [
    "from transformers import AutoTokenizer\n",
    "tokenizer = AutoTokenizer.from_pretrained(\"openai-community/gpt2\")\n",
    "sentence_embeddings = []\n",
    "for sentence in sentence_list:\n",
    "    token_ids = tokenizer(sentence).input_ids\n",
    "    sentence_embeddings.append(token_ids)\n",
    "print(sentence_embeddings)"
   ]
  },
  {
   "cell_type": "code",
   "execution_count": 58,
   "metadata": {},
   "outputs": [
    {
     "name": "stderr",
     "output_type": "stream",
     "text": [
      "No model was supplied, defaulted to dbmdz/bert-large-cased-finetuned-conll03-english and revision 4c53496 (https://huggingface.co/dbmdz/bert-large-cased-finetuned-conll03-english).\n",
      "Using a pipeline without specifying a model name and revision in production is not recommended.\n"
     ]
    },
    {
     "data": {
      "application/vnd.jupyter.widget-view+json": {
       "model_id": "c3135aa34e8e40e69deac50b903ad81f",
       "version_major": 2,
       "version_minor": 0
      },
      "text/plain": [
       "config.json:   0%|          | 0.00/998 [00:00<?, ?B/s]"
      ]
     },
     "metadata": {},
     "output_type": "display_data"
    },
    {
     "name": "stderr",
     "output_type": "stream",
     "text": [
      "Xet Storage is enabled for this repo, but the 'hf_xet' package is not installed. Falling back to regular HTTP download. For better performance, install the package with: `pip install huggingface_hub[hf_xet]` or `pip install hf_xet`\n"
     ]
    },
    {
     "data": {
      "application/vnd.jupyter.widget-view+json": {
       "model_id": "dc344766ce4944e2994236d008ccc252",
       "version_major": 2,
       "version_minor": 0
      },
      "text/plain": [
       "model.safetensors:   0%|          | 0.00/1.33G [00:00<?, ?B/s]"
      ]
     },
     "metadata": {},
     "output_type": "display_data"
    },
    {
     "name": "stderr",
     "output_type": "stream",
     "text": [
      "Some weights of the model checkpoint at dbmdz/bert-large-cased-finetuned-conll03-english were not used when initializing BertForTokenClassification: ['bert.pooler.dense.bias', 'bert.pooler.dense.weight']\n",
      "- This IS expected if you are initializing BertForTokenClassification from the checkpoint of a model trained on another task or with another architecture (e.g. initializing a BertForSequenceClassification model from a BertForPreTraining model).\n",
      "- This IS NOT expected if you are initializing BertForTokenClassification from the checkpoint of a model that you expect to be exactly identical (initializing a BertForSequenceClassification model from a BertForSequenceClassification model).\n"
     ]
    },
    {
     "data": {
      "application/vnd.jupyter.widget-view+json": {
       "model_id": "a3ef13f35bb14357b3de840b697534a8",
       "version_major": 2,
       "version_minor": 0
      },
      "text/plain": [
       "tokenizer_config.json:   0%|          | 0.00/60.0 [00:00<?, ?B/s]"
      ]
     },
     "metadata": {},
     "output_type": "display_data"
    },
    {
     "data": {
      "application/vnd.jupyter.widget-view+json": {
       "model_id": "fd0a86b54379401e835a239247b2889c",
       "version_major": 2,
       "version_minor": 0
      },
      "text/plain": [
       "vocab.txt:   0%|          | 0.00/213k [00:00<?, ?B/s]"
      ]
     },
     "metadata": {},
     "output_type": "display_data"
    },
    {
     "name": "stderr",
     "output_type": "stream",
     "text": [
      "Device set to use mps:0\n"
     ]
    },
    {
     "data": {
      "text/plain": [
       "[{'entity_group': 'PER',\n",
       "  'score': np.float32(0.99875915),\n",
       "  'word': 'John',\n",
       "  'start': 11,\n",
       "  'end': 15},\n",
       " {'entity_group': 'PER',\n",
       "  'score': np.float32(0.99015516),\n",
       "  'word': 'Jenniffer',\n",
       "  'start': 35,\n",
       "  'end': 44},\n",
       " {'entity_group': 'LOC',\n",
       "  'score': np.float32(0.99624443),\n",
       "  'word': 'Charlotte',\n",
       "  'start': 61,\n",
       "  'end': 70}]"
      ]
     },
     "execution_count": 58,
     "metadata": {},
     "output_type": "execute_result"
    }
   ],
   "source": [
    "from transformers import pipeline\n",
    "\n",
    "ner = pipeline(\"ner\", grouped_entities=True)\n",
    "ner(\"My name is John and I'm married to Jenniffer, and we live in Charlotte.\")"
   ]
  },
  {
   "cell_type": "markdown",
   "metadata": {},
   "source": [
    "## Decoding\n",
    "\n",
    "Here we decode the tokens. By printing an extra space we can show that tokens != words."
   ]
  },
  {
   "cell_type": "code",
   "execution_count": 26,
   "metadata": {},
   "outputs": [
    {
     "name": "stdout",
     "output_type": "stream",
     "text": [
      "Hug ging Face  is  awesome ! \n",
      "I  can 't  stand  this  soup !    It 's  disgusting \n",
      "I  am  curious  about  chim ps \n"
     ]
    }
   ],
   "source": [
    "for s in sentence_embeddings:\n",
    "    for tok in s:\n",
    "        print(tokenizer.decode(tok), end=\" \")\n",
    "        \n",
    "    print()"
   ]
  },
  {
   "cell_type": "code",
   "execution_count": 23,
   "metadata": {},
   "outputs": [
    {
     "data": {
      "text/plain": [
       "50257"
      ]
     },
     "execution_count": 23,
     "metadata": {},
     "output_type": "execute_result"
    }
   ],
   "source": [
    "# Speaking of tokens, \n",
    "tokenizer.vocab_size"
   ]
  },
  {
   "cell_type": "markdown",
   "metadata": {},
   "source": [
    "## Some random text generation."
   ]
  },
  {
   "cell_type": "code",
   "execution_count": null,
   "metadata": {},
   "outputs": [],
   "source": [
    "from transformers import pipeline\n",
    "\n",
    "generator = pipeline(\"text-generation\", model=\"distilgpt2\")\n",
    "generator(\n",
    "    \"The day began\",\n",
    "    max_length=30,\n",
    "    num_return_sequences=2,\n",
    ")"
   ]
  },
  {
   "cell_type": "markdown",
   "metadata": {},
   "source": [
    "## And fill in the blanks"
   ]
  },
  {
   "cell_type": "code",
   "execution_count": 54,
   "metadata": {},
   "outputs": [
    {
     "name": "stderr",
     "output_type": "stream",
     "text": [
      "Some weights of the model checkpoint at distilbert/distilroberta-base were not used when initializing RobertaForMaskedLM: ['roberta.pooler.dense.bias', 'roberta.pooler.dense.weight']\n",
      "- This IS expected if you are initializing RobertaForMaskedLM from the checkpoint of a model trained on another task or with another architecture (e.g. initializing a BertForSequenceClassification model from a BertForPreTraining model).\n",
      "- This IS NOT expected if you are initializing RobertaForMaskedLM from the checkpoint of a model that you expect to be exactly identical (initializing a BertForSequenceClassification model from a BertForSequenceClassification model).\n",
      "Device set to use mps:0\n"
     ]
    },
    {
     "data": {
      "text/plain": [
       "[{'score': 0.1919156312942505,\n",
       "  'token': 3116,\n",
       "  'token_str': ' write',\n",
       "  'sequence': 'I love to write in my spare time.'},\n",
       " {'score': 0.055325016379356384,\n",
       "  'token': 1166,\n",
       "  'token_str': ' read',\n",
       "  'sequence': 'I love to read in my spare time.'},\n",
       " {'score': 0.035565681755542755,\n",
       "  'token': 7142,\n",
       "  'token_str': ' cook',\n",
       "  'sequence': 'I love to cook in my spare time.'}]"
      ]
     },
     "execution_count": 54,
     "metadata": {},
     "output_type": "execute_result"
    }
   ],
   "source": [
    "import warnings\n",
    "warnings.filterwarnings('ignore')\n",
    "warnings.simplefilter('ignore')\n",
    "unmasker = pipeline(\"fill-mask\", \"distilbert/distilroberta-base\")\n",
    "unmasker(\"I love to <mask> in my spare time.\", top_k=3)"
   ]
  },
  {
   "cell_type": "code",
   "execution_count": 66,
   "metadata": {},
   "outputs": [
    {
     "name": "stderr",
     "output_type": "stream",
     "text": [
      "Some weights of the model checkpoint at dslim/bert-base-NER were not used when initializing BertForTokenClassification: ['bert.pooler.dense.bias', 'bert.pooler.dense.weight']\n",
      "- This IS expected if you are initializing BertForTokenClassification from the checkpoint of a model trained on another task or with another architecture (e.g. initializing a BertForSequenceClassification model from a BertForPreTraining model).\n",
      "- This IS NOT expected if you are initializing BertForTokenClassification from the checkpoint of a model that you expect to be exactly identical (initializing a BertForSequenceClassification model from a BertForSequenceClassification model).\n",
      "Device set to use mps:0\n"
     ]
    },
    {
     "data": {
      "text/plain": [
       "[{'entity_group': 'PER',\n",
       "  'score': np.float32(0.9986285),\n",
       "  'word': 'John',\n",
       "  'start': 11,\n",
       "  'end': 15},\n",
       " {'entity_group': 'LOC',\n",
       "  'score': np.float32(0.9949582),\n",
       "  'word': 'Charlotte',\n",
       "  'start': 31,\n",
       "  'end': 40},\n",
       " {'entity_group': 'PER',\n",
       "  'score': np.float32(0.9989145),\n",
       "  'word': 'Jennifer',\n",
       "  'start': 55,\n",
       "  'end': 63}]"
      ]
     },
     "execution_count": 66,
     "metadata": {},
     "output_type": "execute_result"
    }
   ],
   "source": [
    "from transformers import pipeline\n",
    "\n",
    "pos_tagging = \"TweebankNLP/bertweet-tb2-pos-tagging\"\n",
    "ner_tagging = \"dslim/bert-base-NER\"\n",
    "model_name = ner_tagging\n",
    "\n",
    "ner = pipeline(\"ner\", model=model_name, grouped_entities=True)\n",
    "# My wife's name is actually \"Jenniffer\", but that confuses the model :(\n",
    "ner(\"My name is John, and I live in Charlotte with my wife, Jennifer.\")"
   ]
  },
  {
   "cell_type": "code",
   "execution_count": 70,
   "metadata": {},
   "outputs": [
    {
     "name": "stderr",
     "output_type": "stream",
     "text": [
      "Some weights of the model checkpoint at bert-base-cased were not used when initializing BertForMaskedLM: ['bert.pooler.dense.bias', 'bert.pooler.dense.weight', 'cls.seq_relationship.bias', 'cls.seq_relationship.weight']\n",
      "- This IS expected if you are initializing BertForMaskedLM from the checkpoint of a model trained on another task or with another architecture (e.g. initializing a BertForSequenceClassification model from a BertForPreTraining model).\n",
      "- This IS NOT expected if you are initializing BertForMaskedLM from the checkpoint of a model that you expect to be exactly identical (initializing a BertForSequenceClassification model from a BertForSequenceClassification model).\n",
      "Device set to use mps:0\n"
     ]
    },
    {
     "data": {
      "text/plain": [
       "[{'score': 0.09050454199314117,\n",
       "  'token': 1299,\n",
       "  'token_str': 'man',\n",
       "  'sequence': 'This man has been waiting for you.'},\n",
       " {'score': 0.07195105403661728,\n",
       "  'token': 1282,\n",
       "  'token_str': 'place',\n",
       "  'sequence': 'This place has been waiting for you.'},\n",
       " {'score': 0.055770039558410645,\n",
       "  'token': 1362,\n",
       "  'token_str': 'world',\n",
       "  'sequence': 'This world has been waiting for you.'},\n",
       " {'score': 0.04573364928364754,\n",
       "  'token': 1141,\n",
       "  'token_str': 'one',\n",
       "  'sequence': 'This one has been waiting for you.'},\n",
       " {'score': 0.03509213402867317,\n",
       "  'token': 1590,\n",
       "  'token_str': 'woman',\n",
       "  'sequence': 'This woman has been waiting for you.'}]"
      ]
     },
     "execution_count": 70,
     "metadata": {},
     "output_type": "execute_result"
    }
   ],
   "source": [
    "from transformers import pipeline\n",
    "\n",
    "filler = pipeline(\"fill-mask\", model=\"bert-base-cased\")\n",
    "result = filler(\"This [MASK] has been waiting for you.\")\n",
    "result"
   ]
  },
  {
   "cell_type": "code",
   "execution_count": 76,
   "metadata": {},
   "outputs": [
    {
     "name": "stderr",
     "output_type": "stream",
     "text": [
      "Device set to use mps:0\n"
     ]
    },
    {
     "data": {
      "text/plain": [
       "{'sequence': 'This is a course about the Transformers library',\n",
       " 'labels': ['education', 'food'],\n",
       " 'scores': [0.9308226108551025, 0.06917736679315567]}"
      ]
     },
     "execution_count": 76,
     "metadata": {},
     "output_type": "execute_result"
    }
   ],
   "source": [
    "from transformers import pipeline\n",
    "\n",
    "classifier = pipeline(\"zero-shot-classification\", model=\"facebook/bart-large-mnli\")\n",
    "result = classifier(\"This is a course about the Transformers library\", candidate_labels=[\"education\", \"food\"])\n",
    "# or\n",
    "# result = classifier(\"This is a course about the Transformers library\", [\"education\", \"food\"])\n",
    "result"
   ]
  },
  {
   "cell_type": "code",
   "execution_count": null,
   "metadata": {},
   "outputs": [],
   "source": []
  }
 ],
 "metadata": {
  "colab": {
   "include_colab_link": true,
   "provenance": []
  },
  "kernelspec": {
   "display_name": "Python 3 (ipykernel)",
   "language": "python",
   "name": "python3"
  },
  "language_info": {
   "codemirror_mode": {
    "name": "ipython",
    "version": 3
   },
   "file_extension": ".py",
   "mimetype": "text/x-python",
   "name": "python",
   "nbconvert_exporter": "python",
   "pygments_lexer": "ipython3",
   "version": "3.12.10"
  },
  "widgets": {
   "application/vnd.jupyter.widget-state+json": {
    "state": {
     "0025e01c3ddc40718f27555f6c7babe5": {
      "model_module": "@jupyter-widgets/controls",
      "model_module_version": "2.0.0",
      "model_name": "HTMLModel",
      "state": {
       "layout": "IPY_MODEL_42647776feba45a386f4b8534e06507d",
       "style": "IPY_MODEL_a26963f297954eb4b3d77fbbf2b91351",
       "value": "added_tokens.json: 100%"
      }
     },
     "00d9dcc789244da5b7285abcc28c5f4e": {
      "model_module": "@jupyter-widgets/base",
      "model_module_version": "2.0.0",
      "model_name": "LayoutModel",
      "state": {}
     },
     "012accd5641143fa9b0ef728c31609b3": {
      "model_module": "@jupyter-widgets/base",
      "model_module_version": "2.0.0",
      "model_name": "LayoutModel",
      "state": {}
     },
     "01c330823e5447cb9f7cf7885447b452": {
      "model_module": "@jupyter-widgets/controls",
      "model_module_version": "2.0.0",
      "model_name": "HTMLModel",
      "state": {
       "layout": "IPY_MODEL_bc74e1a8e5ab4d16be461cbff547cec5",
       "style": "IPY_MODEL_79b9fdc7738b4e719e095348caf0c6c8",
       "value": " 1.36M/1.36M [00:00&lt;00:00, 43.3MB/s]"
      }
     },
     "02520a1b5ac6447f8b371e1d01b3c763": {
      "model_module": "@jupyter-widgets/controls",
      "model_module_version": "2.0.0",
      "model_name": "FloatProgressModel",
      "state": {
       "bar_style": "success",
       "layout": "IPY_MODEL_129ca59d5ed846d4be40f44d81a6c89a",
       "max": 456318,
       "style": "IPY_MODEL_e9cff02b69f5406fbd05c5bd4511e44b",
       "value": 456318
      }
     },
     "028865b3095648e5a6595bd2cb0ea85a": {
      "model_module": "@jupyter-widgets/controls",
      "model_module_version": "2.0.0",
      "model_name": "HTMLStyleModel",
      "state": {
       "description_width": "",
       "font_size": null,
       "text_color": null
      }
     },
     "034a9d2805814d52bda411d4aff19c3e": {
      "model_module": "@jupyter-widgets/controls",
      "model_module_version": "2.0.0",
      "model_name": "HTMLStyleModel",
      "state": {
       "description_width": "",
       "font_size": null,
       "text_color": null
      }
     },
     "0372b6a8d55240f29170bca605239f28": {
      "model_module": "@jupyter-widgets/base",
      "model_module_version": "2.0.0",
      "model_name": "LayoutModel",
      "state": {}
     },
     "0389ed918055447a816ac28a3d435da6": {
      "model_module": "@jupyter-widgets/controls",
      "model_module_version": "2.0.0",
      "model_name": "ProgressStyleModel",
      "state": {
       "description_width": ""
      }
     },
     "03e2d7bbcc824efc95ded18cd2b5e1a9": {
      "model_module": "@jupyter-widgets/base",
      "model_module_version": "2.0.0",
      "model_name": "LayoutModel",
      "state": {}
     },
     "03f42213a49f4ea686f3db0d7a7d75e7": {
      "model_module": "@jupyter-widgets/controls",
      "model_module_version": "2.0.0",
      "model_name": "HTMLModel",
      "state": {
       "layout": "IPY_MODEL_93188018d73f4ce1b873e24a14d4a39e",
       "style": "IPY_MODEL_57bf3948dc8a4b61837c5097d8e9afc3",
       "value": " 232k/232k [00:00&lt;00:00, 12.9MB/s]"
      }
     },
     "04de778b3b244c919d6660221a6aaa2a": {
      "model_module": "@jupyter-widgets/controls",
      "model_module_version": "2.0.0",
      "model_name": "HTMLStyleModel",
      "state": {
       "description_width": "",
       "font_size": null,
       "text_color": null
      }
     },
     "052c4bd3bf674003af08ff2b9e4ed2c9": {
      "model_module": "@jupyter-widgets/base",
      "model_module_version": "2.0.0",
      "model_name": "LayoutModel",
      "state": {}
     },
     "05e2cb33ddcb4943a53fe3a235dd7bb0": {
      "model_module": "@jupyter-widgets/controls",
      "model_module_version": "2.0.0",
      "model_name": "HTMLStyleModel",
      "state": {
       "description_width": "",
       "font_size": null,
       "text_color": null
      }
     },
     "064591558405460cae5ecb66214f792e": {
      "model_module": "@jupyter-widgets/base",
      "model_module_version": "2.0.0",
      "model_name": "LayoutModel",
      "state": {}
     },
     "07467a56eb7c4cae81489dbddaac7d73": {
      "model_module": "@jupyter-widgets/controls",
      "model_module_version": "2.0.0",
      "model_name": "HTMLStyleModel",
      "state": {
       "description_width": "",
       "font_size": null,
       "text_color": null
      }
     },
     "091511cee0714c20bb0a6590baa6df25": {
      "model_module": "@jupyter-widgets/controls",
      "model_module_version": "2.0.0",
      "model_name": "HTMLStyleModel",
      "state": {
       "description_width": "",
       "font_size": null,
       "text_color": null
      }
     },
     "094ec27985fa47d497f9a02da4e71dc8": {
      "model_module": "@jupyter-widgets/base",
      "model_module_version": "2.0.0",
      "model_name": "LayoutModel",
      "state": {}
     },
     "0988411622b848b09017dfb17ed90b8b": {
      "model_module": "@jupyter-widgets/controls",
      "model_module_version": "2.0.0",
      "model_name": "HTMLStyleModel",
      "state": {
       "description_width": "",
       "font_size": null,
       "text_color": null
      }
     },
     "09e1bc1919594aa49f615e9e801366ad": {
      "model_module": "@jupyter-widgets/controls",
      "model_module_version": "2.0.0",
      "model_name": "HTMLStyleModel",
      "state": {
       "description_width": "",
       "font_size": null,
       "text_color": null
      }
     },
     "09f92597e25f4d949dfe52919318d0a7": {
      "model_module": "@jupyter-widgets/base",
      "model_module_version": "2.0.0",
      "model_name": "LayoutModel",
      "state": {}
     },
     "0a20083c16214b77b52d8bda646ddc30": {
      "model_module": "@jupyter-widgets/base",
      "model_module_version": "2.0.0",
      "model_name": "LayoutModel",
      "state": {}
     },
     "0b17beb344544a9f9dd53f13d1b34948": {
      "model_module": "@jupyter-widgets/controls",
      "model_module_version": "2.0.0",
      "model_name": "HBoxModel",
      "state": {
       "children": [
        "IPY_MODEL_7a97b890fb96410fb7110c64c80a7515",
        "IPY_MODEL_d11533f245f74b659e86184c18d8ac13",
        "IPY_MODEL_e75fd2d4bcfc493797a38ff38b8caf2e"
       ],
       "layout": "IPY_MODEL_d135e982fa0640ac9d89875d12da5d4f"
      }
     },
     "0b22fd3e56474da7af71c276fbecae7b": {
      "model_module": "@jupyter-widgets/controls",
      "model_module_version": "2.0.0",
      "model_name": "HBoxModel",
      "state": {
       "children": [
        "IPY_MODEL_698d1f891c1d4e0094976fc5517837a4",
        "IPY_MODEL_460567645b154021820505082d4c1d49",
        "IPY_MODEL_a82af959a7ae43f296fab24009a0ae40"
       ],
       "layout": "IPY_MODEL_7c67c862a3924bb69a158ffb3a15ea39"
      }
     },
     "0b47f5191a4f42259d3bbfae8db747e8": {
      "model_module": "@jupyter-widgets/base",
      "model_module_version": "2.0.0",
      "model_name": "LayoutModel",
      "state": {}
     },
     "0b8576a8476748f3ab9b5cff18991f6d": {
      "model_module": "@jupyter-widgets/controls",
      "model_module_version": "2.0.0",
      "model_name": "HBoxModel",
      "state": {
       "children": [
        "IPY_MODEL_3ee8e6f592d84f4f9d506b9c5a0697b9",
        "IPY_MODEL_ffb27b160e0a4e98b4d47d1f96d42d8e",
        "IPY_MODEL_23e0ef07dc14499d9a02b2e6bfebf56a"
       ],
       "layout": "IPY_MODEL_7b1caff74e594e09b9db42a19a5963f6"
      }
     },
     "0b9820fe3c1d400b82f0d0296482dcac": {
      "model_module": "@jupyter-widgets/controls",
      "model_module_version": "2.0.0",
      "model_name": "FloatProgressModel",
      "state": {
       "bar_style": "success",
       "layout": "IPY_MODEL_cd090ab725554d8cb4d2ec82cb6e2006",
       "max": 1334400964,
       "style": "IPY_MODEL_575a4454c42844e9827cd7df76491822",
       "value": 1334400964
      }
     },
     "0c201f45d42c4d99be1d72957bd61661": {
      "model_module": "@jupyter-widgets/controls",
      "model_module_version": "2.0.0",
      "model_name": "HTMLModel",
      "state": {
       "layout": "IPY_MODEL_62948db2901346118e7880e21fa16237",
       "style": "IPY_MODEL_5830b5011cfe4e2eade3cfe14d75e036",
       "value": " 1.35k/1.35k [00:00&lt;00:00, 491kB/s]"
      }
     },
     "0c2316e1d3ca4bd1b49cfeb4e98e6908": {
      "model_module": "@jupyter-widgets/controls",
      "model_module_version": "2.0.0",
      "model_name": "HTMLModel",
      "state": {
       "layout": "IPY_MODEL_27527599a4a843b980e77907e8c54b9e",
       "style": "IPY_MODEL_205a179de21940bc8b3e6ace335d9758",
       "value": "config.json: 100%"
      }
     },
     "0c33ae2877fb4a849dad7f24a9a1b666": {
      "model_module": "@jupyter-widgets/base",
      "model_module_version": "2.0.0",
      "model_name": "LayoutModel",
      "state": {}
     },
     "0cf990cbd2304f5aabdf89ae1c695778": {
      "model_module": "@jupyter-widgets/controls",
      "model_module_version": "2.0.0",
      "model_name": "HBoxModel",
      "state": {
       "children": [
        "IPY_MODEL_4ffd7345688b46bf8e1a64d5b02bab7e",
        "IPY_MODEL_576cbd2c7ace42e9844621b881f20d25",
        "IPY_MODEL_a68271525d304ee6b779a91c8ffac990"
       ],
       "layout": "IPY_MODEL_9e50bd2f88f44665aa26db6d743dc122"
      }
     },
     "0d3990d4ceb74591a82797b98c44ea3d": {
      "model_module": "@jupyter-widgets/controls",
      "model_module_version": "2.0.0",
      "model_name": "FloatProgressModel",
      "state": {
       "bar_style": "success",
       "layout": "IPY_MODEL_9c2819da9c064127b21b09db7a8ce09c",
       "max": 267954768,
       "style": "IPY_MODEL_5abbf928d6934ba29f829e4f7354547f",
       "value": 267954768
      }
     },
     "0d686b2d9b5c4b3a8754344e171537a6": {
      "model_module": "@jupyter-widgets/base",
      "model_module_version": "2.0.0",
      "model_name": "LayoutModel",
      "state": {}
     },
     "0df4ef1cfbc3432499de9cd46d5a3d30": {
      "model_module": "@jupyter-widgets/controls",
      "model_module_version": "2.0.0",
      "model_name": "HTMLModel",
      "state": {
       "layout": "IPY_MODEL_ce306f17d1cd4d46ad0f65c048f241a3",
       "style": "IPY_MODEL_938b8add5b644d9fb75297fa2593f258",
       "value": " 331M/331M [00:05&lt;00:00, 64.0MB/s]"
      }
     },
     "0e19e7a9b84e47d387d7047f8387706b": {
      "model_module": "@jupyter-widgets/base",
      "model_module_version": "2.0.0",
      "model_name": "LayoutModel",
      "state": {}
     },
     "0ea5112990204df8be41ea45f95ec549": {
      "model_module": "@jupyter-widgets/base",
      "model_module_version": "2.0.0",
      "model_name": "LayoutModel",
      "state": {}
     },
     "0ebe31695cac4948bcb76260889ebd06": {
      "model_module": "@jupyter-widgets/controls",
      "model_module_version": "2.0.0",
      "model_name": "HTMLModel",
      "state": {
       "layout": "IPY_MODEL_61c45057bca34a46bd45220ec082e1b9",
       "style": "IPY_MODEL_db3d0f8872664610ad1e239a2c94e2ed",
       "value": " 26.0/26.0 [00:00&lt;00:00, 9.48kB/s]"
      }
     },
     "0fc5bd7d902d4d3c8a41796132b9529a": {
      "model_module": "@jupyter-widgets/controls",
      "model_module_version": "2.0.0",
      "model_name": "HTMLStyleModel",
      "state": {
       "description_width": "",
       "font_size": null,
       "text_color": null
      }
     },
     "0fd7279cc10b4f1b850b854219ae146e": {
      "model_module": "@jupyter-widgets/base",
      "model_module_version": "2.0.0",
      "model_name": "LayoutModel",
      "state": {}
     },
     "104220e3ad5c41bc8316900976710cc2": {
      "model_module": "@jupyter-widgets/controls",
      "model_module_version": "2.0.0",
      "model_name": "HTMLModel",
      "state": {
       "layout": "IPY_MODEL_3e73b927c2fc449eb97a8b1a244d1363",
       "style": "IPY_MODEL_970fc32d1dc84a83ac52cfc6a373e56e",
       "value": "tokenizer_config.json: 100%"
      }
     },
     "10a78ddc1b52463dbd98ea721ca345f1": {
      "model_module": "@jupyter-widgets/controls",
      "model_module_version": "2.0.0",
      "model_name": "FloatProgressModel",
      "state": {
       "bar_style": "success",
       "layout": "IPY_MODEL_2ce279096dfa48bf84989ea085d31b2a",
       "max": 537314860,
       "style": "IPY_MODEL_4eea43ad830844dd8b298eaf33f461f5",
       "value": 537314860
      }
     },
     "10b4f125612b4eceb190bb853893db53": {
      "model_module": "@jupyter-widgets/controls",
      "model_module_version": "2.0.0",
      "model_name": "ProgressStyleModel",
      "state": {
       "description_width": ""
      }
     },
     "113c12b3a88f4487bed6c80ff8223897": {
      "model_module": "@jupyter-widgets/controls",
      "model_module_version": "2.0.0",
      "model_name": "HTMLModel",
      "state": {
       "layout": "IPY_MODEL_f783fe5b3e864afea65db59e28349c9d",
       "style": "IPY_MODEL_66f857ebc16b46daac179342a7d421f7",
       "value": "model.safetensors: 100%"
      }
     },
     "11a85b74c9814a4aaa409aff9e4a3d2b": {
      "model_module": "@jupyter-widgets/controls",
      "model_module_version": "2.0.0",
      "model_name": "HTMLModel",
      "state": {
       "layout": "IPY_MODEL_da5c4ea90acd4f4592371338c633915e",
       "style": "IPY_MODEL_21ff0e9b3edb4439bc6ded1b2b6de09e",
       "value": " 112/112 [00:00&lt;00:00, 16.0kB/s]"
      }
     },
     "129ca59d5ed846d4be40f44d81a6c89a": {
      "model_module": "@jupyter-widgets/base",
      "model_module_version": "2.0.0",
      "model_name": "LayoutModel",
      "state": {}
     },
     "12d66024bc0b460b84a6af55cf6afc1f": {
      "model_module": "@jupyter-widgets/controls",
      "model_module_version": "2.0.0",
      "model_name": "ProgressStyleModel",
      "state": {
       "description_width": ""
      }
     },
     "12fc47a501fe46f49458f959f3d5236f": {
      "model_module": "@jupyter-widgets/controls",
      "model_module_version": "2.0.0",
      "model_name": "HTMLModel",
      "state": {
       "layout": "IPY_MODEL_e727983eaca54414be3c10d23aeffb78",
       "style": "IPY_MODEL_a10cecbff3a64bc8b9bbdeaa7c877dd0",
       "value": " 466k/466k [00:00&lt;00:00, 28.5MB/s]"
      }
     },
     "134083fd5305443ca0ce3b03507c81f5": {
      "model_module": "@jupyter-widgets/base",
      "model_module_version": "2.0.0",
      "model_name": "LayoutModel",
      "state": {}
     },
     "139c1e11eb534fb08c40f9b3a1ce17e0": {
      "model_module": "@jupyter-widgets/controls",
      "model_module_version": "2.0.0",
      "model_name": "HTMLStyleModel",
      "state": {
       "description_width": "",
       "font_size": null,
       "text_color": null
      }
     },
     "13bbd4fae7aa4489b14c38c84220fdc8": {
      "model_module": "@jupyter-widgets/controls",
      "model_module_version": "2.0.0",
      "model_name": "HTMLStyleModel",
      "state": {
       "description_width": "",
       "font_size": null,
       "text_color": null
      }
     },
     "145e6421441446d98779eb8a38b9860f": {
      "model_module": "@jupyter-widgets/base",
      "model_module_version": "2.0.0",
      "model_name": "LayoutModel",
      "state": {}
     },
     "1469d4586740475c8414d759aafe3ac0": {
      "model_module": "@jupyter-widgets/controls",
      "model_module_version": "2.0.0",
      "model_name": "FloatProgressModel",
      "state": {
       "bar_style": "success",
       "layout": "IPY_MODEL_e9ae54cc419b4c6d9c4a9ffc2045e011",
       "max": 629,
       "style": "IPY_MODEL_3edee2e0f32d4d4fac045720a920da6b",
       "value": 629
      }
     },
     "14a7c66cbc304e389828fe53f28789a6": {
      "model_module": "@jupyter-widgets/controls",
      "model_module_version": "2.0.0",
      "model_name": "HTMLStyleModel",
      "state": {
       "description_width": "",
       "font_size": null,
       "text_color": null
      }
     },
     "150ac6ba957f4c7d90026edc04227a6b": {
      "model_module": "@jupyter-widgets/controls",
      "model_module_version": "2.0.0",
      "model_name": "HBoxModel",
      "state": {
       "children": [
        "IPY_MODEL_649d330980cc4f04a7c35464ca525751",
        "IPY_MODEL_63f051c28e7a481988bb92cb0f0336fc",
        "IPY_MODEL_df89bb3e48f143909d75a74400393c82"
       ],
       "layout": "IPY_MODEL_51b36b4742b5408e9ab5d1cb7f7e989f"
      }
     },
     "1527ae3337c94e2fb1d4e599e704027b": {
      "model_module": "@jupyter-widgets/controls",
      "model_module_version": "2.0.0",
      "model_name": "HTMLStyleModel",
      "state": {
       "description_width": "",
       "font_size": null,
       "text_color": null
      }
     },
     "153486e4b8cc44bab5b625f4c2947ec7": {
      "model_module": "@jupyter-widgets/controls",
      "model_module_version": "2.0.0",
      "model_name": "HTMLStyleModel",
      "state": {
       "description_width": "",
       "font_size": null,
       "text_color": null
      }
     },
     "15ff76af6a9740308d5b9998f385bb33": {
      "model_module": "@jupyter-widgets/controls",
      "model_module_version": "2.0.0",
      "model_name": "HTMLModel",
      "state": {
       "layout": "IPY_MODEL_f2b974db718f4539a62f284e2a3a71e2",
       "style": "IPY_MODEL_4d7d075b4a65450c9457d0e37e22bc6d",
       "value": "tokenizer_config.json: 100%"
      }
     },
     "16591aab394f40f8b9856ce2c8b2a368": {
      "model_module": "@jupyter-widgets/base",
      "model_module_version": "2.0.0",
      "model_name": "LayoutModel",
      "state": {}
     },
     "17c7c7ec0a8444d2b1c6d851ac35ee10": {
      "model_module": "@jupyter-widgets/controls",
      "model_module_version": "2.0.0",
      "model_name": "HTMLModel",
      "state": {
       "layout": "IPY_MODEL_ad0c536cc8054fc792ee40d9fd0dca04",
       "style": "IPY_MODEL_3722117d465547e7869b101f174fbb96",
       "value": " 456k/456k [00:00&lt;00:00, 12.8MB/s]"
      }
     },
     "18e5e5e1c8754a1786aa4b0144cc31d3": {
      "model_module": "@jupyter-widgets/base",
      "model_module_version": "2.0.0",
      "model_name": "LayoutModel",
      "state": {}
     },
     "197c4530b3904f9c837caace63a209e6": {
      "model_module": "@jupyter-widgets/controls",
      "model_module_version": "2.0.0",
      "model_name": "HTMLStyleModel",
      "state": {
       "description_width": "",
       "font_size": null,
       "text_color": null
      }
     },
     "1a9800eaa2374601aeb9d3aa58fece29": {
      "model_module": "@jupyter-widgets/controls",
      "model_module_version": "2.0.0",
      "model_name": "HTMLModel",
      "state": {
       "layout": "IPY_MODEL_145e6421441446d98779eb8a38b9860f",
       "style": "IPY_MODEL_69c11bfb3df04f61a24b6a02ca3dde09",
       "value": "special_tokens_map.json: 100%"
      }
     },
     "1aef0649fbab4e2dbd15618fd0882af7": {
      "model_module": "@jupyter-widgets/controls",
      "model_module_version": "2.0.0",
      "model_name": "ProgressStyleModel",
      "state": {
       "description_width": ""
      }
     },
     "1bbd3beeb7694bb29d42782114a04c37": {
      "model_module": "@jupyter-widgets/controls",
      "model_module_version": "2.0.0",
      "model_name": "HTMLModel",
      "state": {
       "layout": "IPY_MODEL_300cc6fcf783434f871fbd4f9aa8f5b1",
       "style": "IPY_MODEL_32cccd33e1364ecab19e815739121da8",
       "value": "special_tokens_map.json: 100%"
      }
     },
     "1bec0ab28387436b82433a9ba1a95d56": {
      "model_module": "@jupyter-widgets/controls",
      "model_module_version": "2.0.0",
      "model_name": "HTMLModel",
      "state": {
       "layout": "IPY_MODEL_4f5f8d402100400f8602bd092b253a85",
       "style": "IPY_MODEL_7a29433e24074df2ace7fcc338af6026",
       "value": "model.safetensors: 100%"
      }
     },
     "1cbacf40d08442cebb7dd8b73b60f256": {
      "model_module": "@jupyter-widgets/controls",
      "model_module_version": "2.0.0",
      "model_name": "FloatProgressModel",
      "state": {
       "bar_style": "success",
       "layout": "IPY_MODEL_d5d43ffcd56a4a63a400ca7d24b9135c",
       "max": 1355863,
       "style": "IPY_MODEL_12d66024bc0b460b84a6af55cf6afc1f",
       "value": 1355863
      }
     },
     "1cf77a5a900448c48075af1029416343": {
      "model_module": "@jupyter-widgets/base",
      "model_module_version": "2.0.0",
      "model_name": "LayoutModel",
      "state": {}
     },
     "1d65d52a36444886a72c30863f22f00c": {
      "model_module": "@jupyter-widgets/controls",
      "model_module_version": "2.0.0",
      "model_name": "ProgressStyleModel",
      "state": {
       "description_width": ""
      }
     },
     "1d9f7de03e7f48db8c85cb6839f487db": {
      "model_module": "@jupyter-widgets/controls",
      "model_module_version": "2.0.0",
      "model_name": "HTMLStyleModel",
      "state": {
       "description_width": "",
       "font_size": null,
       "text_color": null
      }
     },
     "1e2bcde72257498e9b997225daa9bffd": {
      "model_module": "@jupyter-widgets/base",
      "model_module_version": "2.0.0",
      "model_name": "LayoutModel",
      "state": {}
     },
     "1eb85dbccfc64374bf45bb4de6af4a2f": {
      "model_module": "@jupyter-widgets/controls",
      "model_module_version": "2.0.0",
      "model_name": "HTMLStyleModel",
      "state": {
       "description_width": "",
       "font_size": null,
       "text_color": null
      }
     },
     "1f08c8b16e5b48fd894420f9c50d5003": {
      "model_module": "@jupyter-widgets/controls",
      "model_module_version": "2.0.0",
      "model_name": "HTMLModel",
      "state": {
       "layout": "IPY_MODEL_a3a837c3522d46b788db364004332568",
       "style": "IPY_MODEL_6bf053300a724bc39ee1ff456b73ac55",
       "value": " 213k/213k [00:00&lt;00:00, 15.2MB/s]"
      }
     },
     "1f50cb741b064e51ac94d508f8163aa1": {
      "model_module": "@jupyter-widgets/controls",
      "model_module_version": "2.0.0",
      "model_name": "HBoxModel",
      "state": {
       "children": [
        "IPY_MODEL_8acc3f4474ee48f180e12b6de2410f67",
        "IPY_MODEL_1cbacf40d08442cebb7dd8b73b60f256",
        "IPY_MODEL_aafa2405678942c0b7f205a4cd565412"
       ],
       "layout": "IPY_MODEL_7850d6a10230463582b7aa934a23a3b6"
      }
     },
     "1fe0c45eef624e2f8320f5dda6c96f9c": {
      "model_module": "@jupyter-widgets/controls",
      "model_module_version": "2.0.0",
      "model_name": "HTMLModel",
      "state": {
       "layout": "IPY_MODEL_2dfb74c9546c456ea7da8c5d0e576158",
       "style": "IPY_MODEL_90ac3f2bc83642448c97127da7c289d4",
       "value": "config.json: 100%"
      }
     },
     "2049899c628d4dad91208f9d851c497f": {
      "model_module": "@jupyter-widgets/base",
      "model_module_version": "2.0.0",
      "model_name": "LayoutModel",
      "state": {}
     },
     "205a179de21940bc8b3e6ace335d9758": {
      "model_module": "@jupyter-widgets/controls",
      "model_module_version": "2.0.0",
      "model_name": "HTMLStyleModel",
      "state": {
       "description_width": "",
       "font_size": null,
       "text_color": null
      }
     },
     "21720b797a4d4770ae61d91400e6faab": {
      "model_module": "@jupyter-widgets/controls",
      "model_module_version": "2.0.0",
      "model_name": "HTMLStyleModel",
      "state": {
       "description_width": "",
       "font_size": null,
       "text_color": null
      }
     },
     "21fa078fcc4348958621a488f723b399": {
      "model_module": "@jupyter-widgets/base",
      "model_module_version": "2.0.0",
      "model_name": "LayoutModel",
      "state": {}
     },
     "21ff0e9b3edb4439bc6ded1b2b6de09e": {
      "model_module": "@jupyter-widgets/controls",
      "model_module_version": "2.0.0",
      "model_name": "HTMLStyleModel",
      "state": {
       "description_width": "",
       "font_size": null,
       "text_color": null
      }
     },
     "2222009f4bb34d538e2eef0426fd4984": {
      "model_module": "@jupyter-widgets/base",
      "model_module_version": "2.0.0",
      "model_name": "LayoutModel",
      "state": {}
     },
     "224aa7740fdb4e3ab22c6d776cae992a": {
      "model_module": "@jupyter-widgets/controls",
      "model_module_version": "2.0.0",
      "model_name": "HTMLModel",
      "state": {
       "layout": "IPY_MODEL_dcf8cf5ffb6249b497f1f65ea98a6802",
       "style": "IPY_MODEL_7b4d8c1a87024e9a9336e10b87bf2e41",
       "value": " 3.56M/3.56M [00:00&lt;00:00, 17.8MB/s]"
      }
     },
     "226f41d5635244d9846f5cd289b3bdfc": {
      "model_module": "@jupyter-widgets/controls",
      "model_module_version": "2.0.0",
      "model_name": "HTMLModel",
      "state": {
       "layout": "IPY_MODEL_9280a9e829c94f3098ada4ae016fba68",
       "style": "IPY_MODEL_6826a345a7194170a2d1cf888f371abb",
       "value": " 2.00/2.00 [00:00&lt;00:00, 95.7B/s]"
      }
     },
     "23380f084ac24426bf853c8e7f70378e": {
      "model_module": "@jupyter-widgets/base",
      "model_module_version": "2.0.0",
      "model_name": "LayoutModel",
      "state": {}
     },
     "233e49d658bb49139fdbf8d02c3f212c": {
      "model_module": "@jupyter-widgets/controls",
      "model_module_version": "2.0.0",
      "model_name": "HTMLModel",
      "state": {
       "layout": "IPY_MODEL_f810f2de17a846c7af53699a4cddc2ab",
       "style": "IPY_MODEL_24aecef0275746c483adacbb2c792d03",
       "value": " 1.08M/1.08M [00:00&lt;00:00, 33.1MB/s]"
      }
     },
     "235a1659e996465db5649d4cb7f38155": {
      "model_module": "@jupyter-widgets/base",
      "model_module_version": "2.0.0",
      "model_name": "LayoutModel",
      "state": {}
     },
     "238a891a421f4601821fde4b736110fc": {
      "model_module": "@jupyter-widgets/controls",
      "model_module_version": "2.0.0",
      "model_name": "FloatProgressModel",
      "state": {
       "bar_style": "success",
       "layout": "IPY_MODEL_4e2d911e36df460ea25879ceb55d5a47",
       "max": 958,
       "style": "IPY_MODEL_901c3f0938ba4123be10cb7e5a90ed24",
       "value": 958
      }
     },
     "23e0ef07dc14499d9a02b2e6bfebf56a": {
      "model_module": "@jupyter-widgets/controls",
      "model_module_version": "2.0.0",
      "model_name": "HTMLModel",
      "state": {
       "layout": "IPY_MODEL_052c4bd3bf674003af08ff2b9e4ed2c9",
       "style": "IPY_MODEL_9a26998e2312460fb498ce3e3bf0e1cc",
       "value": " 248M/248M [00:04&lt;00:00, 50.3MB/s]"
      }
     },
     "2415da2e30654b5f877d76408054db47": {
      "model_module": "@jupyter-widgets/base",
      "model_module_version": "2.0.0",
      "model_name": "LayoutModel",
      "state": {}
     },
     "2469e0752a174232a3a747ebc01ceaac": {
      "model_module": "@jupyter-widgets/controls",
      "model_module_version": "2.0.0",
      "model_name": "HTMLModel",
      "state": {
       "layout": "IPY_MODEL_9bb8c7d11a0042c6848217a77a7dea84",
       "style": "IPY_MODEL_4a5d31edd4094fabb2e31797d70f8dba",
       "value": "config.json: 100%"
      }
     },
     "24aecef0275746c483adacbb2c792d03": {
      "model_module": "@jupyter-widgets/controls",
      "model_module_version": "2.0.0",
      "model_name": "HTMLStyleModel",
      "state": {
       "description_width": "",
       "font_size": null,
       "text_color": null
      }
     },
     "251ce5d4208041b9b7acbd89c4577018": {
      "model_module": "@jupyter-widgets/controls",
      "model_module_version": "2.0.0",
      "model_name": "ProgressStyleModel",
      "state": {
       "description_width": ""
      }
     },
     "2546c15fceb44dac9125babb0b95e8a7": {
      "model_module": "@jupyter-widgets/base",
      "model_module_version": "2.0.0",
      "model_name": "LayoutModel",
      "state": {}
     },
     "2679de310e704daaa825c2936340a1f8": {
      "model_module": "@jupyter-widgets/controls",
      "model_module_version": "2.0.0",
      "model_name": "ProgressStyleModel",
      "state": {
       "description_width": ""
      }
     },
     "26d42926e2c0473ab0099a0f0cc4033e": {
      "model_module": "@jupyter-widgets/controls",
      "model_module_version": "2.0.0",
      "model_name": "HTMLStyleModel",
      "state": {
       "description_width": "",
       "font_size": null,
       "text_color": null
      }
     },
     "274a1c8fb33445bfb3b72ad438b02e97": {
      "model_module": "@jupyter-widgets/base",
      "model_module_version": "2.0.0",
      "model_name": "LayoutModel",
      "state": {}
     },
     "27527599a4a843b980e77907e8c54b9e": {
      "model_module": "@jupyter-widgets/base",
      "model_module_version": "2.0.0",
      "model_name": "LayoutModel",
      "state": {}
     },
     "27a5977233aa4c9e8192b864c7240ed9": {
      "model_module": "@jupyter-widgets/controls",
      "model_module_version": "2.0.0",
      "model_name": "HBoxModel",
      "state": {
       "children": [
        "IPY_MODEL_b5987ab0127b4796916945e7bb636a8c",
        "IPY_MODEL_c5feb3dfd6984ae5898268d7d74e193d",
        "IPY_MODEL_3cc61c03f6214724bebf6207a237f616"
       ],
       "layout": "IPY_MODEL_e2c5865b6d21499db8d7c6d72144ba00"
      }
     },
     "27cd676829184a85a290160102d5ccf0": {
      "model_module": "@jupyter-widgets/controls",
      "model_module_version": "2.0.0",
      "model_name": "FloatProgressModel",
      "state": {
       "bar_style": "success",
       "layout": "IPY_MODEL_b8037170749f4b9b9e2b4cadaadc0626",
       "max": 1355863,
       "style": "IPY_MODEL_83fa387f2d5c4bf28185e0e6a3a809bf",
       "value": 1355863
      }
     },
     "27e03f934e2640f794fb6561d57a4d3b": {
      "model_module": "@jupyter-widgets/controls",
      "model_module_version": "2.0.0",
      "model_name": "HTMLModel",
      "state": {
       "layout": "IPY_MODEL_e7a84f35645840b4866b38c2e802b570",
       "style": "IPY_MODEL_1d9f7de03e7f48db8c85cb6839f487db",
       "value": "bpe.codes: 100%"
      }
     },
     "2802b32cd929491088526d93088b1208": {
      "model_module": "@jupyter-widgets/base",
      "model_module_version": "2.0.0",
      "model_name": "LayoutModel",
      "state": {}
     },
     "28577ceddb4d4d2cb06aac4cc3b105ec": {
      "model_module": "@jupyter-widgets/base",
      "model_module_version": "2.0.0",
      "model_name": "LayoutModel",
      "state": {}
     },
     "28790640ab2a4140a106bafaaa722ba8": {
      "model_module": "@jupyter-widgets/controls",
      "model_module_version": "2.0.0",
      "model_name": "HTMLModel",
      "state": {
       "layout": "IPY_MODEL_3f8d37c2474141d499aa72111b0c190d",
       "style": "IPY_MODEL_c0212b9ad659443ab97369754338a131",
       "value": " 232k/232k [00:00&lt;00:00, 22.2MB/s]"
      }
     },
     "28ae9a7dcee34664915629739fb621d5": {
      "model_module": "@jupyter-widgets/controls",
      "model_module_version": "2.0.0",
      "model_name": "HBoxModel",
      "state": {
       "children": [
        "IPY_MODEL_a34dfc7b12eb42eb8dcea52931e76cec",
        "IPY_MODEL_2d41e203358040408bcc4166d6a93f9d",
        "IPY_MODEL_224aa7740fdb4e3ab22c6d776cae992a"
       ],
       "layout": "IPY_MODEL_97c5bc27c56543b1afd7d6d63c24a237"
      }
     },
     "290dec07294a4578a00ab293e991a4a5": {
      "model_module": "@jupyter-widgets/controls",
      "model_module_version": "2.0.0",
      "model_name": "HBoxModel",
      "state": {
       "children": [
        "IPY_MODEL_baaa520941694cefb783eb5f4903d9ca",
        "IPY_MODEL_0d3990d4ceb74591a82797b98c44ea3d",
        "IPY_MODEL_f8404511048042a6bccd8c7bf3a8a329"
       ],
       "layout": "IPY_MODEL_5ebf03b62bcc466fb0a571f57f7b8f66"
      }
     },
     "29f5f3d0b3d94a81b5d7a17d977b3988": {
      "model_module": "@jupyter-widgets/controls",
      "model_module_version": "2.0.0",
      "model_name": "HTMLStyleModel",
      "state": {
       "description_width": "",
       "font_size": null,
       "text_color": null
      }
     },
     "2a082df5140a47608fa2c95e5c3f96ad": {
      "model_module": "@jupyter-widgets/base",
      "model_module_version": "2.0.0",
      "model_name": "LayoutModel",
      "state": {}
     },
     "2a71f00d8d9244249e7b51cf69b5c934": {
      "model_module": "@jupyter-widgets/controls",
      "model_module_version": "2.0.0",
      "model_name": "HTMLStyleModel",
      "state": {
       "description_width": "",
       "font_size": null,
       "text_color": null
      }
     },
     "2a7b2d089660407199fc04b8b3fd1e01": {
      "model_module": "@jupyter-widgets/base",
      "model_module_version": "2.0.0",
      "model_name": "LayoutModel",
      "state": {}
     },
     "2ce279096dfa48bf84989ea085d31b2a": {
      "model_module": "@jupyter-widgets/base",
      "model_module_version": "2.0.0",
      "model_name": "LayoutModel",
      "state": {}
     },
     "2d0b870a2fbd44aa8f556f9e15b1a9e0": {
      "model_module": "@jupyter-widgets/base",
      "model_module_version": "2.0.0",
      "model_name": "LayoutModel",
      "state": {}
     },
     "2d41ac6901b2490bbb8b5c96d042399e": {
      "model_module": "@jupyter-widgets/controls",
      "model_module_version": "2.0.0",
      "model_name": "HTMLStyleModel",
      "state": {
       "description_width": "",
       "font_size": null,
       "text_color": null
      }
     },
     "2d41e203358040408bcc4166d6a93f9d": {
      "model_module": "@jupyter-widgets/controls",
      "model_module_version": "2.0.0",
      "model_name": "FloatProgressModel",
      "state": {
       "bar_style": "success",
       "layout": "IPY_MODEL_f91ecdf22baf48a38545eee54f185eeb",
       "max": 3558739,
       "style": "IPY_MODEL_ffd346a654eb4e42a1323c7ed0de4b6f",
       "value": 3558739
      }
     },
     "2d47289ce3dd43d0a76cfcf95d21d7fe": {
      "model_module": "@jupyter-widgets/base",
      "model_module_version": "2.0.0",
      "model_name": "LayoutModel",
      "state": {}
     },
     "2dfb74c9546c456ea7da8c5d0e576158": {
      "model_module": "@jupyter-widgets/base",
      "model_module_version": "2.0.0",
      "model_name": "LayoutModel",
      "state": {}
     },
     "2e1f3a5ba56249f7a88f899340e5711d": {
      "model_module": "@jupyter-widgets/base",
      "model_module_version": "2.0.0",
      "model_name": "LayoutModel",
      "state": {}
     },
     "2e800dd9702d4da7a10ed28c37fe4a2c": {
      "model_module": "@jupyter-widgets/base",
      "model_module_version": "2.0.0",
      "model_name": "LayoutModel",
      "state": {}
     },
     "2ea265ec1496418da52c9ebc35f986a7": {
      "model_module": "@jupyter-widgets/controls",
      "model_module_version": "2.0.0",
      "model_name": "HTMLModel",
      "state": {
       "layout": "IPY_MODEL_c61f5f687efc4d2798099e8f4093ba3b",
       "style": "IPY_MODEL_2f20ffa57ec048beabcb4d9b827261fd",
       "value": " 150/150 [00:00&lt;00:00, 14.5kB/s]"
      }
     },
     "2ef276153ad94150932ec7034531dfb6": {
      "model_module": "@jupyter-widgets/controls",
      "model_module_version": "2.0.0",
      "model_name": "HTMLStyleModel",
      "state": {
       "description_width": "",
       "font_size": null,
       "text_color": null
      }
     },
     "2f20ffa57ec048beabcb4d9b827261fd": {
      "model_module": "@jupyter-widgets/controls",
      "model_module_version": "2.0.0",
      "model_name": "HTMLStyleModel",
      "state": {
       "description_width": "",
       "font_size": null,
       "text_color": null
      }
     },
     "2f67173abaeb4669b0b855abebcaf1a3": {
      "model_module": "@jupyter-widgets/controls",
      "model_module_version": "2.0.0",
      "model_name": "FloatProgressModel",
      "state": {
       "bar_style": "success",
       "layout": "IPY_MODEL_c833025bea32433f9c9e21a46e4a9b90",
       "max": 48,
       "style": "IPY_MODEL_ad5f2b6cc04c41e485cd8d615245b230",
       "value": 48
      }
     },
     "2f6c977acde24cf689eb141730bf760d": {
      "model_module": "@jupyter-widgets/controls",
      "model_module_version": "2.0.0",
      "model_name": "FloatProgressModel",
      "state": {
       "bar_style": "success",
       "layout": "IPY_MODEL_eb9e01cbb0bf4971894a3a5f517cb957",
       "max": 1355256,
       "style": "IPY_MODEL_3fed27a209d44c4eb40cb1c769c9a715",
       "value": 1355256
      }
     },
     "2f8a41df5397483c86062dac0808bc34": {
      "model_module": "@jupyter-widgets/controls",
      "model_module_version": "2.0.0",
      "model_name": "HTMLStyleModel",
      "state": {
       "description_width": "",
       "font_size": null,
       "text_color": null
      }
     },
     "300cc6fcf783434f871fbd4f9aa8f5b1": {
      "model_module": "@jupyter-widgets/base",
      "model_module_version": "2.0.0",
      "model_name": "LayoutModel",
      "state": {}
     },
     "30bbbb16c3714b4389dc3935f6fc8f39": {
      "model_module": "@jupyter-widgets/controls",
      "model_module_version": "2.0.0",
      "model_name": "HTMLModel",
      "state": {
       "layout": "IPY_MODEL_4d7cf1f2452c4750b10de85517b5d4ce",
       "style": "IPY_MODEL_07467a56eb7c4cae81489dbddaac7d73",
       "value": " 899k/899k [00:00&lt;00:00, 15.6MB/s]"
      }
     },
     "30d2433d0adb4d039906092f66cab784": {
      "model_module": "@jupyter-widgets/controls",
      "model_module_version": "2.0.0",
      "model_name": "HTMLStyleModel",
      "state": {
       "description_width": "",
       "font_size": null,
       "text_color": null
      }
     },
     "30da24c63c69437dbcf1acdec8f24a10": {
      "model_module": "@jupyter-widgets/base",
      "model_module_version": "2.0.0",
      "model_name": "LayoutModel",
      "state": {}
     },
     "3127378e37d84288a20ba5906f0fafdd": {
      "model_module": "@jupyter-widgets/base",
      "model_module_version": "2.0.0",
      "model_name": "LayoutModel",
      "state": {}
     },
     "31382970024c4a60b743202aacc1337e": {
      "model_module": "@jupyter-widgets/base",
      "model_module_version": "2.0.0",
      "model_name": "LayoutModel",
      "state": {}
     },
     "31b094f5a79542cd82ba056bb42e0ff3": {
      "model_module": "@jupyter-widgets/controls",
      "model_module_version": "2.0.0",
      "model_name": "HBoxModel",
      "state": {
       "children": [
        "IPY_MODEL_57e29d20f35349938d970802b08f185c",
        "IPY_MODEL_c7f40d5f3610490d8ffe262ea2c3328e",
        "IPY_MODEL_28790640ab2a4140a106bafaaa722ba8"
       ],
       "layout": "IPY_MODEL_2415da2e30654b5f877d76408054db47"
      }
     },
     "31f8c0a127e24f02995334299fa9670a": {
      "model_module": "@jupyter-widgets/controls",
      "model_module_version": "2.0.0",
      "model_name": "HTMLModel",
      "state": {
       "layout": "IPY_MODEL_bfb82c838c7a401c84aae1f28c02f79d",
       "style": "IPY_MODEL_777c18c07c7048a4bf69e547d4e8ae6e",
       "value": " 433M/433M [00:07&lt;00:00, 60.7MB/s]"
      }
     },
     "326125ef17b7400da2cdfff266b8ad84": {
      "model_module": "@jupyter-widgets/controls",
      "model_module_version": "2.0.0",
      "model_name": "FloatProgressModel",
      "state": {
       "bar_style": "success",
       "layout": "IPY_MODEL_ab1d153a35b14a1d8136442e9b0f6dd0",
       "max": 1154,
       "style": "IPY_MODEL_d91f947e8e9d44589a5ceacf3edd4c13",
       "value": 1154
      }
     },
     "32cccd33e1364ecab19e815739121da8": {
      "model_module": "@jupyter-widgets/controls",
      "model_module_version": "2.0.0",
      "model_name": "HTMLStyleModel",
      "state": {
       "description_width": "",
       "font_size": null,
       "text_color": null
      }
     },
     "330bdb3b881b471dbafd44a7dae5bb82": {
      "model_module": "@jupyter-widgets/base",
      "model_module_version": "2.0.0",
      "model_name": "LayoutModel",
      "state": {}
     },
     "33162c55c5674143a433ad80b273c0fa": {
      "model_module": "@jupyter-widgets/controls",
      "model_module_version": "2.0.0",
      "model_name": "HTMLStyleModel",
      "state": {
       "description_width": "",
       "font_size": null,
       "text_color": null
      }
     },
     "33b8e1178d254a0f8921b07e955e18b9": {
      "model_module": "@jupyter-widgets/base",
      "model_module_version": "2.0.0",
      "model_name": "LayoutModel",
      "state": {}
     },
     "33fd1985a33648f3ae4db8e39aa53bf8": {
      "model_module": "@jupyter-widgets/controls",
      "model_module_version": "2.0.0",
      "model_name": "HBoxModel",
      "state": {
       "children": [
        "IPY_MODEL_41000c59528a41d3a1e90526bbfd1a22",
        "IPY_MODEL_2f67173abaeb4669b0b855abebcaf1a3",
        "IPY_MODEL_f2db4dbd9ac244e8bb35963ba5ae3f8a"
       ],
       "layout": "IPY_MODEL_d44ecd6b1d5e4fa187f81d71fa4da42e"
      }
     },
     "3521be91681c41adbfaace6adf23d207": {
      "model_module": "@jupyter-widgets/base",
      "model_module_version": "2.0.0",
      "model_name": "LayoutModel",
      "state": {}
     },
     "3722117d465547e7869b101f174fbb96": {
      "model_module": "@jupyter-widgets/controls",
      "model_module_version": "2.0.0",
      "model_name": "HTMLStyleModel",
      "state": {
       "description_width": "",
       "font_size": null,
       "text_color": null
      }
     },
     "37820770d3d84921b4c481cd365f3bb7": {
      "model_module": "@jupyter-widgets/controls",
      "model_module_version": "2.0.0",
      "model_name": "HBoxModel",
      "state": {
       "children": [
        "IPY_MODEL_1fe0c45eef624e2f8320f5dda6c96f9c",
        "IPY_MODEL_b8f105814a6c4370bbffaaa559b5e516",
        "IPY_MODEL_6d61bff00fa14e7abe6b7feddda60b43"
       ],
       "layout": "IPY_MODEL_bed0729ee9c4448c88286629cb7bef5c"
      }
     },
     "37d4f94b7df84827b72a5c6d303c3fc7": {
      "model_module": "@jupyter-widgets/controls",
      "model_module_version": "2.0.0",
      "model_name": "HTMLStyleModel",
      "state": {
       "description_width": "",
       "font_size": null,
       "text_color": null
      }
     },
     "38515ecf3ce742c89fbe9244e46fee80": {
      "model_module": "@jupyter-widgets/controls",
      "model_module_version": "2.0.0",
      "model_name": "HTMLStyleModel",
      "state": {
       "description_width": "",
       "font_size": null,
       "text_color": null
      }
     },
     "387681d5aabb4e8d99c5cac1933292f3": {
      "model_module": "@jupyter-widgets/controls",
      "model_module_version": "2.0.0",
      "model_name": "HTMLModel",
      "state": {
       "layout": "IPY_MODEL_6b9b94cf26f144ea940cdf5df3c3e287",
       "style": "IPY_MODEL_2f8a41df5397483c86062dac0808bc34",
       "value": " 353M/353M [00:05&lt;00:00, 59.1MB/s]"
      }
     },
     "387a77c7ddfe46b6b8544e9cb7f260bd": {
      "model_module": "@jupyter-widgets/controls",
      "model_module_version": "2.0.0",
      "model_name": "HTMLModel",
      "state": {
       "layout": "IPY_MODEL_f37707f771b7407c9e26302e11fd2072",
       "style": "IPY_MODEL_5d151f38a47b4961aa8e835bf8f2d222",
       "value": " 843k/843k [00:00&lt;00:00, 25.7MB/s]"
      }
     },
     "3991167601c644a3887b15d3be0648e6": {
      "model_module": "@jupyter-widgets/base",
      "model_module_version": "2.0.0",
      "model_name": "LayoutModel",
      "state": {}
     },
     "39998e2244764efebb452f2cd26e1fa4": {
      "model_module": "@jupyter-widgets/controls",
      "model_module_version": "2.0.0",
      "model_name": "FloatProgressModel",
      "state": {
       "bar_style": "success",
       "layout": "IPY_MODEL_41692e67e3bb45e499a1b7de7e1c03f5",
       "max": 213450,
       "style": "IPY_MODEL_a08de1636dbf4e3fab4c0188b7245f20",
       "value": 213450
      }
     },
     "3a2dd35f797e4244ae94295939ab9fed": {
      "model_module": "@jupyter-widgets/base",
      "model_module_version": "2.0.0",
      "model_name": "LayoutModel",
      "state": {}
     },
     "3b0dd3bf72294f0fb544de762a653101": {
      "model_module": "@jupyter-widgets/base",
      "model_module_version": "2.0.0",
      "model_name": "LayoutModel",
      "state": {}
     },
     "3b29d13483ad4d44a45a91eb2125784f": {
      "model_module": "@jupyter-widgets/controls",
      "model_module_version": "2.0.0",
      "model_name": "FloatProgressModel",
      "state": {
       "bar_style": "success",
       "layout": "IPY_MODEL_28577ceddb4d4d2cb06aac4cc3b105ec",
       "max": 59,
       "style": "IPY_MODEL_c166412a35a04b15b2fe0a856487b64c",
       "value": 59
      }
     },
     "3b8c133ce4d246f3b14f32c279bb6bb5": {
      "model_module": "@jupyter-widgets/controls",
      "model_module_version": "2.0.0",
      "model_name": "HTMLModel",
      "state": {
       "layout": "IPY_MODEL_93b9bbc1f66b4c24b7837c76ede9c6c3",
       "style": "IPY_MODEL_606d8bc8416c4ec2a223eb156f0d9b41",
       "value": "vocab.txt: 100%"
      }
     },
     "3cc61c03f6214724bebf6207a237f616": {
      "model_module": "@jupyter-widgets/controls",
      "model_module_version": "2.0.0",
      "model_name": "HTMLModel",
      "state": {
       "layout": "IPY_MODEL_54cebd8d61984d86a7437d2cca3761df",
       "style": "IPY_MODEL_45d432b1d8484beaaa801b8882034aa0",
       "value": " 480/480 [00:00&lt;00:00, 37.4kB/s]"
      }
     },
     "3d00b87cab8c4ab7af01a5c273fb38d8": {
      "model_module": "@jupyter-widgets/base",
      "model_module_version": "2.0.0",
      "model_name": "LayoutModel",
      "state": {}
     },
     "3d0b9f3ec05745f2b8f7572e0615918e": {
      "model_module": "@jupyter-widgets/base",
      "model_module_version": "2.0.0",
      "model_name": "LayoutModel",
      "state": {}
     },
     "3d2e2ee04df44a89a710d62416e95c25": {
      "model_module": "@jupyter-widgets/controls",
      "model_module_version": "2.0.0",
      "model_name": "HTMLModel",
      "state": {
       "layout": "IPY_MODEL_21fa078fcc4348958621a488f723b399",
       "style": "IPY_MODEL_139c1e11eb534fb08c40f9b3a1ce17e0",
       "value": " 1.15k/1.15k [00:00&lt;00:00, 94.2kB/s]"
      }
     },
     "3d2f12f970d64194b889299885fafff7": {
      "model_module": "@jupyter-widgets/controls",
      "model_module_version": "2.0.0",
      "model_name": "ProgressStyleModel",
      "state": {
       "description_width": ""
      }
     },
     "3e1b82f4577148e5b8ca8b0c62c54c4b": {
      "model_module": "@jupyter-widgets/controls",
      "model_module_version": "2.0.0",
      "model_name": "FloatProgressModel",
      "state": {
       "bar_style": "success",
       "layout": "IPY_MODEL_2e800dd9702d4da7a10ed28c37fe4a2c",
       "max": 112,
       "style": "IPY_MODEL_551cac0ce8944578a7d2bb8da4eab3f1",
       "value": 112
      }
     },
     "3e73b927c2fc449eb97a8b1a244d1363": {
      "model_module": "@jupyter-widgets/base",
      "model_module_version": "2.0.0",
      "model_name": "LayoutModel",
      "state": {}
     },
     "3eb642a9a9fb41f493b0eef08b5022a2": {
      "model_module": "@jupyter-widgets/controls",
      "model_module_version": "2.0.0",
      "model_name": "FloatProgressModel",
      "state": {
       "bar_style": "success",
       "layout": "IPY_MODEL_82eb593ab5934f30a08456307a5d5f00",
       "max": 537371441,
       "style": "IPY_MODEL_ecd3c713534948d1bf2f1aecc0c15132",
       "value": 537371441
      }
     },
     "3edee2e0f32d4d4fac045720a920da6b": {
      "model_module": "@jupyter-widgets/controls",
      "model_module_version": "2.0.0",
      "model_name": "ProgressStyleModel",
      "state": {
       "description_width": ""
      }
     },
     "3ee8e6f592d84f4f9d506b9c5a0697b9": {
      "model_module": "@jupyter-widgets/controls",
      "model_module_version": "2.0.0",
      "model_name": "HTMLModel",
      "state": {
       "layout": "IPY_MODEL_3d0b9f3ec05745f2b8f7572e0615918e",
       "style": "IPY_MODEL_4ebe22c7eec2428e9e9a9d35bc5e4d3c",
       "value": "model.safetensors: 100%"
      }
     },
     "3f2272da6f054bb2a37dfe69635fdd01": {
      "model_module": "@jupyter-widgets/base",
      "model_module_version": "2.0.0",
      "model_name": "LayoutModel",
      "state": {}
     },
     "3f8d37c2474141d499aa72111b0c190d": {
      "model_module": "@jupyter-widgets/base",
      "model_module_version": "2.0.0",
      "model_name": "LayoutModel",
      "state": {}
     },
     "3fed27a209d44c4eb40cb1c769c9a715": {
      "model_module": "@jupyter-widgets/controls",
      "model_module_version": "2.0.0",
      "model_name": "ProgressStyleModel",
      "state": {
       "description_width": ""
      }
     },
     "40301ac58c04449bb26390e7518e60fc": {
      "model_module": "@jupyter-widgets/base",
      "model_module_version": "2.0.0",
      "model_name": "LayoutModel",
      "state": {}
     },
     "408d7df112bf4e758c114981e12fca0d": {
      "model_module": "@jupyter-widgets/controls",
      "model_module_version": "2.0.0",
      "model_name": "HTMLModel",
      "state": {
       "layout": "IPY_MODEL_a4cecdc63a754d44b5438f68df54688f",
       "style": "IPY_MODEL_26d42926e2c0473ab0099a0f0cc4033e",
       "value": " 1.35k/1.35k [00:00&lt;00:00, 223kB/s]"
      }
     },
     "41000c59528a41d3a1e90526bbfd1a22": {
      "model_module": "@jupyter-widgets/controls",
      "model_module_version": "2.0.0",
      "model_name": "HTMLModel",
      "state": {
       "layout": "IPY_MODEL_094ec27985fa47d497f9a02da4e71dc8",
       "style": "IPY_MODEL_e5c7d165e5b5403f8781081e699a29c4",
       "value": "tokenizer_config.json: 100%"
      }
     },
     "41056676ca334acfb33890dbb69e4ca0": {
      "model_module": "@jupyter-widgets/controls",
      "model_module_version": "2.0.0",
      "model_name": "HBoxModel",
      "state": {
       "children": [
        "IPY_MODEL_8c39272218ba4f3e8157732f35231e4f",
        "IPY_MODEL_39998e2244764efebb452f2cd26e1fa4",
        "IPY_MODEL_7caaa69e1a424b13a67f7d7a870b831d"
       ],
       "layout": "IPY_MODEL_5c7bb9cb1c73413795c6b36d9bbb01c9"
      }
     },
     "41692e67e3bb45e499a1b7de7e1c03f5": {
      "model_module": "@jupyter-widgets/base",
      "model_module_version": "2.0.0",
      "model_name": "LayoutModel",
      "state": {}
     },
     "41c72985077d42f88306bc8ad0bbdf9c": {
      "model_module": "@jupyter-widgets/controls",
      "model_module_version": "2.0.0",
      "model_name": "HTMLModel",
      "state": {
       "layout": "IPY_MODEL_90cffca19a1b467bbbe7a380a340f0eb",
       "style": "IPY_MODEL_a58bb04bf3574410b9c10b46f4aac9e0",
       "value": "model.safetensors: 100%"
      }
     },
     "41f31b1efcfe4df9b78b0c848baf2a4d": {
      "model_module": "@jupyter-widgets/controls",
      "model_module_version": "2.0.0",
      "model_name": "FloatProgressModel",
      "state": {
       "bar_style": "success",
       "layout": "IPY_MODEL_6ead6898dee5496983fd4b9724e43817",
       "max": 466062,
       "style": "IPY_MODEL_b2f60b17d76e4d6c8a836a9ce8c33c92",
       "value": 466062
      }
     },
     "42647776feba45a386f4b8534e06507d": {
      "model_module": "@jupyter-widgets/base",
      "model_module_version": "2.0.0",
      "model_name": "LayoutModel",
      "state": {}
     },
     "42ee004f93b54bc782072c6206f3f3b2": {
      "model_module": "@jupyter-widgets/base",
      "model_module_version": "2.0.0",
      "model_name": "LayoutModel",
      "state": {}
     },
     "43a70c3e625346bd9f37c30ef5b8d60c": {
      "model_module": "@jupyter-widgets/base",
      "model_module_version": "2.0.0",
      "model_name": "LayoutModel",
      "state": {}
     },
     "44c2baa4397b4089b94f2ef4a7a8af74": {
      "model_module": "@jupyter-widgets/base",
      "model_module_version": "2.0.0",
      "model_name": "LayoutModel",
      "state": {}
     },
     "44e0e97a3f904a3d92c9d17554eb15ca": {
      "model_module": "@jupyter-widgets/controls",
      "model_module_version": "2.0.0",
      "model_name": "HTMLModel",
      "state": {
       "layout": "IPY_MODEL_0d686b2d9b5c4b3a8754344e171537a6",
       "style": "IPY_MODEL_153486e4b8cc44bab5b625f4c2947ec7",
       "value": "tokenizer_config.json: 100%"
      }
     },
     "4562395e0e35497a898fc5e3d152cb5a": {
      "model_module": "@jupyter-widgets/base",
      "model_module_version": "2.0.0",
      "model_name": "LayoutModel",
      "state": {}
     },
     "45a5b17b0ca445aa8487b6c9e4c63c7e": {
      "model_module": "@jupyter-widgets/controls",
      "model_module_version": "2.0.0",
      "model_name": "HTMLModel",
      "state": {
       "layout": "IPY_MODEL_4562395e0e35497a898fc5e3d152cb5a",
       "style": "IPY_MODEL_b2c74307a88d4fdba020ca1510aa47f5",
       "value": " 1.04M/1.04M [00:00&lt;00:00, 16.8MB/s]"
      }
     },
     "45d432b1d8484beaaa801b8882034aa0": {
      "model_module": "@jupyter-widgets/controls",
      "model_module_version": "2.0.0",
      "model_name": "HTMLStyleModel",
      "state": {
       "description_width": "",
       "font_size": null,
       "text_color": null
      }
     },
     "460567645b154021820505082d4c1d49": {
      "model_module": "@jupyter-widgets/controls",
      "model_module_version": "2.0.0",
      "model_name": "FloatProgressModel",
      "state": {
       "bar_style": "success",
       "layout": "IPY_MODEL_e4b572d4e13a4428b373206057bd8143",
       "max": 829,
       "style": "IPY_MODEL_0389ed918055447a816ac28a3d435da6",
       "value": 829
      }
     },
     "46e628937dc34d9fa4fd62edf201c578": {
      "model_module": "@jupyter-widgets/controls",
      "model_module_version": "2.0.0",
      "model_name": "FloatProgressModel",
      "state": {
       "bar_style": "success",
       "layout": "IPY_MODEL_b0875f2772d649b0a7ab41de8b82a449",
       "max": 26,
       "style": "IPY_MODEL_b96ba21758c24a4f9639814ca004d12a",
       "value": 26
      }
     },
     "4742d0f299db4d9080ca6ad27395d757": {
      "model_module": "@jupyter-widgets/base",
      "model_module_version": "2.0.0",
      "model_name": "LayoutModel",
      "state": {}
     },
     "4819b4ac7fee490cb131305d8612ddc7": {
      "model_module": "@jupyter-widgets/controls",
      "model_module_version": "2.0.0",
      "model_name": "HTMLStyleModel",
      "state": {
       "description_width": "",
       "font_size": null,
       "text_color": null
      }
     },
     "4a5d31edd4094fabb2e31797d70f8dba": {
      "model_module": "@jupyter-widgets/controls",
      "model_module_version": "2.0.0",
      "model_name": "HTMLStyleModel",
      "state": {
       "description_width": "",
       "font_size": null,
       "text_color": null
      }
     },
     "4a635dc643c34c34866177b45c2ffa3c": {
      "model_module": "@jupyter-widgets/controls",
      "model_module_version": "2.0.0",
      "model_name": "HTMLStyleModel",
      "state": {
       "description_width": "",
       "font_size": null,
       "text_color": null
      }
     },
     "4a6539bd4c7147cba9a02a80de5b00f9": {
      "model_module": "@jupyter-widgets/base",
      "model_module_version": "2.0.0",
      "model_name": "LayoutModel",
      "state": {}
     },
     "4b0f1280fb554742bb674f102d539ad0": {
      "model_module": "@jupyter-widgets/controls",
      "model_module_version": "2.0.0",
      "model_name": "HTMLModel",
      "state": {
       "layout": "IPY_MODEL_a3157d1d6ca04fb9ac7c208e32f905e7",
       "style": "IPY_MODEL_8059c97643764e07a1b6d7065baa4dbd",
       "value": "special_tokens_map.json: 100%"
      }
     },
     "4b8f56143a074298afd351c583322201": {
      "model_module": "@jupyter-widgets/base",
      "model_module_version": "2.0.0",
      "model_name": "LayoutModel",
      "state": {}
     },
     "4c142bc8450042f887aa93d7e0b41c1c": {
      "model_module": "@jupyter-widgets/base",
      "model_module_version": "2.0.0",
      "model_name": "LayoutModel",
      "state": {}
     },
     "4d586eb91adc4adbabb89d737c5b6b8e": {
      "model_module": "@jupyter-widgets/controls",
      "model_module_version": "2.0.0",
      "model_name": "HTMLModel",
      "state": {
       "layout": "IPY_MODEL_330bdb3b881b471dbafd44a7dae5bb82",
       "style": "IPY_MODEL_d23ddbfb18c64ec491187ece0d3ae119",
       "value": " 998/998 [00:00&lt;00:00, 206kB/s]"
      }
     },
     "4d7cf1f2452c4750b10de85517b5d4ce": {
      "model_module": "@jupyter-widgets/base",
      "model_module_version": "2.0.0",
      "model_name": "LayoutModel",
      "state": {}
     },
     "4d7d075b4a65450c9457d0e37e22bc6d": {
      "model_module": "@jupyter-widgets/controls",
      "model_module_version": "2.0.0",
      "model_name": "HTMLStyleModel",
      "state": {
       "description_width": "",
       "font_size": null,
       "text_color": null
      }
     },
     "4de6a26542d546dcaf3a0d79c40db83a": {
      "model_module": "@jupyter-widgets/base",
      "model_module_version": "2.0.0",
      "model_name": "LayoutModel",
      "state": {}
     },
     "4e2d911e36df460ea25879ceb55d5a47": {
      "model_module": "@jupyter-widgets/base",
      "model_module_version": "2.0.0",
      "model_name": "LayoutModel",
      "state": {}
     },
     "4ebe22c7eec2428e9e9a9d35bc5e4d3c": {
      "model_module": "@jupyter-widgets/controls",
      "model_module_version": "2.0.0",
      "model_name": "HTMLStyleModel",
      "state": {
       "description_width": "",
       "font_size": null,
       "text_color": null
      }
     },
     "4eea43ad830844dd8b298eaf33f461f5": {
      "model_module": "@jupyter-widgets/controls",
      "model_module_version": "2.0.0",
      "model_name": "ProgressStyleModel",
      "state": {
       "description_width": ""
      }
     },
     "4f5f8d402100400f8602bd092b253a85": {
      "model_module": "@jupyter-widgets/base",
      "model_module_version": "2.0.0",
      "model_name": "LayoutModel",
      "state": {}
     },
     "4ffd7345688b46bf8e1a64d5b02bab7e": {
      "model_module": "@jupyter-widgets/controls",
      "model_module_version": "2.0.0",
      "model_name": "HTMLModel",
      "state": {
       "layout": "IPY_MODEL_e93cb6bd45ac4b4e85db2f36278b6284",
       "style": "IPY_MODEL_0988411622b848b09017dfb17ed90b8b",
       "value": "vocab.json: 100%"
      }
     },
     "4ffff9648d6544ea996dab614a945c52": {
      "model_module": "@jupyter-widgets/base",
      "model_module_version": "2.0.0",
      "model_name": "LayoutModel",
      "state": {}
     },
     "5158af016afb4cb6a1c645689f28f849": {
      "model_module": "@jupyter-widgets/controls",
      "model_module_version": "2.0.0",
      "model_name": "HBoxModel",
      "state": {
       "children": [
        "IPY_MODEL_c45c6374ea874f759d531c9a9343e331",
        "IPY_MODEL_27cd676829184a85a290160102d5ccf0",
        "IPY_MODEL_01c330823e5447cb9f7cf7885447b452"
       ],
       "layout": "IPY_MODEL_c4b80bfaca1a41eca80f2fbc6c8304b7"
      }
     },
     "517f47691c944d83b5f592989069cd7c": {
      "model_module": "@jupyter-widgets/controls",
      "model_module_version": "2.0.0",
      "model_name": "HTMLModel",
      "state": {
       "layout": "IPY_MODEL_9a7afffc784e4c23b351969a9100d6b1",
       "style": "IPY_MODEL_b3c8fe28e2024220872c79662dbcbacd",
       "value": " 1.36M/1.36M [00:00&lt;00:00, 24.7MB/s]"
      }
     },
     "51b36b4742b5408e9ab5d1cb7f7e989f": {
      "model_module": "@jupyter-widgets/base",
      "model_module_version": "2.0.0",
      "model_name": "LayoutModel",
      "state": {}
     },
     "5260166319614e70a49353d7a7fb20d1": {
      "model_module": "@jupyter-widgets/base",
      "model_module_version": "2.0.0",
      "model_name": "LayoutModel",
      "state": {}
     },
     "53d4ca9b3aef45588e9e9a5682c41650": {
      "model_module": "@jupyter-widgets/base",
      "model_module_version": "2.0.0",
      "model_name": "LayoutModel",
      "state": {}
     },
     "5413e49e65a34e17980e0db39739aa7e": {
      "model_module": "@jupyter-widgets/controls",
      "model_module_version": "2.0.0",
      "model_name": "HTMLStyleModel",
      "state": {
       "description_width": "",
       "font_size": null,
       "text_color": null
      }
     },
     "5499dd242e024bd49262d1d4e4b57a3b": {
      "model_module": "@jupyter-widgets/controls",
      "model_module_version": "2.0.0",
      "model_name": "HTMLModel",
      "state": {
       "layout": "IPY_MODEL_72d76f4a3f14438bacdd4dd4e9e98063",
       "style": "IPY_MODEL_b648858f45dd480b984110b04735424f",
       "value": " 456k/456k [00:00&lt;00:00, 6.44MB/s]"
      }
     },
     "54afa8a21d4845c5b4d76c4952e27601": {
      "model_module": "@jupyter-widgets/controls",
      "model_module_version": "2.0.0",
      "model_name": "HTMLModel",
      "state": {
       "layout": "IPY_MODEL_73af3eb394084df2a04c84a46496ab75",
       "style": "IPY_MODEL_70deeb7ea4b3410a99f0e5605a5e398e",
       "value": " 268M/268M [00:04&lt;00:00, 62.4MB/s]"
      }
     },
     "54b1dbf4858747ed8b51f813e1a64174": {
      "model_module": "@jupyter-widgets/controls",
      "model_module_version": "2.0.0",
      "model_name": "HBoxModel",
      "state": {
       "children": [
        "IPY_MODEL_6d41b76e72524776bb39d2c7e17cf33f",
        "IPY_MODEL_afc1aca950ba4d65bf9e21709e2a3df0",
        "IPY_MODEL_5499dd242e024bd49262d1d4e4b57a3b"
       ],
       "layout": "IPY_MODEL_43a70c3e625346bd9f37c30ef5b8d60c"
      }
     },
     "54cebd8d61984d86a7437d2cca3761df": {
      "model_module": "@jupyter-widgets/base",
      "model_module_version": "2.0.0",
      "model_name": "LayoutModel",
      "state": {}
     },
     "54ffd9b8f6ec4a25a991b55224e049c7": {
      "model_module": "@jupyter-widgets/controls",
      "model_module_version": "2.0.0",
      "model_name": "FloatProgressModel",
      "state": {
       "bar_style": "success",
       "layout": "IPY_MODEL_9603de1b662143b9bc502eb42ae586f8",
       "max": 124,
       "style": "IPY_MODEL_ea8d7b17a53c4e0b978ce96ee536f8eb",
       "value": 124
      }
     },
     "551cac0ce8944578a7d2bb8da4eab3f1": {
      "model_module": "@jupyter-widgets/controls",
      "model_module_version": "2.0.0",
      "model_name": "ProgressStyleModel",
      "state": {
       "description_width": ""
      }
     },
     "552a633bb4234a049e8b2fba99463e3f": {
      "model_module": "@jupyter-widgets/controls",
      "model_module_version": "2.0.0",
      "model_name": "ProgressStyleModel",
      "state": {
       "description_width": ""
      }
     },
     "558828f5c45f48e4b01f75998680a913": {
      "model_module": "@jupyter-widgets/controls",
      "model_module_version": "2.0.0",
      "model_name": "FloatProgressModel",
      "state": {
       "bar_style": "success",
       "layout": "IPY_MODEL_134083fd5305443ca0ce3b03507c81f5",
       "max": 231508,
       "style": "IPY_MODEL_2679de310e704daaa825c2936340a1f8",
       "value": 231508
      }
     },
     "55a8bc5780cd4c1ba269e3323ad57b05": {
      "model_module": "@jupyter-widgets/controls",
      "model_module_version": "2.0.0",
      "model_name": "HBoxModel",
      "state": {
       "children": [
        "IPY_MODEL_27e03f934e2640f794fb6561d57a4d3b",
        "IPY_MODEL_b163b39f401e472aa8d92fe47ae6405a",
        "IPY_MODEL_233e49d658bb49139fdbf8d02c3f212c"
       ],
       "layout": "IPY_MODEL_09f92597e25f4d949dfe52919318d0a7"
      }
     },
     "55d5039cef494191a2b0b0b235d108b5": {
      "model_module": "@jupyter-widgets/controls",
      "model_module_version": "2.0.0",
      "model_name": "HBoxModel",
      "state": {
       "children": [
        "IPY_MODEL_77194e5a9ed4469fac83eba570bf43e6",
        "IPY_MODEL_6b5894ab34b1485e8380423c20a0f97f",
        "IPY_MODEL_da353b8c716644509c313519dd887710"
       ],
       "layout": "IPY_MODEL_a4d8d57dcebb4e5ca82fb6c24dbc1449"
      }
     },
     "56df997997ff452cb118eff5f3173116": {
      "model_module": "@jupyter-widgets/controls",
      "model_module_version": "2.0.0",
      "model_name": "FloatProgressModel",
      "state": {
       "bar_style": "success",
       "layout": "IPY_MODEL_667ae211311a43e9b7d2c814191d8769",
       "max": 483,
       "style": "IPY_MODEL_552a633bb4234a049e8b2fba99463e3f",
       "value": 483
      }
     },
     "571d08455dd14b879dc106effdb0ae6c": {
      "model_module": "@jupyter-widgets/controls",
      "model_module_version": "2.0.0",
      "model_name": "HTMLModel",
      "state": {
       "layout": "IPY_MODEL_a0e1aecdbd254dd0adf13d6571cfed52",
       "style": "IPY_MODEL_38515ecf3ce742c89fbe9244e46fee80",
       "value": "model.safetensors: 100%"
      }
     },
     "575a4454c42844e9827cd7df76491822": {
      "model_module": "@jupyter-widgets/controls",
      "model_module_version": "2.0.0",
      "model_name": "ProgressStyleModel",
      "state": {
       "description_width": ""
      }
     },
     "576cbd2c7ace42e9844621b881f20d25": {
      "model_module": "@jupyter-widgets/controls",
      "model_module_version": "2.0.0",
      "model_name": "FloatProgressModel",
      "state": {
       "bar_style": "success",
       "layout": "IPY_MODEL_23380f084ac24426bf853c8e7f70378e",
       "max": 798293,
       "style": "IPY_MODEL_8d609d5b1e9944d0ad6cec66b79684ec",
       "value": 798293
      }
     },
     "577347e7e26e42cdab99d921287a4db3": {
      "model_module": "@jupyter-widgets/controls",
      "model_module_version": "2.0.0",
      "model_name": "HTMLModel",
      "state": {
       "layout": "IPY_MODEL_623212824235458399158932ea614a05",
       "style": "IPY_MODEL_aee63ce294a14a1696e4ca0b53306dfe",
       "value": " 537M/537M [00:09&lt;00:00, 55.3MB/s]"
      }
     },
     "579b4e5680ea4f56b6be11ea6ce79ddc": {
      "model_module": "@jupyter-widgets/controls",
      "model_module_version": "2.0.0",
      "model_name": "ProgressStyleModel",
      "state": {
       "description_width": ""
      }
     },
     "57b1293769c742f28d8841f7cefd1576": {
      "model_module": "@jupyter-widgets/controls",
      "model_module_version": "2.0.0",
      "model_name": "HTMLModel",
      "state": {
       "layout": "IPY_MODEL_f5c169b54db64ddebc3f5e8d53fa4159",
       "style": "IPY_MODEL_eec8c7d12f1b4597b4794cffd12a18c2",
       "value": " 335/335 [00:00&lt;00:00, 62.4kB/s]"
      }
     },
     "57bf3948dc8a4b61837c5097d8e9afc3": {
      "model_module": "@jupyter-widgets/controls",
      "model_module_version": "2.0.0",
      "model_name": "HTMLStyleModel",
      "state": {
       "description_width": "",
       "font_size": null,
       "text_color": null
      }
     },
     "57bf80be2cd84ea7a6c2d2564e8ccc29": {
      "model_module": "@jupyter-widgets/base",
      "model_module_version": "2.0.0",
      "model_name": "LayoutModel",
      "state": {}
     },
     "57e29d20f35349938d970802b08f185c": {
      "model_module": "@jupyter-widgets/controls",
      "model_module_version": "2.0.0",
      "model_name": "HTMLModel",
      "state": {
       "layout": "IPY_MODEL_a7622d8a4de248db96723e400e600412",
       "style": "IPY_MODEL_fc19b875037b4c4ea607f54405ff6167",
       "value": "vocab.txt: 100%"
      }
     },
     "5830b5011cfe4e2eade3cfe14d75e036": {
      "model_module": "@jupyter-widgets/controls",
      "model_module_version": "2.0.0",
      "model_name": "HTMLStyleModel",
      "state": {
       "description_width": "",
       "font_size": null,
       "text_color": null
      }
     },
     "59254297b8e341b0972fb85730a3848f": {
      "model_module": "@jupyter-widgets/controls",
      "model_module_version": "2.0.0",
      "model_name": "ProgressStyleModel",
      "state": {
       "description_width": ""
      }
     },
     "5a6b042928534bbd985d669a73293066": {
      "model_module": "@jupyter-widgets/controls",
      "model_module_version": "2.0.0",
      "model_name": "ProgressStyleModel",
      "state": {
       "description_width": ""
      }
     },
     "5abbf928d6934ba29f829e4f7354547f": {
      "model_module": "@jupyter-widgets/controls",
      "model_module_version": "2.0.0",
      "model_name": "ProgressStyleModel",
      "state": {
       "description_width": ""
      }
     },
     "5ae7eb604a714cd3b268c8ce4039e824": {
      "model_module": "@jupyter-widgets/base",
      "model_module_version": "2.0.0",
      "model_name": "LayoutModel",
      "state": {}
     },
     "5b8b0567552247cb9b771c7196b6d1b0": {
      "model_module": "@jupyter-widgets/controls",
      "model_module_version": "2.0.0",
      "model_name": "FloatProgressModel",
      "state": {
       "bar_style": "success",
       "layout": "IPY_MODEL_cc99d106e7bc4ee1af63cb7e9c7ae4e3",
       "max": 352824413,
       "style": "IPY_MODEL_cf3879adaf7c433d8238f7bc3cb26f21",
       "value": 352824413
      }
     },
     "5bab27d289634eb2ae585a938db63c89": {
      "model_module": "@jupyter-widgets/controls",
      "model_module_version": "2.0.0",
      "model_name": "ProgressStyleModel",
      "state": {
       "description_width": ""
      }
     },
     "5bab9147dc4b415789f0e3bf64f1b28f": {
      "model_module": "@jupyter-widgets/base",
      "model_module_version": "2.0.0",
      "model_name": "LayoutModel",
      "state": {}
     },
     "5c6ebbe814ac42aab83b95b7fcb696d9": {
      "model_module": "@jupyter-widgets/controls",
      "model_module_version": "2.0.0",
      "model_name": "ProgressStyleModel",
      "state": {
       "description_width": ""
      }
     },
     "5c7bb9cb1c73413795c6b36d9bbb01c9": {
      "model_module": "@jupyter-widgets/base",
      "model_module_version": "2.0.0",
      "model_name": "LayoutModel",
      "state": {}
     },
     "5cafc85cf4bd4f32acd6ae305fca4427": {
      "model_module": "@jupyter-widgets/controls",
      "model_module_version": "2.0.0",
      "model_name": "HTMLModel",
      "state": {
       "layout": "IPY_MODEL_790497d922dc46caa252431f404b3a54",
       "style": "IPY_MODEL_6b1b9b6e46644908a43b3513b7cdc8a7",
       "value": "model.safetensors: 100%"
      }
     },
     "5cc7753f139340c3abd09a628a01b2a9": {
      "model_module": "@jupyter-widgets/base",
      "model_module_version": "2.0.0",
      "model_name": "LayoutModel",
      "state": {}
     },
     "5cfe7df4ac2e456f88ae9c1c42e4dace": {
      "model_module": "@jupyter-widgets/base",
      "model_module_version": "2.0.0",
      "model_name": "LayoutModel",
      "state": {}
     },
     "5d151f38a47b4961aa8e835bf8f2d222": {
      "model_module": "@jupyter-widgets/controls",
      "model_module_version": "2.0.0",
      "model_name": "HTMLStyleModel",
      "state": {
       "description_width": "",
       "font_size": null,
       "text_color": null
      }
     },
     "5d4fde52e64342c7b5c139c64f9e52cb": {
      "model_module": "@jupyter-widgets/base",
      "model_module_version": "2.0.0",
      "model_name": "LayoutModel",
      "state": {}
     },
     "5ebf03b62bcc466fb0a571f57f7b8f66": {
      "model_module": "@jupyter-widgets/base",
      "model_module_version": "2.0.0",
      "model_name": "LayoutModel",
      "state": {}
     },
     "5ed3f910a3cb49d697f5ce22be8c5504": {
      "model_module": "@jupyter-widgets/base",
      "model_module_version": "2.0.0",
      "model_name": "LayoutModel",
      "state": {}
     },
     "5f6ef5d8be96427db527215a64c434d8": {
      "model_module": "@jupyter-widgets/controls",
      "model_module_version": "2.0.0",
      "model_name": "ProgressStyleModel",
      "state": {
       "description_width": ""
      }
     },
     "5f71520c397f4ad4a3dc67348dcb792b": {
      "model_module": "@jupyter-widgets/controls",
      "model_module_version": "2.0.0",
      "model_name": "HTMLStyleModel",
      "state": {
       "description_width": "",
       "font_size": null,
       "text_color": null
      }
     },
     "6012ea4a382f4379ba1c838608cf32e1": {
      "model_module": "@jupyter-widgets/controls",
      "model_module_version": "2.0.0",
      "model_name": "ProgressStyleModel",
      "state": {
       "description_width": ""
      }
     },
     "601617d5a2dd489c8cdfe3936d4ff578": {
      "model_module": "@jupyter-widgets/controls",
      "model_module_version": "2.0.0",
      "model_name": "HBoxModel",
      "state": {
       "children": [
        "IPY_MODEL_7cfc17e7b12847c7ac0ef430e0cc536c",
        "IPY_MODEL_f68650126a4546f097d92b027cc9d8e9",
        "IPY_MODEL_45a5b17b0ca445aa8487b6c9e4c63c7e"
       ],
       "layout": "IPY_MODEL_2d0b870a2fbd44aa8f556f9e15b1a9e0"
      }
     },
     "603c8728a7c8487399da78e40060748a": {
      "model_module": "@jupyter-widgets/controls",
      "model_module_version": "2.0.0",
      "model_name": "HTMLStyleModel",
      "state": {
       "description_width": "",
       "font_size": null,
       "text_color": null
      }
     },
     "606d8bc8416c4ec2a223eb156f0d9b41": {
      "model_module": "@jupyter-widgets/controls",
      "model_module_version": "2.0.0",
      "model_name": "HTMLStyleModel",
      "state": {
       "description_width": "",
       "font_size": null,
       "text_color": null
      }
     },
     "60cb5881a9d24779b3b6b59a1bdf1234": {
      "model_module": "@jupyter-widgets/controls",
      "model_module_version": "2.0.0",
      "model_name": "ProgressStyleModel",
      "state": {
       "description_width": ""
      }
     },
     "610759e40b9741d28f07c97aeb9dff58": {
      "model_module": "@jupyter-widgets/controls",
      "model_module_version": "2.0.0",
      "model_name": "HBoxModel",
      "state": {
       "children": [
        "IPY_MODEL_7688323bdc5146fe8e9d1da5090d5688",
        "IPY_MODEL_2f6c977acde24cf689eb141730bf760d",
        "IPY_MODEL_517f47691c944d83b5f592989069cd7c"
       ],
       "layout": "IPY_MODEL_c9b76d2f837c4236b374412f1f891478"
      }
     },
     "611d985597a74b26a89fd0b3edc03cc2": {
      "model_module": "@jupyter-widgets/controls",
      "model_module_version": "2.0.0",
      "model_name": "HTMLStyleModel",
      "state": {
       "description_width": "",
       "font_size": null,
       "text_color": null
      }
     },
     "6170756a49874ea6ab31cb123011eb30": {
      "model_module": "@jupyter-widgets/controls",
      "model_module_version": "2.0.0",
      "model_name": "FloatProgressModel",
      "state": {
       "bar_style": "success",
       "layout": "IPY_MODEL_2e1f3a5ba56249f7a88f899340e5711d",
       "max": 26,
       "style": "IPY_MODEL_f68668a1553e4d6fad473a5c4321e976",
       "value": 26
      }
     },
     "6184c5dcf5054a21a7cb081bd007a4da": {
      "model_module": "@jupyter-widgets/controls",
      "model_module_version": "2.0.0",
      "model_name": "HBoxModel",
      "state": {
       "children": [
        "IPY_MODEL_7efcd4b998f646a5a8977a8c2dc9c1c2",
        "IPY_MODEL_76c547c484e3486baefd64e3480aa5d6",
        "IPY_MODEL_ca112d9333ea4797b7b26e37f9e7bfa4"
       ],
       "layout": "IPY_MODEL_30da24c63c69437dbcf1acdec8f24a10"
      }
     },
     "61c45057bca34a46bd45220ec082e1b9": {
      "model_module": "@jupyter-widgets/base",
      "model_module_version": "2.0.0",
      "model_name": "LayoutModel",
      "state": {}
     },
     "623212824235458399158932ea614a05": {
      "model_module": "@jupyter-widgets/base",
      "model_module_version": "2.0.0",
      "model_name": "LayoutModel",
      "state": {}
     },
     "62948db2901346118e7880e21fa16237": {
      "model_module": "@jupyter-widgets/base",
      "model_module_version": "2.0.0",
      "model_name": "LayoutModel",
      "state": {}
     },
     "634986d069314d42922a6f19392b025b": {
      "model_module": "@jupyter-widgets/controls",
      "model_module_version": "2.0.0",
      "model_name": "HTMLStyleModel",
      "state": {
       "description_width": "",
       "font_size": null,
       "text_color": null
      }
     },
     "63f051c28e7a481988bb92cb0f0336fc": {
      "model_module": "@jupyter-widgets/controls",
      "model_module_version": "2.0.0",
      "model_name": "FloatProgressModel",
      "state": {
       "bar_style": "success",
       "layout": "IPY_MODEL_16591aab394f40f8b9856ce2c8b2a368",
       "max": 124,
       "style": "IPY_MODEL_800fe5a227e5452fa6cc55fb8b4496d8",
       "value": 124
      }
     },
     "649d330980cc4f04a7c35464ca525751": {
      "model_module": "@jupyter-widgets/controls",
      "model_module_version": "2.0.0",
      "model_name": "HTMLModel",
      "state": {
       "layout": "IPY_MODEL_a17c6e9a13d3447f8a4cc8d4859a6207",
       "style": "IPY_MODEL_197c4530b3904f9c837caace63a209e6",
       "value": "generation_config.json: 100%"
      }
     },
     "667ae211311a43e9b7d2c814191d8769": {
      "model_module": "@jupyter-widgets/base",
      "model_module_version": "2.0.0",
      "model_name": "LayoutModel",
      "state": {}
     },
     "66f857ebc16b46daac179342a7d421f7": {
      "model_module": "@jupyter-widgets/controls",
      "model_module_version": "2.0.0",
      "model_name": "HTMLStyleModel",
      "state": {
       "description_width": "",
       "font_size": null,
       "text_color": null
      }
     },
     "6826a345a7194170a2d1cf888f371abb": {
      "model_module": "@jupyter-widgets/controls",
      "model_module_version": "2.0.0",
      "model_name": "HTMLStyleModel",
      "state": {
       "description_width": "",
       "font_size": null,
       "text_color": null
      }
     },
     "68edb7c89f934a0490d1c167e479570d": {
      "model_module": "@jupyter-widgets/controls",
      "model_module_version": "2.0.0",
      "model_name": "HBoxModel",
      "state": {
       "children": [
        "IPY_MODEL_e96ba2fcd19c4d89b4fa06d114fa4dfc",
        "IPY_MODEL_3eb642a9a9fb41f493b0eef08b5022a2",
        "IPY_MODEL_577347e7e26e42cdab99d921287a4db3"
       ],
       "layout": "IPY_MODEL_cc82eba62f7441dbb0075c67161812c1"
      }
     },
     "68f1d2d0bee043d9800f9cee8ecf81e0": {
      "model_module": "@jupyter-widgets/controls",
      "model_module_version": "2.0.0",
      "model_name": "HBoxModel",
      "state": {
       "children": [
        "IPY_MODEL_99c0a1bb14074d4492bf570707e7a23c",
        "IPY_MODEL_02520a1b5ac6447f8b371e1d01b3c763",
        "IPY_MODEL_17c7c7ec0a8444d2b1c6d851ac35ee10"
       ],
       "layout": "IPY_MODEL_5cc7753f139340c3abd09a628a01b2a9"
      }
     },
     "694675f8d7a54c54ba8a151d9cb208d2": {
      "model_module": "@jupyter-widgets/controls",
      "model_module_version": "2.0.0",
      "model_name": "FloatProgressModel",
      "state": {
       "bar_style": "success",
       "layout": "IPY_MODEL_70160711faa0462bb0efc18376b2a61e",
       "max": 843438,
       "style": "IPY_MODEL_eb1a11e19ec345f88a17d9b9a62b3eb9",
       "value": 843438
      }
     },
     "698d1f891c1d4e0094976fc5517837a4": {
      "model_module": "@jupyter-widgets/controls",
      "model_module_version": "2.0.0",
      "model_name": "HTMLModel",
      "state": {
       "layout": "IPY_MODEL_fd14afedda6841178afdfeedae4086d4",
       "style": "IPY_MODEL_603c8728a7c8487399da78e40060748a",
       "value": "config.json: 100%"
      }
     },
     "69abbd644a6e4cf4bf3773a78b32c0a4": {
      "model_module": "@jupyter-widgets/base",
      "model_module_version": "2.0.0",
      "model_name": "LayoutModel",
      "state": {}
     },
     "69c11bfb3df04f61a24b6a02ca3dde09": {
      "model_module": "@jupyter-widgets/controls",
      "model_module_version": "2.0.0",
      "model_name": "HTMLStyleModel",
      "state": {
       "description_width": "",
       "font_size": null,
       "text_color": null
      }
     },
     "69f3eb757c664c7093ddcc2895f6a5f3": {
      "model_module": "@jupyter-widgets/controls",
      "model_module_version": "2.0.0",
      "model_name": "ProgressStyleModel",
      "state": {
       "description_width": ""
      }
     },
     "6a9a8892c44147c6bce8f063227c6151": {
      "model_module": "@jupyter-widgets/controls",
      "model_module_version": "2.0.0",
      "model_name": "ProgressStyleModel",
      "state": {
       "description_width": ""
      }
     },
     "6b1b9b6e46644908a43b3513b7cdc8a7": {
      "model_module": "@jupyter-widgets/controls",
      "model_module_version": "2.0.0",
      "model_name": "HTMLStyleModel",
      "state": {
       "description_width": "",
       "font_size": null,
       "text_color": null
      }
     },
     "6b5081e03ecb4e63bf49ebe8e3ad9f0c": {
      "model_module": "@jupyter-widgets/controls",
      "model_module_version": "2.0.0",
      "model_name": "HBoxModel",
      "state": {
       "children": [
        "IPY_MODEL_e96040f6277f4449a1c2a117bc66aaf9",
        "IPY_MODEL_5b8b0567552247cb9b771c7196b6d1b0",
        "IPY_MODEL_387681d5aabb4e8d99c5cac1933292f3"
       ],
       "layout": "IPY_MODEL_6fefc91785b0417db7c5c50eccff0d3d"
      }
     },
     "6b5894ab34b1485e8380423c20a0f97f": {
      "model_module": "@jupyter-widgets/controls",
      "model_module_version": "2.0.0",
      "model_name": "FloatProgressModel",
      "state": {
       "bar_style": "success",
       "layout": "IPY_MODEL_3991167601c644a3887b15d3be0648e6",
       "max": 435755784,
       "style": "IPY_MODEL_8c421eceb5b24bf7acc890c3015c647b",
       "value": 435755784
      }
     },
     "6b9b94cf26f144ea940cdf5df3c3e287": {
      "model_module": "@jupyter-widgets/base",
      "model_module_version": "2.0.0",
      "model_name": "LayoutModel",
      "state": {}
     },
     "6bf053300a724bc39ee1ff456b73ac55": {
      "model_module": "@jupyter-widgets/controls",
      "model_module_version": "2.0.0",
      "model_name": "HTMLStyleModel",
      "state": {
       "description_width": "",
       "font_size": null,
       "text_color": null
      }
     },
     "6c172239faf043aa962cb1911f93265d": {
      "model_module": "@jupyter-widgets/controls",
      "model_module_version": "2.0.0",
      "model_name": "HTMLModel",
      "state": {
       "layout": "IPY_MODEL_8d023ad87f9a43088357b73883d671c7",
       "style": "IPY_MODEL_04de778b3b244c919d6660221a6aaa2a",
       "value": "tokenizer_config.json: 100%"
      }
     },
     "6cc1289529d84c5ebd0b80e41fca5882": {
      "model_module": "@jupyter-widgets/controls",
      "model_module_version": "2.0.0",
      "model_name": "FloatProgressModel",
      "state": {
       "bar_style": "success",
       "layout": "IPY_MODEL_2a7b2d089660407199fc04b8b3fd1e01",
       "max": 267832558,
       "style": "IPY_MODEL_6d70130f27994f1eaba47f931fe02085",
       "value": 267832558
      }
     },
     "6d41b76e72524776bb39d2c7e17cf33f": {
      "model_module": "@jupyter-widgets/controls",
      "model_module_version": "2.0.0",
      "model_name": "HTMLModel",
      "state": {
       "layout": "IPY_MODEL_babe1bdf87bb4d2482e529ba45e90cfb",
       "style": "IPY_MODEL_e8094ac92acf45df91c2c6f0175e991f",
       "value": "merges.txt: 100%"
      }
     },
     "6d532e726607486f8bbe7665e1e130dc": {
      "model_module": "@jupyter-widgets/controls",
      "model_module_version": "2.0.0",
      "model_name": "HBoxModel",
      "state": {
       "children": [
        "IPY_MODEL_6c172239faf043aa962cb1911f93265d",
        "IPY_MODEL_46e628937dc34d9fa4fd62edf201c578",
        "IPY_MODEL_92787e5dc48c4d94af70a450e3af5ef0"
       ],
       "layout": "IPY_MODEL_80b4d4af30e44842ba42b0ef6a429b3f"
      }
     },
     "6d61bff00fa14e7abe6b7feddda60b43": {
      "model_module": "@jupyter-widgets/controls",
      "model_module_version": "2.0.0",
      "model_name": "HTMLModel",
      "state": {
       "layout": "IPY_MODEL_f585c15e57c7401b8053d1ed8dac250d",
       "style": "IPY_MODEL_9d0dababf42943e7b45bf51f1fa79d34",
       "value": " 762/762 [00:00&lt;00:00, 58.3kB/s]"
      }
     },
     "6d70130f27994f1eaba47f931fe02085": {
      "model_module": "@jupyter-widgets/controls",
      "model_module_version": "2.0.0",
      "model_name": "ProgressStyleModel",
      "state": {
       "description_width": ""
      }
     },
     "6d89026cc5f54e5f9d0532d676dbad21": {
      "model_module": "@jupyter-widgets/base",
      "model_module_version": "2.0.0",
      "model_name": "LayoutModel",
      "state": {}
     },
     "6e6a5d4060c74700b25d43abd7ae3519": {
      "model_module": "@jupyter-widgets/controls",
      "model_module_version": "2.0.0",
      "model_name": "ProgressStyleModel",
      "state": {
       "description_width": ""
      }
     },
     "6ead6898dee5496983fd4b9724e43817": {
      "model_module": "@jupyter-widgets/base",
      "model_module_version": "2.0.0",
      "model_name": "LayoutModel",
      "state": {}
     },
     "6f1c73c1958b4c1c8eab6cdd9eba4d33": {
      "model_module": "@jupyter-widgets/controls",
      "model_module_version": "2.0.0",
      "model_name": "HTMLModel",
      "state": {
       "layout": "IPY_MODEL_69abbd644a6e4cf4bf3773a78b32c0a4",
       "style": "IPY_MODEL_722753eb486a45f797cd98f10aeae14b",
       "value": "config.json: 100%"
      }
     },
     "6fefc91785b0417db7c5c50eccff0d3d": {
      "model_module": "@jupyter-widgets/base",
      "model_module_version": "2.0.0",
      "model_name": "LayoutModel",
      "state": {}
     },
     "70160711faa0462bb0efc18376b2a61e": {
      "model_module": "@jupyter-widgets/base",
      "model_module_version": "2.0.0",
      "model_name": "LayoutModel",
      "state": {}
     },
     "7048da3142f34664af93e13a5459eedb": {
      "model_module": "@jupyter-widgets/controls",
      "model_module_version": "2.0.0",
      "model_name": "HBoxModel",
      "state": {
       "children": [
        "IPY_MODEL_d0e8cb6fa88546c4b4a0071cbdc09db8",
        "IPY_MODEL_dfe18bd95921433b8c70f958790c7255",
        "IPY_MODEL_e6c759ba8cc44f3784399a38f373c81e"
       ],
       "layout": "IPY_MODEL_18e5e5e1c8754a1786aa4b0144cc31d3"
      }
     },
     "70deeb7ea4b3410a99f0e5605a5e398e": {
      "model_module": "@jupyter-widgets/controls",
      "model_module_version": "2.0.0",
      "model_name": "HTMLStyleModel",
      "state": {
       "description_width": "",
       "font_size": null,
       "text_color": null
      }
     },
     "70ec9050acd24e0eabceb4af4e3662b6": {
      "model_module": "@jupyter-widgets/controls",
      "model_module_version": "2.0.0",
      "model_name": "HBoxModel",
      "state": {
       "children": [
        "IPY_MODEL_73a21c9961574cb4b9017408d970ac03",
        "IPY_MODEL_c84ffa1c95ca4cb5a6eddb830d69e610",
        "IPY_MODEL_f7ce794ceca5445d90084d040b14e6ca"
       ],
       "layout": "IPY_MODEL_5cfe7df4ac2e456f88ae9c1c42e4dace"
      }
     },
     "70f4d5e805cf4b9ca2635f14b2cb9821": {
      "model_module": "@jupyter-widgets/base",
      "model_module_version": "2.0.0",
      "model_name": "LayoutModel",
      "state": {}
     },
     "7132314782f34e178c50ec52b956aba2": {
      "model_module": "@jupyter-widgets/base",
      "model_module_version": "2.0.0",
      "model_name": "LayoutModel",
      "state": {}
     },
     "722753eb486a45f797cd98f10aeae14b": {
      "model_module": "@jupyter-widgets/controls",
      "model_module_version": "2.0.0",
      "model_name": "HTMLStyleModel",
      "state": {
       "description_width": "",
       "font_size": null,
       "text_color": null
      }
     },
     "72d76f4a3f14438bacdd4dd4e9e98063": {
      "model_module": "@jupyter-widgets/base",
      "model_module_version": "2.0.0",
      "model_name": "LayoutModel",
      "state": {}
     },
     "73a21c9961574cb4b9017408d970ac03": {
      "model_module": "@jupyter-widgets/controls",
      "model_module_version": "2.0.0",
      "model_name": "HTMLModel",
      "state": {
       "layout": "IPY_MODEL_840368afb5c9496c8ca39525b449c2b2",
       "style": "IPY_MODEL_2a71f00d8d9244249e7b51cf69b5c934",
       "value": "tokenizer_config.json: 100%"
      }
     },
     "73af3eb394084df2a04c84a46496ab75": {
      "model_module": "@jupyter-widgets/base",
      "model_module_version": "2.0.0",
      "model_name": "LayoutModel",
      "state": {}
     },
     "7549ef3e617041dea8665bcdf7cb07bf": {
      "model_module": "@jupyter-widgets/base",
      "model_module_version": "2.0.0",
      "model_name": "LayoutModel",
      "state": {}
     },
     "758c11930f95473f8c00ffd005d7deab": {
      "model_module": "@jupyter-widgets/controls",
      "model_module_version": "2.0.0",
      "model_name": "HTMLModel",
      "state": {
       "layout": "IPY_MODEL_f0c189e3ea5041948d39ca4f880d0083",
       "style": "IPY_MODEL_81868fd071c24bd291119e9703e82349",
       "value": "tokenizer_config.json: 100%"
      }
     },
     "75d7023e17f24da4abb315aea4fce3c4": {
      "model_module": "@jupyter-widgets/controls",
      "model_module_version": "2.0.0",
      "model_name": "FloatProgressModel",
      "state": {
       "bar_style": "success",
       "layout": "IPY_MODEL_d143442ea64f45718b216a938ad0a22d",
       "max": 25,
       "style": "IPY_MODEL_5bab27d289634eb2ae585a938db63c89",
       "value": 25
      }
     },
     "763974e186e3487b8c2baf1e3ec323c0": {
      "model_module": "@jupyter-widgets/controls",
      "model_module_version": "2.0.0",
      "model_name": "FloatProgressModel",
      "state": {
       "bar_style": "success",
       "layout": "IPY_MODEL_4ffff9648d6544ea996dab614a945c52",
       "max": 331055963,
       "style": "IPY_MODEL_ba41a74fb15a41538b58d9b219eec42b",
       "value": 331055963
      }
     },
     "76518b4a7a2e40b6801dbf2d022e56e2": {
      "model_module": "@jupyter-widgets/controls",
      "model_module_version": "2.0.0",
      "model_name": "HTMLStyleModel",
      "state": {
       "description_width": "",
       "font_size": null,
       "text_color": null
      }
     },
     "7688323bdc5146fe8e9d1da5090d5688": {
      "model_module": "@jupyter-widgets/controls",
      "model_module_version": "2.0.0",
      "model_name": "HTMLModel",
      "state": {
       "layout": "IPY_MODEL_3127378e37d84288a20ba5906f0fafdd",
       "style": "IPY_MODEL_30d2433d0adb4d039906092f66cab784",
       "value": "tokenizer.json: 100%"
      }
     },
     "76c547c484e3486baefd64e3480aa5d6": {
      "model_module": "@jupyter-widgets/controls",
      "model_module_version": "2.0.0",
      "model_name": "FloatProgressModel",
      "state": {
       "bar_style": "success",
       "layout": "IPY_MODEL_03e2d7bbcc824efc95ded18cd2b5e1a9",
       "max": 1086,
       "style": "IPY_MODEL_5a6b042928534bbd985d669a73293066",
       "value": 1086
      }
     },
     "76ce9d6f9ee245d99c215187c5300c89": {
      "model_module": "@jupyter-widgets/controls",
      "model_module_version": "2.0.0",
      "model_name": "HBoxModel",
      "state": {
       "children": [
        "IPY_MODEL_6f1c73c1958b4c1c8eab6cdd9eba4d33",
        "IPY_MODEL_1469d4586740475c8414d759aafe3ac0",
        "IPY_MODEL_9106ee5c0bd74845b8f93cd71f621c3b"
       ],
       "layout": "IPY_MODEL_d98b9b6679bf4322b6aa1a74fc07082f"
      }
     },
     "77194e5a9ed4469fac83eba570bf43e6": {
      "model_module": "@jupyter-widgets/controls",
      "model_module_version": "2.0.0",
      "model_name": "HTMLModel",
      "state": {
       "layout": "IPY_MODEL_0ea5112990204df8be41ea45f95ec549",
       "style": "IPY_MODEL_2ef276153ad94150932ec7034531dfb6",
       "value": "model.safetensors: 100%"
      }
     },
     "777c18c07c7048a4bf69e547d4e8ae6e": {
      "model_module": "@jupyter-widgets/controls",
      "model_module_version": "2.0.0",
      "model_name": "HTMLStyleModel",
      "state": {
       "description_width": "",
       "font_size": null,
       "text_color": null
      }
     },
     "783b59184723442cafa3e4da40ef76b8": {
      "model_module": "@jupyter-widgets/controls",
      "model_module_version": "2.0.0",
      "model_name": "HTMLModel",
      "state": {
       "layout": "IPY_MODEL_3b0dd3bf72294f0fb544de762a653101",
       "style": "IPY_MODEL_d420d1533fcb45ee9f0bb1f4fb80c75c",
       "value": " 1.63G/1.63G [00:31&lt;00:00, 40.3MB/s]"
      }
     },
     "7850d6a10230463582b7aa934a23a3b6": {
      "model_module": "@jupyter-widgets/base",
      "model_module_version": "2.0.0",
      "model_name": "LayoutModel",
      "state": {}
     },
     "790497d922dc46caa252431f404b3a54": {
      "model_module": "@jupyter-widgets/base",
      "model_module_version": "2.0.0",
      "model_name": "LayoutModel",
      "state": {}
     },
     "794ac82d6b634bddb6df3beb3e6ccaed": {
      "model_module": "@jupyter-widgets/base",
      "model_module_version": "2.0.0",
      "model_name": "LayoutModel",
      "state": {}
     },
     "79b9fdc7738b4e719e095348caf0c6c8": {
      "model_module": "@jupyter-widgets/controls",
      "model_module_version": "2.0.0",
      "model_name": "HTMLStyleModel",
      "state": {
       "description_width": "",
       "font_size": null,
       "text_color": null
      }
     },
     "7a29433e24074df2ace7fcc338af6026": {
      "model_module": "@jupyter-widgets/controls",
      "model_module_version": "2.0.0",
      "model_name": "HTMLStyleModel",
      "state": {
       "description_width": "",
       "font_size": null,
       "text_color": null
      }
     },
     "7a97b890fb96410fb7110c64c80a7515": {
      "model_module": "@jupyter-widgets/controls",
      "model_module_version": "2.0.0",
      "model_name": "HTMLModel",
      "state": {
       "layout": "IPY_MODEL_b363899ea8944387836d328713318975",
       "style": "IPY_MODEL_deeba671196544f5ac10a86a0615cd20",
       "value": "merges.txt: 100%"
      }
     },
     "7b1caff74e594e09b9db42a19a5963f6": {
      "model_module": "@jupyter-widgets/base",
      "model_module_version": "2.0.0",
      "model_name": "LayoutModel",
      "state": {}
     },
     "7b1dcc1409814b7ea01fc81fbe50ff3f": {
      "model_module": "@jupyter-widgets/base",
      "model_module_version": "2.0.0",
      "model_name": "LayoutModel",
      "state": {}
     },
     "7b4d8c1a87024e9a9336e10b87bf2e41": {
      "model_module": "@jupyter-widgets/controls",
      "model_module_version": "2.0.0",
      "model_name": "HTMLStyleModel",
      "state": {
       "description_width": "",
       "font_size": null,
       "text_color": null
      }
     },
     "7c108f9ec6bf4561a672b8260f57f8ed": {
      "model_module": "@jupyter-widgets/controls",
      "model_module_version": "2.0.0",
      "model_name": "HTMLStyleModel",
      "state": {
       "description_width": "",
       "font_size": null,
       "text_color": null
      }
     },
     "7c67c862a3924bb69a158ffb3a15ea39": {
      "model_module": "@jupyter-widgets/base",
      "model_module_version": "2.0.0",
      "model_name": "LayoutModel",
      "state": {}
     },
     "7caaa69e1a424b13a67f7d7a870b831d": {
      "model_module": "@jupyter-widgets/controls",
      "model_module_version": "2.0.0",
      "model_name": "HTMLModel",
      "state": {
       "layout": "IPY_MODEL_7fb3c80070fd4ef7ba862a8cb637e7b8",
       "style": "IPY_MODEL_7e84cecf22594771819cb683e5ec3917",
       "value": " 213k/213k [00:00&lt;00:00, 17.0MB/s]"
      }
     },
     "7cfc17e7b12847c7ac0ef430e0cc536c": {
      "model_module": "@jupyter-widgets/controls",
      "model_module_version": "2.0.0",
      "model_name": "HTMLModel",
      "state": {
       "layout": "IPY_MODEL_99a4411fe88f4e71b1d2d64e2a1bf93f",
       "style": "IPY_MODEL_4819b4ac7fee490cb131305d8612ddc7",
       "value": "vocab.json: 100%"
      }
     },
     "7de7b235b7e44a01a18daf4154dad74d": {
      "model_module": "@jupyter-widgets/controls",
      "model_module_version": "2.0.0",
      "model_name": "HTMLModel",
      "state": {
       "layout": "IPY_MODEL_0c33ae2877fb4a849dad7f24a9a1b666",
       "style": "IPY_MODEL_5413e49e65a34e17980e0db39739aa7e",
       "value": " 124/124 [00:00&lt;00:00, 50.9kB/s]"
      }
     },
     "7dfc9045016c4266b2087f2b9dc6a942": {
      "model_module": "@jupyter-widgets/controls",
      "model_module_version": "2.0.0",
      "model_name": "HBoxModel",
      "state": {
       "children": [
        "IPY_MODEL_88ed420f0653439daa88e6a3c85fb5ae",
        "IPY_MODEL_8d95d29f29144ee4a52824f46ae83460",
        "IPY_MODEL_e212004c97ca44aab81af1149cd3ee54"
       ],
       "layout": "IPY_MODEL_3a2dd35f797e4244ae94295939ab9fed"
      }
     },
     "7e84cecf22594771819cb683e5ec3917": {
      "model_module": "@jupyter-widgets/controls",
      "model_module_version": "2.0.0",
      "model_name": "HTMLStyleModel",
      "state": {
       "description_width": "",
       "font_size": null,
       "text_color": null
      }
     },
     "7efcd4b998f646a5a8977a8c2dc9c1c2": {
      "model_module": "@jupyter-widgets/controls",
      "model_module_version": "2.0.0",
      "model_name": "HTMLModel",
      "state": {
       "layout": "IPY_MODEL_3f2272da6f054bb2a37dfe69635fdd01",
       "style": "IPY_MODEL_76518b4a7a2e40b6801dbf2d022e56e2",
       "value": "config.json: 100%"
      }
     },
     "7f6844b36bf94b03bffd375eb795bb56": {
      "model_module": "@jupyter-widgets/controls",
      "model_module_version": "2.0.0",
      "model_name": "HTMLModel",
      "state": {
       "layout": "IPY_MODEL_6d89026cc5f54e5f9d0532d676dbad21",
       "style": "IPY_MODEL_dac207f3c04d4a7694e3efe5baa9bf82",
       "value": "tokenizer_config.json: 100%"
      }
     },
     "7f870920908f4dee83068418d1d3ca16": {
      "model_module": "@jupyter-widgets/base",
      "model_module_version": "2.0.0",
      "model_name": "LayoutModel",
      "state": {}
     },
     "7fb3c80070fd4ef7ba862a8cb637e7b8": {
      "model_module": "@jupyter-widgets/base",
      "model_module_version": "2.0.0",
      "model_name": "LayoutModel",
      "state": {}
     },
     "800fe5a227e5452fa6cc55fb8b4496d8": {
      "model_module": "@jupyter-widgets/controls",
      "model_module_version": "2.0.0",
      "model_name": "ProgressStyleModel",
      "state": {
       "description_width": ""
      }
     },
     "8059c97643764e07a1b6d7065baa4dbd": {
      "model_module": "@jupyter-widgets/controls",
      "model_module_version": "2.0.0",
      "model_name": "HTMLStyleModel",
      "state": {
       "description_width": "",
       "font_size": null,
       "text_color": null
      }
     },
     "8080dcfe7b32475ab07961ff7b233309": {
      "model_module": "@jupyter-widgets/base",
      "model_module_version": "2.0.0",
      "model_name": "LayoutModel",
      "state": {}
     },
     "80b4d4af30e44842ba42b0ef6a429b3f": {
      "model_module": "@jupyter-widgets/base",
      "model_module_version": "2.0.0",
      "model_name": "LayoutModel",
      "state": {}
     },
     "810b2ae2d6ff40409a63d453faed7d03": {
      "model_module": "@jupyter-widgets/base",
      "model_module_version": "2.0.0",
      "model_name": "LayoutModel",
      "state": {}
     },
     "81868fd071c24bd291119e9703e82349": {
      "model_module": "@jupyter-widgets/controls",
      "model_module_version": "2.0.0",
      "model_name": "HTMLStyleModel",
      "state": {
       "description_width": "",
       "font_size": null,
       "text_color": null
      }
     },
     "82014c3c7c5843e6b5d0e508ec42259f": {
      "model_module": "@jupyter-widgets/base",
      "model_module_version": "2.0.0",
      "model_name": "LayoutModel",
      "state": {}
     },
     "825e72cc0ce847b3b09a82bd36441d90": {
      "model_module": "@jupyter-widgets/controls",
      "model_module_version": "2.0.0",
      "model_name": "HBoxModel",
      "state": {
       "children": [
        "IPY_MODEL_1bec0ab28387436b82433a9ba1a95d56",
        "IPY_MODEL_6cc1289529d84c5ebd0b80e41fca5882",
        "IPY_MODEL_54afa8a21d4845c5b4d76c4952e27601"
       ],
       "layout": "IPY_MODEL_40301ac58c04449bb26390e7518e60fc"
      }
     },
     "82eb593ab5934f30a08456307a5d5f00": {
      "model_module": "@jupyter-widgets/base",
      "model_module_version": "2.0.0",
      "model_name": "LayoutModel",
      "state": {}
     },
     "83ae649565254513bf2795e903e9c255": {
      "model_module": "@jupyter-widgets/controls",
      "model_module_version": "2.0.0",
      "model_name": "HBoxModel",
      "state": {
       "children": [
        "IPY_MODEL_fe3be07f3cf0423ebbc78a2316e7fad2",
        "IPY_MODEL_9f52c2af45a74d8fa78ed47b384dc308",
        "IPY_MODEL_30bbbb16c3714b4389dc3935f6fc8f39"
       ],
       "layout": "IPY_MODEL_d788b55605bc4dcbb723a0d91fe4fbe0"
      }
     },
     "83aeddcdac6c44eb84928566e092e382": {
      "model_module": "@jupyter-widgets/controls",
      "model_module_version": "2.0.0",
      "model_name": "HTMLStyleModel",
      "state": {
       "description_width": "",
       "font_size": null,
       "text_color": null
      }
     },
     "83fa387f2d5c4bf28185e0e6a3a809bf": {
      "model_module": "@jupyter-widgets/controls",
      "model_module_version": "2.0.0",
      "model_name": "ProgressStyleModel",
      "state": {
       "description_width": ""
      }
     },
     "840368afb5c9496c8ca39525b449c2b2": {
      "model_module": "@jupyter-widgets/base",
      "model_module_version": "2.0.0",
      "model_name": "LayoutModel",
      "state": {}
     },
     "840d187417ee42ef8a581657793d6920": {
      "model_module": "@jupyter-widgets/controls",
      "model_module_version": "2.0.0",
      "model_name": "HTMLModel",
      "state": {
       "layout": "IPY_MODEL_70f4d5e805cf4b9ca2635f14b2cb9821",
       "style": "IPY_MODEL_634986d069314d42922a6f19392b025b",
       "value": " 17.0/17.0 [00:00&lt;00:00, 1.09kB/s]"
      }
     },
     "8492a67cbaf34d86aff037d9aa4e45c4": {
      "model_module": "@jupyter-widgets/controls",
      "model_module_version": "2.0.0",
      "model_name": "HTMLStyleModel",
      "state": {
       "description_width": "",
       "font_size": null,
       "text_color": null
      }
     },
     "8510d9bcd9d64140a20b66b6d68a08aa": {
      "model_module": "@jupyter-widgets/controls",
      "model_module_version": "2.0.0",
      "model_name": "HBoxModel",
      "state": {
       "children": [
        "IPY_MODEL_104220e3ad5c41bc8316900976710cc2",
        "IPY_MODEL_3b29d13483ad4d44a45a91eb2125784f",
        "IPY_MODEL_95ee0ef561fa4c068270979c2ed265b3"
       ],
       "layout": "IPY_MODEL_0a20083c16214b77b52d8bda646ddc30"
      }
     },
     "852caab8a3574653b0c55d54135a3e4d": {
      "model_module": "@jupyter-widgets/base",
      "model_module_version": "2.0.0",
      "model_name": "LayoutModel",
      "state": {}
     },
     "858499acb3ba407a8e83502d1741ca0e": {
      "model_module": "@jupyter-widgets/controls",
      "model_module_version": "2.0.0",
      "model_name": "HBoxModel",
      "state": {
       "children": [
        "IPY_MODEL_1bbd3beeb7694bb29d42782114a04c37",
        "IPY_MODEL_b9f51d8b52244a129b47ca651044bd87",
        "IPY_MODEL_2ea265ec1496418da52c9ebc35f986a7"
       ],
       "layout": "IPY_MODEL_2546c15fceb44dac9125babb0b95e8a7"
      }
     },
     "85a744e2b4744ee39581101a0c5bbb54": {
      "model_module": "@jupyter-widgets/base",
      "model_module_version": "2.0.0",
      "model_name": "LayoutModel",
      "state": {}
     },
     "877ee2c3be6e4cb7a748129592083a16": {
      "model_module": "@jupyter-widgets/controls",
      "model_module_version": "2.0.0",
      "model_name": "HTMLModel",
      "state": {
       "layout": "IPY_MODEL_a5616affc3eb4e1eb14fb105866becd7",
       "style": "IPY_MODEL_afdc636d7bbc43beb1f3048e1a9bcf60",
       "value": "vocab.txt: 100%"
      }
     },
     "88dc7a20b76a4bf196287ece6ea590de": {
      "model_module": "@jupyter-widgets/controls",
      "model_module_version": "2.0.0",
      "model_name": "HTMLModel",
      "state": {
       "layout": "IPY_MODEL_f52278f139ac4813b6ca618243d5eedd",
       "style": "IPY_MODEL_8492a67cbaf34d86aff037d9aa4e45c4",
       "value": "model.safetensors: 100%"
      }
     },
     "88ed420f0653439daa88e6a3c85fb5ae": {
      "model_module": "@jupyter-widgets/controls",
      "model_module_version": "2.0.0",
      "model_name": "HTMLModel",
      "state": {
       "layout": "IPY_MODEL_57bf80be2cd84ea7a6c2d2564e8ccc29",
       "style": "IPY_MODEL_7c108f9ec6bf4561a672b8260f57f8ed",
       "value": "merges.txt: 100%"
      }
     },
     "88f5f696676c4244a10e60c4e7576ee2": {
      "model_module": "@jupyter-widgets/controls",
      "model_module_version": "2.0.0",
      "model_name": "HBoxModel",
      "state": {
       "children": [
        "IPY_MODEL_15ff76af6a9740308d5b9998f385bb33",
        "IPY_MODEL_75d7023e17f24da4abb315aea4fce3c4",
        "IPY_MODEL_f3ac05e3c10a486e826917689a49596d"
       ],
       "layout": "IPY_MODEL_2d47289ce3dd43d0a76cfcf95d21d7fe"
      }
     },
     "89ea45a218cd4b018a4751b762fe3372": {
      "model_module": "@jupyter-widgets/base",
      "model_module_version": "2.0.0",
      "model_name": "LayoutModel",
      "state": {}
     },
     "8acc3f4474ee48f180e12b6de2410f67": {
      "model_module": "@jupyter-widgets/controls",
      "model_module_version": "2.0.0",
      "model_name": "HTMLModel",
      "state": {
       "layout": "IPY_MODEL_b7f09326b0b7403c8192f91547619525",
       "style": "IPY_MODEL_d4412679fc5b444289017a31e24614ea",
       "value": "tokenizer.json: 100%"
      }
     },
     "8b742cbee5834534abb9503584e2bf21": {
      "model_module": "@jupyter-widgets/controls",
      "model_module_version": "2.0.0",
      "model_name": "HTMLStyleModel",
      "state": {
       "description_width": "",
       "font_size": null,
       "text_color": null
      }
     },
     "8bdfd013740f423785f4b996dc150b68": {
      "model_module": "@jupyter-widgets/controls",
      "model_module_version": "2.0.0",
      "model_name": "ProgressStyleModel",
      "state": {
       "description_width": ""
      }
     },
     "8bf677aef14d460e9680595027397a54": {
      "model_module": "@jupyter-widgets/controls",
      "model_module_version": "2.0.0",
      "model_name": "FloatProgressModel",
      "state": {
       "bar_style": "success",
       "layout": "IPY_MODEL_4c142bc8450042f887aa93d7e0b41c1c",
       "max": 1353,
       "style": "IPY_MODEL_ec6631f3bfa74f86aa0b85114c1e7021",
       "value": 1353
      }
     },
     "8c39272218ba4f3e8157732f35231e4f": {
      "model_module": "@jupyter-widgets/controls",
      "model_module_version": "2.0.0",
      "model_name": "HTMLModel",
      "state": {
       "layout": "IPY_MODEL_b3c55cb75c37409684c64bab390054cc",
       "style": "IPY_MODEL_034a9d2805814d52bda411d4aff19c3e",
       "value": "vocab.txt: 100%"
      }
     },
     "8c421eceb5b24bf7acc890c3015c647b": {
      "model_module": "@jupyter-widgets/controls",
      "model_module_version": "2.0.0",
      "model_name": "ProgressStyleModel",
      "state": {
       "description_width": ""
      }
     },
     "8d023ad87f9a43088357b73883d671c7": {
      "model_module": "@jupyter-widgets/base",
      "model_module_version": "2.0.0",
      "model_name": "LayoutModel",
      "state": {}
     },
     "8d609d5b1e9944d0ad6cec66b79684ec": {
      "model_module": "@jupyter-widgets/controls",
      "model_module_version": "2.0.0",
      "model_name": "ProgressStyleModel",
      "state": {
       "description_width": ""
      }
     },
     "8d95d29f29144ee4a52824f46ae83460": {
      "model_module": "@jupyter-widgets/controls",
      "model_module_version": "2.0.0",
      "model_name": "FloatProgressModel",
      "state": {
       "bar_style": "success",
       "layout": "IPY_MODEL_2222009f4bb34d538e2eef0426fd4984",
       "max": 456318,
       "style": "IPY_MODEL_6e6a5d4060c74700b25d43abd7ae3519",
       "value": 456318
      }
     },
     "8e3379ab976d47a3b74352ade5b77502": {
      "model_module": "@jupyter-widgets/base",
      "model_module_version": "2.0.0",
      "model_name": "LayoutModel",
      "state": {}
     },
     "8e8f39a3e6cb41a2aec5c2e166f7cc56": {
      "model_module": "@jupyter-widgets/controls",
      "model_module_version": "2.0.0",
      "model_name": "HBoxModel",
      "state": {
       "children": [
        "IPY_MODEL_41c72985077d42f88306bc8ad0bbdf9c",
        "IPY_MODEL_fe4e41989d4e4f22a8a1b5e851df2283",
        "IPY_MODEL_31f8c0a127e24f02995334299fa9670a"
       ],
       "layout": "IPY_MODEL_bb292e29f45a424da98d14d8e8c42564"
      }
     },
     "8ebb54878c9e47818858e3fa0808778a": {
      "model_module": "@jupyter-widgets/base",
      "model_module_version": "2.0.0",
      "model_name": "LayoutModel",
      "state": {}
     },
     "8f3c941a8ff34e81b48ea89d37b7a41a": {
      "model_module": "@jupyter-widgets/base",
      "model_module_version": "2.0.0",
      "model_name": "LayoutModel",
      "state": {}
     },
     "8f6905339542431cba5f300214425874": {
      "model_module": "@jupyter-widgets/controls",
      "model_module_version": "2.0.0",
      "model_name": "HTMLModel",
      "state": {
       "layout": "IPY_MODEL_1cf77a5a900448c48075af1029416343",
       "style": "IPY_MODEL_2d41ac6901b2490bbb8b5c96d042399e",
       "value": "tokenizer_config.json: 100%"
      }
     },
     "901c3f0938ba4123be10cb7e5a90ed24": {
      "model_module": "@jupyter-widgets/controls",
      "model_module_version": "2.0.0",
      "model_name": "ProgressStyleModel",
      "state": {
       "description_width": ""
      }
     },
     "906eac0c7d7f4dbf8f7fe59bf0c61be3": {
      "model_module": "@jupyter-widgets/controls",
      "model_module_version": "2.0.0",
      "model_name": "HTMLStyleModel",
      "state": {
       "description_width": "",
       "font_size": null,
       "text_color": null
      }
     },
     "90ac3f2bc83642448c97127da7c289d4": {
      "model_module": "@jupyter-widgets/controls",
      "model_module_version": "2.0.0",
      "model_name": "HTMLStyleModel",
      "state": {
       "description_width": "",
       "font_size": null,
       "text_color": null
      }
     },
     "90cffca19a1b467bbbe7a380a340f0eb": {
      "model_module": "@jupyter-widgets/base",
      "model_module_version": "2.0.0",
      "model_name": "LayoutModel",
      "state": {}
     },
     "90f1fb1c34b24fd2924119c078c5d78e": {
      "model_module": "@jupyter-widgets/controls",
      "model_module_version": "2.0.0",
      "model_name": "HTMLStyleModel",
      "state": {
       "description_width": "",
       "font_size": null,
       "text_color": null
      }
     },
     "9106ee5c0bd74845b8f93cd71f621c3b": {
      "model_module": "@jupyter-widgets/controls",
      "model_module_version": "2.0.0",
      "model_name": "HTMLModel",
      "state": {
       "layout": "IPY_MODEL_8ebb54878c9e47818858e3fa0808778a",
       "style": "IPY_MODEL_d6fc067c0a8f47dc8a938f8f018b4bd5",
       "value": " 629/629 [00:00&lt;00:00, 135kB/s]"
      }
     },
     "911c5c80f1454f6da6cbe622d1e58b8c": {
      "model_module": "@jupyter-widgets/controls",
      "model_module_version": "2.0.0",
      "model_name": "HBoxModel",
      "state": {
       "children": [
        "IPY_MODEL_1a9800eaa2374601aeb9d3aa58fece29",
        "IPY_MODEL_3e1b82f4577148e5b8ca8b0c62c54c4b",
        "IPY_MODEL_11a85b74c9814a4aaa409aff9e4a3d2b"
       ],
       "layout": "IPY_MODEL_cb81cf0b6ddd4a8fb75cf288cfbe8831"
      }
     },
     "92787e5dc48c4d94af70a450e3af5ef0": {
      "model_module": "@jupyter-widgets/controls",
      "model_module_version": "2.0.0",
      "model_name": "HTMLModel",
      "state": {
       "layout": "IPY_MODEL_8e3379ab976d47a3b74352ade5b77502",
       "style": "IPY_MODEL_611d985597a74b26a89fd0b3edc03cc2",
       "value": " 26.0/26.0 [00:00&lt;00:00, 611B/s]"
      }
     },
     "9280a9e829c94f3098ada4ae016fba68": {
      "model_module": "@jupyter-widgets/base",
      "model_module_version": "2.0.0",
      "model_name": "LayoutModel",
      "state": {}
     },
     "93188018d73f4ce1b873e24a14d4a39e": {
      "model_module": "@jupyter-widgets/base",
      "model_module_version": "2.0.0",
      "model_name": "LayoutModel",
      "state": {}
     },
     "938b8add5b644d9fb75297fa2593f258": {
      "model_module": "@jupyter-widgets/controls",
      "model_module_version": "2.0.0",
      "model_name": "HTMLStyleModel",
      "state": {
       "description_width": "",
       "font_size": null,
       "text_color": null
      }
     },
     "93b9bbc1f66b4c24b7837c76ede9c6c3": {
      "model_module": "@jupyter-widgets/base",
      "model_module_version": "2.0.0",
      "model_name": "LayoutModel",
      "state": {}
     },
     "9440d62d99664a93a6d5748d08624b43": {
      "model_module": "@jupyter-widgets/controls",
      "model_module_version": "2.0.0",
      "model_name": "ProgressStyleModel",
      "state": {
       "description_width": ""
      }
     },
     "95ee0ef561fa4c068270979c2ed265b3": {
      "model_module": "@jupyter-widgets/controls",
      "model_module_version": "2.0.0",
      "model_name": "HTMLModel",
      "state": {
       "layout": "IPY_MODEL_274a1c8fb33445bfb3b72ad438b02e97",
       "style": "IPY_MODEL_f1c8777e93a14a5080d309bd312c535d",
       "value": " 59.0/59.0 [00:00&lt;00:00, 19.4kB/s]"
      }
     },
     "9603de1b662143b9bc502eb42ae586f8": {
      "model_module": "@jupyter-widgets/base",
      "model_module_version": "2.0.0",
      "model_name": "LayoutModel",
      "state": {}
     },
     "964a8057317a48b9919a6f149e6190f9": {
      "model_module": "@jupyter-widgets/controls",
      "model_module_version": "2.0.0",
      "model_name": "HTMLStyleModel",
      "state": {
       "description_width": "",
       "font_size": null,
       "text_color": null
      }
     },
     "96bf8bbe636d469299e585ff6b20e111": {
      "model_module": "@jupyter-widgets/controls",
      "model_module_version": "2.0.0",
      "model_name": "HBoxModel",
      "state": {
       "children": [
        "IPY_MODEL_571d08455dd14b879dc106effdb0ae6c",
        "IPY_MODEL_10a78ddc1b52463dbd98ea721ca345f1",
        "IPY_MODEL_a5e122effbaf4749b196f94ab80d8d47"
       ],
       "layout": "IPY_MODEL_5260166319614e70a49353d7a7fb20d1"
      }
     },
     "970fc32d1dc84a83ac52cfc6a373e56e": {
      "model_module": "@jupyter-widgets/controls",
      "model_module_version": "2.0.0",
      "model_name": "HTMLStyleModel",
      "state": {
       "description_width": "",
       "font_size": null,
       "text_color": null
      }
     },
     "971aeb66f930407f8247bb121e28f251": {
      "model_module": "@jupyter-widgets/base",
      "model_module_version": "2.0.0",
      "model_name": "LayoutModel",
      "state": {}
     },
     "97c5bc27c56543b1afd7d6d63c24a237": {
      "model_module": "@jupyter-widgets/base",
      "model_module_version": "2.0.0",
      "model_name": "LayoutModel",
      "state": {}
     },
     "9804fd9d483b4a4c9e9a4b7ed2240340": {
      "model_module": "@jupyter-widgets/base",
      "model_module_version": "2.0.0",
      "model_name": "LayoutModel",
      "state": {}
     },
     "983aaed0c2ca4c419e214ebcff955c88": {
      "model_module": "@jupyter-widgets/controls",
      "model_module_version": "2.0.0",
      "model_name": "HBoxModel",
      "state": {
       "children": [
        "IPY_MODEL_0025e01c3ddc40718f27555f6c7babe5",
        "IPY_MODEL_e619e804a3c6417488a84640b50e2973",
        "IPY_MODEL_226f41d5635244d9846f5cd289b3bdfc"
       ],
       "layout": "IPY_MODEL_8080dcfe7b32475ab07961ff7b233309"
      }
     },
     "98ff28feeebb4d39bd94e4f7215dbef3": {
      "model_module": "@jupyter-widgets/controls",
      "model_module_version": "2.0.0",
      "model_name": "HTMLModel",
      "state": {
       "layout": "IPY_MODEL_9ce7e196b2db440b82fbee9e90ee2adf",
       "style": "IPY_MODEL_d58a3837d967472388c82b31469d06d1",
       "value": " 958/958 [00:00&lt;00:00, 58.2kB/s]"
      }
     },
     "99a4411fe88f4e71b1d2d64e2a1bf93f": {
      "model_module": "@jupyter-widgets/base",
      "model_module_version": "2.0.0",
      "model_name": "LayoutModel",
      "state": {}
     },
     "99c0a1bb14074d4492bf570707e7a23c": {
      "model_module": "@jupyter-widgets/controls",
      "model_module_version": "2.0.0",
      "model_name": "HTMLModel",
      "state": {
       "layout": "IPY_MODEL_d7de6030cc08474bb5564192d8e2af4e",
       "style": "IPY_MODEL_21720b797a4d4770ae61d91400e6faab",
       "value": "merges.txt: 100%"
      }
     },
     "9a26998e2312460fb498ce3e3bf0e1cc": {
      "model_module": "@jupyter-widgets/controls",
      "model_module_version": "2.0.0",
      "model_name": "HTMLStyleModel",
      "state": {
       "description_width": "",
       "font_size": null,
       "text_color": null
      }
     },
     "9a7afffc784e4c23b351969a9100d6b1": {
      "model_module": "@jupyter-widgets/base",
      "model_module_version": "2.0.0",
      "model_name": "LayoutModel",
      "state": {}
     },
     "9a8e8a4091274d17987758f7198119e8": {
      "model_module": "@jupyter-widgets/controls",
      "model_module_version": "2.0.0",
      "model_name": "HBoxModel",
      "state": {
       "children": [
        "IPY_MODEL_758c11930f95473f8c00ffd005d7deab",
        "IPY_MODEL_6170756a49874ea6ab31cb123011eb30",
        "IPY_MODEL_0ebe31695cac4948bcb76260889ebd06"
       ],
       "layout": "IPY_MODEL_d1bb655a8a5b4245ac878113c695a9d7"
      }
     },
     "9ac8782661cc4a3d85a4f7be423857b6": {
      "model_module": "@jupyter-widgets/controls",
      "model_module_version": "2.0.0",
      "model_name": "HTMLModel",
      "state": {
       "layout": "IPY_MODEL_53d4ca9b3aef45588e9e9a5682c41650",
       "style": "IPY_MODEL_29f5f3d0b3d94a81b5d7a17d977b3988",
       "value": "config.json: 100%"
      }
     },
     "9b202d02a933470c926f27440c9f0811": {
      "model_module": "@jupyter-widgets/base",
      "model_module_version": "2.0.0",
      "model_name": "LayoutModel",
      "state": {}
     },
     "9bb8c7d11a0042c6848217a77a7dea84": {
      "model_module": "@jupyter-widgets/base",
      "model_module_version": "2.0.0",
      "model_name": "LayoutModel",
      "state": {}
     },
     "9c2819da9c064127b21b09db7a8ce09c": {
      "model_module": "@jupyter-widgets/base",
      "model_module_version": "2.0.0",
      "model_name": "LayoutModel",
      "state": {}
     },
     "9c28cb80015742c99743fb220c32ef61": {
      "model_module": "@jupyter-widgets/controls",
      "model_module_version": "2.0.0",
      "model_name": "HBoxModel",
      "state": {
       "children": [
        "IPY_MODEL_8f6905339542431cba5f300214425874",
        "IPY_MODEL_f76ec62074d349e9bf79f2e879b5553e",
        "IPY_MODEL_57b1293769c742f28d8841f7cefd1576"
       ],
       "layout": "IPY_MODEL_7132314782f34e178c50ec52b956aba2"
      }
     },
     "9cdcd768e2d649b081f2661290201183": {
      "model_module": "@jupyter-widgets/controls",
      "model_module_version": "2.0.0",
      "model_name": "ProgressStyleModel",
      "state": {
       "description_width": ""
      }
     },
     "9ce7e196b2db440b82fbee9e90ee2adf": {
      "model_module": "@jupyter-widgets/base",
      "model_module_version": "2.0.0",
      "model_name": "LayoutModel",
      "state": {}
     },
     "9d0dababf42943e7b45bf51f1fa79d34": {
      "model_module": "@jupyter-widgets/controls",
      "model_module_version": "2.0.0",
      "model_name": "HTMLStyleModel",
      "state": {
       "description_width": "",
       "font_size": null,
       "text_color": null
      }
     },
     "9e50bd2f88f44665aa26db6d743dc122": {
      "model_module": "@jupyter-widgets/base",
      "model_module_version": "2.0.0",
      "model_name": "LayoutModel",
      "state": {}
     },
     "9f1b5c625cf144d689d13ebef4295f67": {
      "model_module": "@jupyter-widgets/controls",
      "model_module_version": "2.0.0",
      "model_name": "HTMLModel",
      "state": {
       "layout": "IPY_MODEL_d57368fc64254265b930b3702c1e0c66",
       "style": "IPY_MODEL_b981ac290f5849e5a1ec811789577a99",
       "value": "added_tokens.json: 100%"
      }
     },
     "9f52c2af45a74d8fa78ed47b384dc308": {
      "model_module": "@jupyter-widgets/controls",
      "model_module_version": "2.0.0",
      "model_name": "FloatProgressModel",
      "state": {
       "bar_style": "success",
       "layout": "IPY_MODEL_31382970024c4a60b743202aacc1337e",
       "max": 898822,
       "style": "IPY_MODEL_e1b3a1e343f248feb02af66da58018a7",
       "value": 898822
      }
     },
     "9f991dd7e1e44f2585d5cc34564d4afb": {
      "model_module": "@jupyter-widgets/base",
      "model_module_version": "2.0.0",
      "model_name": "LayoutModel",
      "state": {}
     },
     "a08de1636dbf4e3fab4c0188b7245f20": {
      "model_module": "@jupyter-widgets/controls",
      "model_module_version": "2.0.0",
      "model_name": "ProgressStyleModel",
      "state": {
       "description_width": ""
      }
     },
     "a0e1aecdbd254dd0adf13d6571cfed52": {
      "model_module": "@jupyter-widgets/base",
      "model_module_version": "2.0.0",
      "model_name": "LayoutModel",
      "state": {}
     },
     "a10cecbff3a64bc8b9bbdeaa7c877dd0": {
      "model_module": "@jupyter-widgets/controls",
      "model_module_version": "2.0.0",
      "model_name": "HTMLStyleModel",
      "state": {
       "description_width": "",
       "font_size": null,
       "text_color": null
      }
     },
     "a10e2cd73a854c26a2010d854534fc8b": {
      "model_module": "@jupyter-widgets/base",
      "model_module_version": "2.0.0",
      "model_name": "LayoutModel",
      "state": {}
     },
     "a17c6e9a13d3447f8a4cc8d4859a6207": {
      "model_module": "@jupyter-widgets/base",
      "model_module_version": "2.0.0",
      "model_name": "LayoutModel",
      "state": {}
     },
     "a26963f297954eb4b3d77fbbf2b91351": {
      "model_module": "@jupyter-widgets/controls",
      "model_module_version": "2.0.0",
      "model_name": "HTMLStyleModel",
      "state": {
       "description_width": "",
       "font_size": null,
       "text_color": null
      }
     },
     "a3157d1d6ca04fb9ac7c208e32f905e7": {
      "model_module": "@jupyter-widgets/base",
      "model_module_version": "2.0.0",
      "model_name": "LayoutModel",
      "state": {}
     },
     "a34dfc7b12eb42eb8dcea52931e76cec": {
      "model_module": "@jupyter-widgets/controls",
      "model_module_version": "2.0.0",
      "model_name": "HTMLModel",
      "state": {
       "layout": "IPY_MODEL_44c2baa4397b4089b94f2ef4a7a8af74",
       "style": "IPY_MODEL_37d4f94b7df84827b72a5c6d303c3fc7",
       "value": "tokenizer.json: 100%"
      }
     },
     "a3a837c3522d46b788db364004332568": {
      "model_module": "@jupyter-widgets/base",
      "model_module_version": "2.0.0",
      "model_name": "LayoutModel",
      "state": {}
     },
     "a3ef13f35bb14357b3de840b697534a8": {
      "model_module": "@jupyter-widgets/controls",
      "model_module_version": "2.0.0",
      "model_name": "HBoxModel",
      "state": {
       "children": [
        "IPY_MODEL_44e0e97a3f904a3d92c9d17554eb15ca",
        "IPY_MODEL_cfdf8531bc5e43569c14170f36c918e6",
        "IPY_MODEL_a937a1c579c84ea88627f907ed82d9fb"
       ],
       "layout": "IPY_MODEL_dd33520fa2bc48e89cb1d7e36e60bba2"
      }
     },
     "a4cecdc63a754d44b5438f68df54688f": {
      "model_module": "@jupyter-widgets/base",
      "model_module_version": "2.0.0",
      "model_name": "LayoutModel",
      "state": {}
     },
     "a4d8d57dcebb4e5ca82fb6c24dbc1449": {
      "model_module": "@jupyter-widgets/base",
      "model_module_version": "2.0.0",
      "model_name": "LayoutModel",
      "state": {}
     },
     "a53ac6b982784eeb959266975d87439f": {
      "model_module": "@jupyter-widgets/controls",
      "model_module_version": "2.0.0",
      "model_name": "ProgressStyleModel",
      "state": {
       "description_width": ""
      }
     },
     "a5616affc3eb4e1eb14fb105866becd7": {
      "model_module": "@jupyter-widgets/base",
      "model_module_version": "2.0.0",
      "model_name": "LayoutModel",
      "state": {}
     },
     "a57ea7dd4fe348ca9c16663ec270c803": {
      "model_module": "@jupyter-widgets/base",
      "model_module_version": "2.0.0",
      "model_name": "LayoutModel",
      "state": {}
     },
     "a58bb04bf3574410b9c10b46f4aac9e0": {
      "model_module": "@jupyter-widgets/controls",
      "model_module_version": "2.0.0",
      "model_name": "HTMLStyleModel",
      "state": {
       "description_width": "",
       "font_size": null,
       "text_color": null
      }
     },
     "a590a109d6bc448ba5004aa9e4bf7f7c": {
      "model_module": "@jupyter-widgets/base",
      "model_module_version": "2.0.0",
      "model_name": "LayoutModel",
      "state": {}
     },
     "a5e122effbaf4749b196f94ab80d8d47": {
      "model_module": "@jupyter-widgets/controls",
      "model_module_version": "2.0.0",
      "model_name": "HTMLModel",
      "state": {
       "layout": "IPY_MODEL_dcedca835cf240118135739372093b32",
       "style": "IPY_MODEL_1eb85dbccfc64374bf45bb4de6af4a2f",
       "value": " 537M/537M [00:10&lt;00:00, 51.3MB/s]"
      }
     },
     "a68271525d304ee6b779a91c8ffac990": {
      "model_module": "@jupyter-widgets/controls",
      "model_module_version": "2.0.0",
      "model_name": "HTMLModel",
      "state": {
       "layout": "IPY_MODEL_4742d0f299db4d9080ca6ad27395d757",
       "style": "IPY_MODEL_cb111c2af4ad4dc3ae60e79ee435685b",
       "value": " 798k/798k [00:00&lt;00:00, 21.4MB/s]"
      }
     },
     "a7622d8a4de248db96723e400e600412": {
      "model_module": "@jupyter-widgets/base",
      "model_module_version": "2.0.0",
      "model_name": "LayoutModel",
      "state": {}
     },
     "a782ede5fb84487a807cbe05dcf6296a": {
      "model_module": "@jupyter-widgets/controls",
      "model_module_version": "2.0.0",
      "model_name": "HTMLModel",
      "state": {
       "layout": "IPY_MODEL_82014c3c7c5843e6b5d0e508ec42259f",
       "style": "IPY_MODEL_fde657e1b4244e28b86e39b01484d03f",
       "value": " 483/483 [00:00&lt;00:00, 58.0kB/s]"
      }
     },
     "a82af959a7ae43f296fab24009a0ae40": {
      "model_module": "@jupyter-widgets/controls",
      "model_module_version": "2.0.0",
      "model_name": "HTMLModel",
      "state": {
       "layout": "IPY_MODEL_d8ad0b87a03142b08cafbe6c74e9eaa1",
       "style": "IPY_MODEL_83aeddcdac6c44eb84928566e092e382",
       "value": " 829/829 [00:00&lt;00:00, 160kB/s]"
      }
     },
     "a85aa2fa590549fdad2a999551b5ee58": {
      "model_module": "@jupyter-widgets/controls",
      "model_module_version": "2.0.0",
      "model_name": "HTMLModel",
      "state": {
       "layout": "IPY_MODEL_85a744e2b4744ee39581101a0c5bbb54",
       "style": "IPY_MODEL_fd160acefd454247888d71c459d18ee7",
       "value": "generation_config.json: 100%"
      }
     },
     "a8e9447eaec2431dbb52171829da583b": {
      "model_module": "@jupyter-widgets/controls",
      "model_module_version": "2.0.0",
      "model_name": "HTMLModel",
      "state": {
       "layout": "IPY_MODEL_0fd7279cc10b4f1b850b854219ae146e",
       "style": "IPY_MODEL_09e1bc1919594aa49f615e9e801366ad",
       "value": "vocab.txt: 100%"
      }
     },
     "a937a1c579c84ea88627f907ed82d9fb": {
      "model_module": "@jupyter-widgets/controls",
      "model_module_version": "2.0.0",
      "model_name": "HTMLModel",
      "state": {
       "layout": "IPY_MODEL_de4f9330618c45739931d7f65e53c6f9",
       "style": "IPY_MODEL_964a8057317a48b9919a6f149e6190f9",
       "value": " 60.0/60.0 [00:00&lt;00:00, 16.0kB/s]"
      }
     },
     "a9da76b4f5e2470981988619b7c45776": {
      "model_module": "@jupyter-widgets/controls",
      "model_module_version": "2.0.0",
      "model_name": "HTMLStyleModel",
      "state": {
       "description_width": "",
       "font_size": null,
       "text_color": null
      }
     },
     "aa615402ab00476297bcd222e133595f": {
      "model_module": "@jupyter-widgets/controls",
      "model_module_version": "2.0.0",
      "model_name": "HTMLStyleModel",
      "state": {
       "description_width": "",
       "font_size": null,
       "text_color": null
      }
     },
     "aaba115b0ec348ac80037e09599f1d67": {
      "model_module": "@jupyter-widgets/base",
      "model_module_version": "2.0.0",
      "model_name": "LayoutModel",
      "state": {}
     },
     "aafa2405678942c0b7f205a4cd565412": {
      "model_module": "@jupyter-widgets/controls",
      "model_module_version": "2.0.0",
      "model_name": "HTMLModel",
      "state": {
       "layout": "IPY_MODEL_0372b6a8d55240f29170bca605239f28",
       "style": "IPY_MODEL_028865b3095648e5a6595bd2cb0ea85a",
       "value": " 1.36M/1.36M [00:00&lt;00:00, 12.4MB/s]"
      }
     },
     "ab1d153a35b14a1d8136442e9b0f6dd0": {
      "model_module": "@jupyter-widgets/base",
      "model_module_version": "2.0.0",
      "model_name": "LayoutModel",
      "state": {}
     },
     "ac1946a787f94abaac3147e8924b1cca": {
      "model_module": "@jupyter-widgets/controls",
      "model_module_version": "2.0.0",
      "model_name": "FloatProgressModel",
      "state": {
       "bar_style": "success",
       "layout": "IPY_MODEL_dc49029e1674487bb4ce6f836dabdaf0",
       "max": 998,
       "style": "IPY_MODEL_b0baa5f586704eac9cafd48884e5feb6",
       "value": 998
      }
     },
     "ad0c536cc8054fc792ee40d9fd0dca04": {
      "model_module": "@jupyter-widgets/base",
      "model_module_version": "2.0.0",
      "model_name": "LayoutModel",
      "state": {}
     },
     "ad12eeea01424a2da003d26430914477": {
      "model_module": "@jupyter-widgets/controls",
      "model_module_version": "2.0.0",
      "model_name": "HBoxModel",
      "state": {
       "children": [
        "IPY_MODEL_5cafc85cf4bd4f32acd6ae305fca4427",
        "IPY_MODEL_763974e186e3487b8c2baf1e3ec323c0",
        "IPY_MODEL_0df4ef1cfbc3432499de9cd46d5a3d30"
       ],
       "layout": "IPY_MODEL_4b8f56143a074298afd351c583322201"
      }
     },
     "ad5f2b6cc04c41e485cd8d615245b230": {
      "model_module": "@jupyter-widgets/controls",
      "model_module_version": "2.0.0",
      "model_name": "ProgressStyleModel",
      "state": {
       "description_width": ""
      }
     },
     "adab6391a1ec423b91f656bf35adc0b4": {
      "model_module": "@jupyter-widgets/base",
      "model_module_version": "2.0.0",
      "model_name": "LayoutModel",
      "state": {}
     },
     "add9e96a9cf2459794c3c6a2a3d1affb": {
      "model_module": "@jupyter-widgets/base",
      "model_module_version": "2.0.0",
      "model_name": "LayoutModel",
      "state": {}
     },
     "aee63ce294a14a1696e4ca0b53306dfe": {
      "model_module": "@jupyter-widgets/controls",
      "model_module_version": "2.0.0",
      "model_name": "HTMLStyleModel",
      "state": {
       "description_width": "",
       "font_size": null,
       "text_color": null
      }
     },
     "af1d41cd100e4eb1a6e2c5ffe921ad0e": {
      "model_module": "@jupyter-widgets/base",
      "model_module_version": "2.0.0",
      "model_name": "LayoutModel",
      "state": {}
     },
     "afc1aca950ba4d65bf9e21709e2a3df0": {
      "model_module": "@jupyter-widgets/controls",
      "model_module_version": "2.0.0",
      "model_name": "FloatProgressModel",
      "state": {
       "bar_style": "success",
       "layout": "IPY_MODEL_ed9f43ed55684efe9f315dfd7e360771",
       "max": 456318,
       "style": "IPY_MODEL_3d2f12f970d64194b889299885fafff7",
       "value": 456318
      }
     },
     "afdc636d7bbc43beb1f3048e1a9bcf60": {
      "model_module": "@jupyter-widgets/controls",
      "model_module_version": "2.0.0",
      "model_name": "HTMLStyleModel",
      "state": {
       "description_width": "",
       "font_size": null,
       "text_color": null
      }
     },
     "b08143d322c44e2aa2de139247909511": {
      "model_module": "@jupyter-widgets/controls",
      "model_module_version": "2.0.0",
      "model_name": "FloatProgressModel",
      "state": {
       "bar_style": "success",
       "layout": "IPY_MODEL_2a082df5140a47608fa2c95e5c3f96ad",
       "max": 17,
       "style": "IPY_MODEL_9cdcd768e2d649b081f2661290201183",
       "value": 17
      }
     },
     "b0875f2772d649b0a7ab41de8b82a449": {
      "model_module": "@jupyter-widgets/base",
      "model_module_version": "2.0.0",
      "model_name": "LayoutModel",
      "state": {}
     },
     "b0baa5f586704eac9cafd48884e5feb6": {
      "model_module": "@jupyter-widgets/controls",
      "model_module_version": "2.0.0",
      "model_name": "ProgressStyleModel",
      "state": {
       "description_width": ""
      }
     },
     "b1096503ae194fefa76557312cb415b2": {
      "model_module": "@jupyter-widgets/controls",
      "model_module_version": "2.0.0",
      "model_name": "HBoxModel",
      "state": {
       "children": [
        "IPY_MODEL_ee5bf2ecb5c047b0ac265f190e4026fa",
        "IPY_MODEL_41f31b1efcfe4df9b78b0c848baf2a4d",
        "IPY_MODEL_12fc47a501fe46f49458f959f3d5236f"
       ],
       "layout": "IPY_MODEL_b1739246ecd9476dac97bd67871d03d8"
      }
     },
     "b1414408cd6343e0a68382c48650ff50": {
      "model_module": "@jupyter-widgets/controls",
      "model_module_version": "2.0.0",
      "model_name": "FloatProgressModel",
      "state": {
       "bar_style": "success",
       "layout": "IPY_MODEL_5ed3f910a3cb49d697f5ce22be8c5504",
       "max": 1629437147,
       "style": "IPY_MODEL_59254297b8e341b0972fb85730a3848f",
       "value": 1629437147
      }
     },
     "b14cbd47ab724c0a95ffd8c54feab6e6": {
      "model_module": "@jupyter-widgets/base",
      "model_module_version": "2.0.0",
      "model_name": "LayoutModel",
      "state": {}
     },
     "b163b39f401e472aa8d92fe47ae6405a": {
      "model_module": "@jupyter-widgets/controls",
      "model_module_version": "2.0.0",
      "model_name": "FloatProgressModel",
      "state": {
       "bar_style": "success",
       "layout": "IPY_MODEL_b14cbd47ab724c0a95ffd8c54feab6e6",
       "max": 1078931,
       "style": "IPY_MODEL_5f6ef5d8be96427db527215a64c434d8",
       "value": 1078931
      }
     },
     "b1739246ecd9476dac97bd67871d03d8": {
      "model_module": "@jupyter-widgets/base",
      "model_module_version": "2.0.0",
      "model_name": "LayoutModel",
      "state": {}
     },
     "b2c74307a88d4fdba020ca1510aa47f5": {
      "model_module": "@jupyter-widgets/controls",
      "model_module_version": "2.0.0",
      "model_name": "HTMLStyleModel",
      "state": {
       "description_width": "",
       "font_size": null,
       "text_color": null
      }
     },
     "b2f60b17d76e4d6c8a836a9ce8c33c92": {
      "model_module": "@jupyter-widgets/controls",
      "model_module_version": "2.0.0",
      "model_name": "ProgressStyleModel",
      "state": {
       "description_width": ""
      }
     },
     "b363899ea8944387836d328713318975": {
      "model_module": "@jupyter-widgets/base",
      "model_module_version": "2.0.0",
      "model_name": "LayoutModel",
      "state": {}
     },
     "b3c55cb75c37409684c64bab390054cc": {
      "model_module": "@jupyter-widgets/base",
      "model_module_version": "2.0.0",
      "model_name": "LayoutModel",
      "state": {}
     },
     "b3c8fe28e2024220872c79662dbcbacd": {
      "model_module": "@jupyter-widgets/controls",
      "model_module_version": "2.0.0",
      "model_name": "HTMLStyleModel",
      "state": {
       "description_width": "",
       "font_size": null,
       "text_color": null
      }
     },
     "b5987ab0127b4796916945e7bb636a8c": {
      "model_module": "@jupyter-widgets/controls",
      "model_module_version": "2.0.0",
      "model_name": "HTMLModel",
      "state": {
       "layout": "IPY_MODEL_dc2ef60f113f416e85adfcc76cf6f704",
       "style": "IPY_MODEL_13bbd4fae7aa4489b14c38c84220fdc8",
       "value": "config.json: 100%"
      }
     },
     "b648858f45dd480b984110b04735424f": {
      "model_module": "@jupyter-widgets/controls",
      "model_module_version": "2.0.0",
      "model_name": "HTMLStyleModel",
      "state": {
       "description_width": "",
       "font_size": null,
       "text_color": null
      }
     },
     "b71ee416fbf542888c4f9dc6e4f24e94": {
      "model_module": "@jupyter-widgets/controls",
      "model_module_version": "2.0.0",
      "model_name": "HBoxModel",
      "state": {
       "children": [
        "IPY_MODEL_c4fe38e3841941a2885ac7babce67fde",
        "IPY_MODEL_326125ef17b7400da2cdfff266b8ad84",
        "IPY_MODEL_3d2e2ee04df44a89a710d62416e95c25"
       ],
       "layout": "IPY_MODEL_42ee004f93b54bc782072c6206f3f3b2"
      }
     },
     "b7f09326b0b7403c8192f91547619525": {
      "model_module": "@jupyter-widgets/base",
      "model_module_version": "2.0.0",
      "model_name": "LayoutModel",
      "state": {}
     },
     "b8037170749f4b9b9e2b4cadaadc0626": {
      "model_module": "@jupyter-widgets/base",
      "model_module_version": "2.0.0",
      "model_name": "LayoutModel",
      "state": {}
     },
     "b8f105814a6c4370bbffaaa559b5e516": {
      "model_module": "@jupyter-widgets/controls",
      "model_module_version": "2.0.0",
      "model_name": "FloatProgressModel",
      "state": {
       "bar_style": "success",
       "layout": "IPY_MODEL_bbe4f6c733f14586bf743953852c7dc1",
       "max": 762,
       "style": "IPY_MODEL_6012ea4a382f4379ba1c838608cf32e1",
       "value": 762
      }
     },
     "b96ba21758c24a4f9639814ca004d12a": {
      "model_module": "@jupyter-widgets/controls",
      "model_module_version": "2.0.0",
      "model_name": "ProgressStyleModel",
      "state": {
       "description_width": ""
      }
     },
     "b981ac290f5849e5a1ec811789577a99": {
      "model_module": "@jupyter-widgets/controls",
      "model_module_version": "2.0.0",
      "model_name": "HTMLStyleModel",
      "state": {
       "description_width": "",
       "font_size": null,
       "text_color": null
      }
     },
     "b9f51d8b52244a129b47ca651044bd87": {
      "model_module": "@jupyter-widgets/controls",
      "model_module_version": "2.0.0",
      "model_name": "FloatProgressModel",
      "state": {
       "bar_style": "success",
       "layout": "IPY_MODEL_8f3c941a8ff34e81b48ea89d37b7a41a",
       "max": 150,
       "style": "IPY_MODEL_8bdfd013740f423785f4b996dc150b68",
       "value": 150
      }
     },
     "ba41a74fb15a41538b58d9b219eec42b": {
      "model_module": "@jupyter-widgets/controls",
      "model_module_version": "2.0.0",
      "model_name": "ProgressStyleModel",
      "state": {
       "description_width": ""
      }
     },
     "baaa520941694cefb783eb5f4903d9ca": {
      "model_module": "@jupyter-widgets/controls",
      "model_module_version": "2.0.0",
      "model_name": "HTMLModel",
      "state": {
       "layout": "IPY_MODEL_a590a109d6bc448ba5004aa9e4bf7f7c",
       "style": "IPY_MODEL_906eac0c7d7f4dbf8f7fe59bf0c61be3",
       "value": "model.safetensors: 100%"
      }
     },
     "babe1bdf87bb4d2482e529ba45e90cfb": {
      "model_module": "@jupyter-widgets/base",
      "model_module_version": "2.0.0",
      "model_name": "LayoutModel",
      "state": {}
     },
     "bae050d2ee1f4d7e977fba7ce23b704f": {
      "model_module": "@jupyter-widgets/base",
      "model_module_version": "2.0.0",
      "model_name": "LayoutModel",
      "state": {}
     },
     "bb292e29f45a424da98d14d8e8c42564": {
      "model_module": "@jupyter-widgets/base",
      "model_module_version": "2.0.0",
      "model_name": "LayoutModel",
      "state": {}
     },
     "bbe4f6c733f14586bf743953852c7dc1": {
      "model_module": "@jupyter-widgets/base",
      "model_module_version": "2.0.0",
      "model_name": "LayoutModel",
      "state": {}
     },
     "bc74e1a8e5ab4d16be461cbff547cec5": {
      "model_module": "@jupyter-widgets/base",
      "model_module_version": "2.0.0",
      "model_name": "LayoutModel",
      "state": {}
     },
     "bed0729ee9c4448c88286629cb7bef5c": {
      "model_module": "@jupyter-widgets/base",
      "model_module_version": "2.0.0",
      "model_name": "LayoutModel",
      "state": {}
     },
     "bedc737393844238bcede3d9a0217c0f": {
      "model_module": "@jupyter-widgets/controls",
      "model_module_version": "2.0.0",
      "model_name": "HBoxModel",
      "state": {
       "children": [
        "IPY_MODEL_0c2316e1d3ca4bd1b49cfeb4e98e6908",
        "IPY_MODEL_8bf677aef14d460e9680595027397a54",
        "IPY_MODEL_408d7df112bf4e758c114981e12fca0d"
       ],
       "layout": "IPY_MODEL_ca46de9d740140a2934c3e21aaa1e3cb"
      }
     },
     "bfb82c838c7a401c84aae1f28c02f79d": {
      "model_module": "@jupyter-widgets/base",
      "model_module_version": "2.0.0",
      "model_name": "LayoutModel",
      "state": {}
     },
     "c0212b9ad659443ab97369754338a131": {
      "model_module": "@jupyter-widgets/controls",
      "model_module_version": "2.0.0",
      "model_name": "HTMLStyleModel",
      "state": {
       "description_width": "",
       "font_size": null,
       "text_color": null
      }
     },
     "c08f94fbd79d4875ba47d0cf581f9c48": {
      "model_module": "@jupyter-widgets/controls",
      "model_module_version": "2.0.0",
      "model_name": "ProgressStyleModel",
      "state": {
       "description_width": ""
      }
     },
     "c166412a35a04b15b2fe0a856487b64c": {
      "model_module": "@jupyter-widgets/controls",
      "model_module_version": "2.0.0",
      "model_name": "ProgressStyleModel",
      "state": {
       "description_width": ""
      }
     },
     "c3135aa34e8e40e69deac50b903ad81f": {
      "model_module": "@jupyter-widgets/controls",
      "model_module_version": "2.0.0",
      "model_name": "HBoxModel",
      "state": {
       "children": [
        "IPY_MODEL_2469e0752a174232a3a747ebc01ceaac",
        "IPY_MODEL_ac1946a787f94abaac3147e8924b1cca",
        "IPY_MODEL_4d586eb91adc4adbabb89d737c5b6b8e"
       ],
       "layout": "IPY_MODEL_3521be91681c41adbfaace6adf23d207"
      }
     },
     "c45075917e4f44dc8415b6eea1770361": {
      "model_module": "@jupyter-widgets/controls",
      "model_module_version": "2.0.0",
      "model_name": "HTMLStyleModel",
      "state": {
       "description_width": "",
       "font_size": null,
       "text_color": null
      }
     },
     "c45c6374ea874f759d531c9a9343e331": {
      "model_module": "@jupyter-widgets/controls",
      "model_module_version": "2.0.0",
      "model_name": "HTMLModel",
      "state": {
       "layout": "IPY_MODEL_235a1659e996465db5649d4cb7f38155",
       "style": "IPY_MODEL_aa615402ab00476297bcd222e133595f",
       "value": "tokenizer.json: 100%"
      }
     },
     "c4b80bfaca1a41eca80f2fbc6c8304b7": {
      "model_module": "@jupyter-widgets/base",
      "model_module_version": "2.0.0",
      "model_name": "LayoutModel",
      "state": {}
     },
     "c4fe38e3841941a2885ac7babce67fde": {
      "model_module": "@jupyter-widgets/controls",
      "model_module_version": "2.0.0",
      "model_name": "HTMLModel",
      "state": {
       "layout": "IPY_MODEL_e282059bdb0b43c7814473f491cfc23a",
       "style": "IPY_MODEL_cabcbe92e9864f04ac3271c3eb343c97",
       "value": "config.json: 100%"
      }
     },
     "c55db76217384beba3504370a5c58da6": {
      "model_module": "@jupyter-widgets/base",
      "model_module_version": "2.0.0",
      "model_name": "LayoutModel",
      "state": {}
     },
     "c5db724c0a9d4c1a8bd8bb831d28098f": {
      "model_module": "@jupyter-widgets/base",
      "model_module_version": "2.0.0",
      "model_name": "LayoutModel",
      "state": {}
     },
     "c5feb3dfd6984ae5898268d7d74e193d": {
      "model_module": "@jupyter-widgets/controls",
      "model_module_version": "2.0.0",
      "model_name": "FloatProgressModel",
      "state": {
       "bar_style": "success",
       "layout": "IPY_MODEL_064591558405460cae5ecb66214f792e",
       "max": 480,
       "style": "IPY_MODEL_c08f94fbd79d4875ba47d0cf581f9c48",
       "value": 480
      }
     },
     "c61f5f687efc4d2798099e8f4093ba3b": {
      "model_module": "@jupyter-widgets/base",
      "model_module_version": "2.0.0",
      "model_name": "LayoutModel",
      "state": {}
     },
     "c7660032d4bb437383bc253e5b698f51": {
      "model_module": "@jupyter-widgets/controls",
      "model_module_version": "2.0.0",
      "model_name": "HTMLModel",
      "state": {
       "layout": "IPY_MODEL_add9e96a9cf2459794c3c6a2a3d1affb",
       "style": "IPY_MODEL_14a7c66cbc304e389828fe53f28789a6",
       "value": " 1.33G/1.33G [00:22&lt;00:00, 60.5MB/s]"
      }
     },
     "c7f40d5f3610490d8ffe262ea2c3328e": {
      "model_module": "@jupyter-widgets/controls",
      "model_module_version": "2.0.0",
      "model_name": "FloatProgressModel",
      "state": {
       "bar_style": "success",
       "layout": "IPY_MODEL_012accd5641143fa9b0ef728c31609b3",
       "max": 231508,
       "style": "IPY_MODEL_579b4e5680ea4f56b6be11ea6ce79ddc",
       "value": 231508
      }
     },
     "c833025bea32433f9c9e21a46e4a9b90": {
      "model_module": "@jupyter-widgets/base",
      "model_module_version": "2.0.0",
      "model_name": "LayoutModel",
      "state": {}
     },
     "c84ffa1c95ca4cb5a6eddb830d69e610": {
      "model_module": "@jupyter-widgets/controls",
      "model_module_version": "2.0.0",
      "model_name": "FloatProgressModel",
      "state": {
       "bar_style": "success",
       "layout": "IPY_MODEL_9804fd9d483b4a4c9e9a4b7ed2240340",
       "max": 48,
       "style": "IPY_MODEL_5c6ebbe814ac42aab83b95b7fcb696d9",
       "value": 48
      }
     },
     "c9b76d2f837c4236b374412f1f891478": {
      "model_module": "@jupyter-widgets/base",
      "model_module_version": "2.0.0",
      "model_name": "LayoutModel",
      "state": {}
     },
     "c9bc9fb513a54e8ebf31b949e49d3bb5": {
      "model_module": "@jupyter-widgets/base",
      "model_module_version": "2.0.0",
      "model_name": "LayoutModel",
      "state": {}
     },
     "ca112d9333ea4797b7b26e37f9e7bfa4": {
      "model_module": "@jupyter-widgets/controls",
      "model_module_version": "2.0.0",
      "model_name": "HTMLModel",
      "state": {
       "layout": "IPY_MODEL_bae050d2ee1f4d7e977fba7ce23b704f",
       "style": "IPY_MODEL_c45075917e4f44dc8415b6eea1770361",
       "value": " 1.09k/1.09k [00:00&lt;00:00, 213kB/s]"
      }
     },
     "ca33660dfc1f4c60813b1b6504269072": {
      "model_module": "@jupyter-widgets/controls",
      "model_module_version": "2.0.0",
      "model_name": "HBoxModel",
      "state": {
       "children": [
        "IPY_MODEL_3b8c133ce4d246f3b14f32c279bb6bb5",
        "IPY_MODEL_694675f8d7a54c54ba8a151d9cb208d2",
        "IPY_MODEL_387a77c7ddfe46b6b8544e9cb7f260bd"
       ],
       "layout": "IPY_MODEL_2802b32cd929491088526d93088b1208"
      }
     },
     "ca46de9d740140a2934c3e21aaa1e3cb": {
      "model_module": "@jupyter-widgets/base",
      "model_module_version": "2.0.0",
      "model_name": "LayoutModel",
      "state": {}
     },
     "cabcbe92e9864f04ac3271c3eb343c97": {
      "model_module": "@jupyter-widgets/controls",
      "model_module_version": "2.0.0",
      "model_name": "HTMLStyleModel",
      "state": {
       "description_width": "",
       "font_size": null,
       "text_color": null
      }
     },
     "cb111c2af4ad4dc3ae60e79ee435685b": {
      "model_module": "@jupyter-widgets/controls",
      "model_module_version": "2.0.0",
      "model_name": "HTMLStyleModel",
      "state": {
       "description_width": "",
       "font_size": null,
       "text_color": null
      }
     },
     "cb81cf0b6ddd4a8fb75cf288cfbe8831": {
      "model_module": "@jupyter-widgets/base",
      "model_module_version": "2.0.0",
      "model_name": "LayoutModel",
      "state": {}
     },
     "cc82eba62f7441dbb0075c67161812c1": {
      "model_module": "@jupyter-widgets/base",
      "model_module_version": "2.0.0",
      "model_name": "LayoutModel",
      "state": {}
     },
     "cc99d106e7bc4ee1af63cb7e9c7ae4e3": {
      "model_module": "@jupyter-widgets/base",
      "model_module_version": "2.0.0",
      "model_name": "LayoutModel",
      "state": {}
     },
     "cd090ab725554d8cb4d2ec82cb6e2006": {
      "model_module": "@jupyter-widgets/base",
      "model_module_version": "2.0.0",
      "model_name": "LayoutModel",
      "state": {}
     },
     "ce306f17d1cd4d46ad0f65c048f241a3": {
      "model_module": "@jupyter-widgets/base",
      "model_module_version": "2.0.0",
      "model_name": "LayoutModel",
      "state": {}
     },
     "cf3879adaf7c433d8238f7bc3cb26f21": {
      "model_module": "@jupyter-widgets/controls",
      "model_module_version": "2.0.0",
      "model_name": "ProgressStyleModel",
      "state": {
       "description_width": ""
      }
     },
     "cfdf8531bc5e43569c14170f36c918e6": {
      "model_module": "@jupyter-widgets/controls",
      "model_module_version": "2.0.0",
      "model_name": "FloatProgressModel",
      "state": {
       "bar_style": "success",
       "layout": "IPY_MODEL_971aeb66f930407f8247bb121e28f251",
       "max": 60,
       "style": "IPY_MODEL_d85f17360a8b4f7a9ccf5b2cdef0ead7",
       "value": 60
      }
     },
     "d0e8cb6fa88546c4b4a0071cbdc09db8": {
      "model_module": "@jupyter-widgets/controls",
      "model_module_version": "2.0.0",
      "model_name": "HTMLModel",
      "state": {
       "layout": "IPY_MODEL_0e19e7a9b84e47d387d7047f8387706b",
       "style": "IPY_MODEL_90f1fb1c34b24fd2924119c078c5d78e",
       "value": "vocab.json: 100%"
      }
     },
     "d11533f245f74b659e86184c18d8ac13": {
      "model_module": "@jupyter-widgets/controls",
      "model_module_version": "2.0.0",
      "model_name": "FloatProgressModel",
      "state": {
       "bar_style": "success",
       "layout": "IPY_MODEL_1e2bcde72257498e9b997225daa9bffd",
       "max": 456318,
       "style": "IPY_MODEL_a53ac6b982784eeb959266975d87439f",
       "value": 456318
      }
     },
     "d135e982fa0640ac9d89875d12da5d4f": {
      "model_module": "@jupyter-widgets/base",
      "model_module_version": "2.0.0",
      "model_name": "LayoutModel",
      "state": {}
     },
     "d143442ea64f45718b216a938ad0a22d": {
      "model_module": "@jupyter-widgets/base",
      "model_module_version": "2.0.0",
      "model_name": "LayoutModel",
      "state": {}
     },
     "d1bb655a8a5b4245ac878113c695a9d7": {
      "model_module": "@jupyter-widgets/base",
      "model_module_version": "2.0.0",
      "model_name": "LayoutModel",
      "state": {}
     },
     "d22f5c6f71d2465094f23d3873b072be": {
      "model_module": "@jupyter-widgets/controls",
      "model_module_version": "2.0.0",
      "model_name": "HBoxModel",
      "state": {
       "children": [
        "IPY_MODEL_9ac8782661cc4a3d85a4f7be423857b6",
        "IPY_MODEL_56df997997ff452cb118eff5f3173116",
        "IPY_MODEL_a782ede5fb84487a807cbe05dcf6296a"
       ],
       "layout": "IPY_MODEL_794ac82d6b634bddb6df3beb3e6ccaed"
      }
     },
     "d23ddbfb18c64ec491187ece0d3ae119": {
      "model_module": "@jupyter-widgets/controls",
      "model_module_version": "2.0.0",
      "model_name": "HTMLStyleModel",
      "state": {
       "description_width": "",
       "font_size": null,
       "text_color": null
      }
     },
     "d420d1533fcb45ee9f0bb1f4fb80c75c": {
      "model_module": "@jupyter-widgets/controls",
      "model_module_version": "2.0.0",
      "model_name": "HTMLStyleModel",
      "state": {
       "description_width": "",
       "font_size": null,
       "text_color": null
      }
     },
     "d4412679fc5b444289017a31e24614ea": {
      "model_module": "@jupyter-widgets/controls",
      "model_module_version": "2.0.0",
      "model_name": "HTMLStyleModel",
      "state": {
       "description_width": "",
       "font_size": null,
       "text_color": null
      }
     },
     "d44ecd6b1d5e4fa187f81d71fa4da42e": {
      "model_module": "@jupyter-widgets/base",
      "model_module_version": "2.0.0",
      "model_name": "LayoutModel",
      "state": {}
     },
     "d57368fc64254265b930b3702c1e0c66": {
      "model_module": "@jupyter-widgets/base",
      "model_module_version": "2.0.0",
      "model_name": "LayoutModel",
      "state": {}
     },
     "d58a3837d967472388c82b31469d06d1": {
      "model_module": "@jupyter-widgets/controls",
      "model_module_version": "2.0.0",
      "model_name": "HTMLStyleModel",
      "state": {
       "description_width": "",
       "font_size": null,
       "text_color": null
      }
     },
     "d5d43ffcd56a4a63a400ca7d24b9135c": {
      "model_module": "@jupyter-widgets/base",
      "model_module_version": "2.0.0",
      "model_name": "LayoutModel",
      "state": {}
     },
     "d6b35e963a174152b905b706111e5f54": {
      "model_module": "@jupyter-widgets/controls",
      "model_module_version": "2.0.0",
      "model_name": "HTMLStyleModel",
      "state": {
       "description_width": "",
       "font_size": null,
       "text_color": null
      }
     },
     "d6fc067c0a8f47dc8a938f8f018b4bd5": {
      "model_module": "@jupyter-widgets/controls",
      "model_module_version": "2.0.0",
      "model_name": "HTMLStyleModel",
      "state": {
       "description_width": "",
       "font_size": null,
       "text_color": null
      }
     },
     "d788b55605bc4dcbb723a0d91fe4fbe0": {
      "model_module": "@jupyter-widgets/base",
      "model_module_version": "2.0.0",
      "model_name": "LayoutModel",
      "state": {}
     },
     "d7de6030cc08474bb5564192d8e2af4e": {
      "model_module": "@jupyter-widgets/base",
      "model_module_version": "2.0.0",
      "model_name": "LayoutModel",
      "state": {}
     },
     "d85f17360a8b4f7a9ccf5b2cdef0ead7": {
      "model_module": "@jupyter-widgets/controls",
      "model_module_version": "2.0.0",
      "model_name": "ProgressStyleModel",
      "state": {
       "description_width": ""
      }
     },
     "d8ad0b87a03142b08cafbe6c74e9eaa1": {
      "model_module": "@jupyter-widgets/base",
      "model_module_version": "2.0.0",
      "model_name": "LayoutModel",
      "state": {}
     },
     "d91f947e8e9d44589a5ceacf3edd4c13": {
      "model_module": "@jupyter-widgets/controls",
      "model_module_version": "2.0.0",
      "model_name": "ProgressStyleModel",
      "state": {
       "description_width": ""
      }
     },
     "d98b9b6679bf4322b6aa1a74fc07082f": {
      "model_module": "@jupyter-widgets/base",
      "model_module_version": "2.0.0",
      "model_name": "LayoutModel",
      "state": {}
     },
     "da353b8c716644509c313519dd887710": {
      "model_module": "@jupyter-widgets/controls",
      "model_module_version": "2.0.0",
      "model_name": "HTMLModel",
      "state": {
       "layout": "IPY_MODEL_adab6391a1ec423b91f656bf35adc0b4",
       "style": "IPY_MODEL_0fc5bd7d902d4d3c8a41796132b9529a",
       "value": " 436M/436M [00:07&lt;00:00, 60.2MB/s]"
      }
     },
     "da5c4ea90acd4f4592371338c633915e": {
      "model_module": "@jupyter-widgets/base",
      "model_module_version": "2.0.0",
      "model_name": "LayoutModel",
      "state": {}
     },
     "dac207f3c04d4a7694e3efe5baa9bf82": {
      "model_module": "@jupyter-widgets/controls",
      "model_module_version": "2.0.0",
      "model_name": "HTMLStyleModel",
      "state": {
       "description_width": "",
       "font_size": null,
       "text_color": null
      }
     },
     "db3d0f8872664610ad1e239a2c94e2ed": {
      "model_module": "@jupyter-widgets/controls",
      "model_module_version": "2.0.0",
      "model_name": "HTMLStyleModel",
      "state": {
       "description_width": "",
       "font_size": null,
       "text_color": null
      }
     },
     "dc2ef60f113f416e85adfcc76cf6f704": {
      "model_module": "@jupyter-widgets/base",
      "model_module_version": "2.0.0",
      "model_name": "LayoutModel",
      "state": {}
     },
     "dc344766ce4944e2994236d008ccc252": {
      "model_module": "@jupyter-widgets/controls",
      "model_module_version": "2.0.0",
      "model_name": "HBoxModel",
      "state": {
       "children": [
        "IPY_MODEL_113c12b3a88f4487bed6c80ff8223897",
        "IPY_MODEL_0b9820fe3c1d400b82f0d0296482dcac",
        "IPY_MODEL_c7660032d4bb437383bc253e5b698f51"
       ],
       "layout": "IPY_MODEL_810b2ae2d6ff40409a63d453faed7d03"
      }
     },
     "dc3fbae75e2b4ec38a84d888ce26153f": {
      "model_module": "@jupyter-widgets/controls",
      "model_module_version": "2.0.0",
      "model_name": "HTMLStyleModel",
      "state": {
       "description_width": "",
       "font_size": null,
       "text_color": null
      }
     },
     "dc49029e1674487bb4ce6f836dabdaf0": {
      "model_module": "@jupyter-widgets/base",
      "model_module_version": "2.0.0",
      "model_name": "LayoutModel",
      "state": {}
     },
     "dc65cc5c0b93482c917f44b2c42c6f33": {
      "model_module": "@jupyter-widgets/controls",
      "model_module_version": "2.0.0",
      "model_name": "HBoxModel",
      "state": {
       "children": [
        "IPY_MODEL_877ee2c3be6e4cb7a748129592083a16",
        "IPY_MODEL_558828f5c45f48e4b01f75998680a913",
        "IPY_MODEL_03f42213a49f4ea686f3db0d7a7d75e7"
       ],
       "layout": "IPY_MODEL_9f991dd7e1e44f2585d5cc34564d4afb"
      }
     },
     "dcbb93416c2f4f1384da623cc42b386d": {
      "model_module": "@jupyter-widgets/controls",
      "model_module_version": "2.0.0",
      "model_name": "HBoxModel",
      "state": {
       "children": [
        "IPY_MODEL_9f1b5c625cf144d689d13ebef4295f67",
        "IPY_MODEL_b08143d322c44e2aa2de139247909511",
        "IPY_MODEL_840d187417ee42ef8a581657793d6920"
       ],
       "layout": "IPY_MODEL_c5db724c0a9d4c1a8bd8bb831d28098f"
      }
     },
     "dcedca835cf240118135739372093b32": {
      "model_module": "@jupyter-widgets/base",
      "model_module_version": "2.0.0",
      "model_name": "LayoutModel",
      "state": {}
     },
     "dcf8cf5ffb6249b497f1f65ea98a6802": {
      "model_module": "@jupyter-widgets/base",
      "model_module_version": "2.0.0",
      "model_name": "LayoutModel",
      "state": {}
     },
     "dd33520fa2bc48e89cb1d7e36e60bba2": {
      "model_module": "@jupyter-widgets/base",
      "model_module_version": "2.0.0",
      "model_name": "LayoutModel",
      "state": {}
     },
     "dd8c514f081c4483b6cc4ae68c4766ba": {
      "model_module": "@jupyter-widgets/controls",
      "model_module_version": "2.0.0",
      "model_name": "HBoxModel",
      "state": {
       "children": [
        "IPY_MODEL_88dc7a20b76a4bf196287ece6ea590de",
        "IPY_MODEL_b1414408cd6343e0a68382c48650ff50",
        "IPY_MODEL_783b59184723442cafa3e4da40ef76b8"
       ],
       "layout": "IPY_MODEL_00d9dcc789244da5b7285abcc28c5f4e"
      }
     },
     "dde94a600ddb4ee6aba455c949ed59b2": {
      "model_module": "@jupyter-widgets/base",
      "model_module_version": "2.0.0",
      "model_name": "LayoutModel",
      "state": {}
     },
     "de4f9330618c45739931d7f65e53c6f9": {
      "model_module": "@jupyter-widgets/base",
      "model_module_version": "2.0.0",
      "model_name": "LayoutModel",
      "state": {}
     },
     "deeba671196544f5ac10a86a0615cd20": {
      "model_module": "@jupyter-widgets/controls",
      "model_module_version": "2.0.0",
      "model_name": "HTMLStyleModel",
      "state": {
       "description_width": "",
       "font_size": null,
       "text_color": null
      }
     },
     "df89bb3e48f143909d75a74400393c82": {
      "model_module": "@jupyter-widgets/controls",
      "model_module_version": "2.0.0",
      "model_name": "HTMLModel",
      "state": {
       "layout": "IPY_MODEL_5d4fde52e64342c7b5c139c64f9e52cb",
       "style": "IPY_MODEL_ea7c8646f50d4af98aa4c2567348349b",
       "value": " 124/124 [00:00&lt;00:00, 43.0kB/s]"
      }
     },
     "dfe18bd95921433b8c70f958790c7255": {
      "model_module": "@jupyter-widgets/controls",
      "model_module_version": "2.0.0",
      "model_name": "FloatProgressModel",
      "state": {
       "bar_style": "success",
       "layout": "IPY_MODEL_c9bc9fb513a54e8ebf31b949e49d3bb5",
       "max": 898823,
       "style": "IPY_MODEL_9440d62d99664a93a6d5748d08624b43",
       "value": 898823
      }
     },
     "e1b3a1e343f248feb02af66da58018a7": {
      "model_module": "@jupyter-widgets/controls",
      "model_module_version": "2.0.0",
      "model_name": "ProgressStyleModel",
      "state": {
       "description_width": ""
      }
     },
     "e212004c97ca44aab81af1149cd3ee54": {
      "model_module": "@jupyter-widgets/controls",
      "model_module_version": "2.0.0",
      "model_name": "HTMLModel",
      "state": {
       "layout": "IPY_MODEL_7549ef3e617041dea8665bcdf7cb07bf",
       "style": "IPY_MODEL_091511cee0714c20bb0a6590baa6df25",
       "value": " 456k/456k [00:00&lt;00:00, 24.9MB/s]"
      }
     },
     "e282059bdb0b43c7814473f491cfc23a": {
      "model_module": "@jupyter-widgets/base",
      "model_module_version": "2.0.0",
      "model_name": "LayoutModel",
      "state": {}
     },
     "e2c5865b6d21499db8d7c6d72144ba00": {
      "model_module": "@jupyter-widgets/base",
      "model_module_version": "2.0.0",
      "model_name": "LayoutModel",
      "state": {}
     },
     "e3470b63a3654482ac6a05ee673aad02": {
      "model_module": "@jupyter-widgets/base",
      "model_module_version": "2.0.0",
      "model_name": "LayoutModel",
      "state": {}
     },
     "e4b572d4e13a4428b373206057bd8143": {
      "model_module": "@jupyter-widgets/base",
      "model_module_version": "2.0.0",
      "model_name": "LayoutModel",
      "state": {}
     },
     "e5c7d165e5b5403f8781081e699a29c4": {
      "model_module": "@jupyter-widgets/controls",
      "model_module_version": "2.0.0",
      "model_name": "HTMLStyleModel",
      "state": {
       "description_width": "",
       "font_size": null,
       "text_color": null
      }
     },
     "e619e804a3c6417488a84640b50e2973": {
      "model_module": "@jupyter-widgets/controls",
      "model_module_version": "2.0.0",
      "model_name": "FloatProgressModel",
      "state": {
       "bar_style": "success",
       "layout": "IPY_MODEL_7b1dcc1409814b7ea01fc81fbe50ff3f",
       "max": 2,
       "style": "IPY_MODEL_60cb5881a9d24779b3b6b59a1bdf1234",
       "value": 2
      }
     },
     "e6c759ba8cc44f3784399a38f373c81e": {
      "model_module": "@jupyter-widgets/controls",
      "model_module_version": "2.0.0",
      "model_name": "HTMLModel",
      "state": {
       "layout": "IPY_MODEL_5bab9147dc4b415789f0e3bf64f1b28f",
       "style": "IPY_MODEL_1527ae3337c94e2fb1d4e599e704027b",
       "value": " 899k/899k [00:00&lt;00:00, 9.11MB/s]"
      }
     },
     "e6f4a129c4be484d9d16bed1c2013478": {
      "model_module": "@jupyter-widgets/base",
      "model_module_version": "2.0.0",
      "model_name": "LayoutModel",
      "state": {}
     },
     "e727983eaca54414be3c10d23aeffb78": {
      "model_module": "@jupyter-widgets/base",
      "model_module_version": "2.0.0",
      "model_name": "LayoutModel",
      "state": {}
     },
     "e75fd2d4bcfc493797a38ff38b8caf2e": {
      "model_module": "@jupyter-widgets/controls",
      "model_module_version": "2.0.0",
      "model_name": "HTMLModel",
      "state": {
       "layout": "IPY_MODEL_a10e2cd73a854c26a2010d854534fc8b",
       "style": "IPY_MODEL_4a635dc643c34c34866177b45c2ffa3c",
       "value": " 456k/456k [00:00&lt;00:00, 24.4MB/s]"
      }
     },
     "e78cad6dae6949f7bd3bfef23a8fc0f6": {
      "model_module": "@jupyter-widgets/controls",
      "model_module_version": "2.0.0",
      "model_name": "HBoxModel",
      "state": {
       "children": [
        "IPY_MODEL_4b0f1280fb554742bb674f102d539ad0",
        "IPY_MODEL_238a891a421f4601821fde4b736110fc",
        "IPY_MODEL_98ff28feeebb4d39bd94e4f7215dbef3"
       ],
       "layout": "IPY_MODEL_aaba115b0ec348ac80037e09599f1d67"
      }
     },
     "e7a84f35645840b4866b38c2e802b570": {
      "model_module": "@jupyter-widgets/base",
      "model_module_version": "2.0.0",
      "model_name": "LayoutModel",
      "state": {}
     },
     "e8094ac92acf45df91c2c6f0175e991f": {
      "model_module": "@jupyter-widgets/controls",
      "model_module_version": "2.0.0",
      "model_name": "HTMLStyleModel",
      "state": {
       "description_width": "",
       "font_size": null,
       "text_color": null
      }
     },
     "e93cb6bd45ac4b4e85db2f36278b6284": {
      "model_module": "@jupyter-widgets/base",
      "model_module_version": "2.0.0",
      "model_name": "LayoutModel",
      "state": {}
     },
     "e96040f6277f4449a1c2a117bc66aaf9": {
      "model_module": "@jupyter-widgets/controls",
      "model_module_version": "2.0.0",
      "model_name": "HTMLModel",
      "state": {
       "layout": "IPY_MODEL_852caab8a3574653b0c55d54135a3e4d",
       "style": "IPY_MODEL_33162c55c5674143a433ad80b273c0fa",
       "value": "model.safetensors: 100%"
      }
     },
     "e96ba2fcd19c4d89b4fa06d114fa4dfc": {
      "model_module": "@jupyter-widgets/controls",
      "model_module_version": "2.0.0",
      "model_name": "HTMLModel",
      "state": {
       "layout": "IPY_MODEL_7f870920908f4dee83068418d1d3ca16",
       "style": "IPY_MODEL_5f71520c397f4ad4a3dc67348dcb792b",
       "value": "pytorch_model.bin: 100%"
      }
     },
     "e9ae54cc419b4c6d9c4a9ffc2045e011": {
      "model_module": "@jupyter-widgets/base",
      "model_module_version": "2.0.0",
      "model_name": "LayoutModel",
      "state": {}
     },
     "e9cff02b69f5406fbd05c5bd4511e44b": {
      "model_module": "@jupyter-widgets/controls",
      "model_module_version": "2.0.0",
      "model_name": "ProgressStyleModel",
      "state": {
       "description_width": ""
      }
     },
     "ea7c8646f50d4af98aa4c2567348349b": {
      "model_module": "@jupyter-widgets/controls",
      "model_module_version": "2.0.0",
      "model_name": "HTMLStyleModel",
      "state": {
       "description_width": "",
       "font_size": null,
       "text_color": null
      }
     },
     "ea8d7b17a53c4e0b978ce96ee536f8eb": {
      "model_module": "@jupyter-widgets/controls",
      "model_module_version": "2.0.0",
      "model_name": "ProgressStyleModel",
      "state": {
       "description_width": ""
      }
     },
     "eb1a11e19ec345f88a17d9b9a62b3eb9": {
      "model_module": "@jupyter-widgets/controls",
      "model_module_version": "2.0.0",
      "model_name": "ProgressStyleModel",
      "state": {
       "description_width": ""
      }
     },
     "eb9e01cbb0bf4971894a3a5f517cb957": {
      "model_module": "@jupyter-widgets/base",
      "model_module_version": "2.0.0",
      "model_name": "LayoutModel",
      "state": {}
     },
     "ec6631f3bfa74f86aa0b85114c1e7021": {
      "model_module": "@jupyter-widgets/controls",
      "model_module_version": "2.0.0",
      "model_name": "ProgressStyleModel",
      "state": {
       "description_width": ""
      }
     },
     "ecd3c713534948d1bf2f1aecc0c15132": {
      "model_module": "@jupyter-widgets/controls",
      "model_module_version": "2.0.0",
      "model_name": "ProgressStyleModel",
      "state": {
       "description_width": ""
      }
     },
     "ed9f43ed55684efe9f315dfd7e360771": {
      "model_module": "@jupyter-widgets/base",
      "model_module_version": "2.0.0",
      "model_name": "LayoutModel",
      "state": {}
     },
     "edf65decff9142b39bc65ffba2144296": {
      "model_module": "@jupyter-widgets/controls",
      "model_module_version": "2.0.0",
      "model_name": "FloatProgressModel",
      "state": {
       "bar_style": "success",
       "layout": "IPY_MODEL_2049899c628d4dad91208f9d851c497f",
       "max": 213450,
       "style": "IPY_MODEL_251ce5d4208041b9b7acbd89c4577018",
       "value": 213450
      }
     },
     "ee5bf2ecb5c047b0ac265f190e4026fa": {
      "model_module": "@jupyter-widgets/controls",
      "model_module_version": "2.0.0",
      "model_name": "HTMLModel",
      "state": {
       "layout": "IPY_MODEL_89ea45a218cd4b018a4751b762fe3372",
       "style": "IPY_MODEL_dc3fbae75e2b4ec38a84d888ce26153f",
       "value": "tokenizer.json: 100%"
      }
     },
     "eec8c7d12f1b4597b4794cffd12a18c2": {
      "model_module": "@jupyter-widgets/controls",
      "model_module_version": "2.0.0",
      "model_name": "HTMLStyleModel",
      "state": {
       "description_width": "",
       "font_size": null,
       "text_color": null
      }
     },
     "f0c189e3ea5041948d39ca4f880d0083": {
      "model_module": "@jupyter-widgets/base",
      "model_module_version": "2.0.0",
      "model_name": "LayoutModel",
      "state": {}
     },
     "f1c8777e93a14a5080d309bd312c535d": {
      "model_module": "@jupyter-widgets/controls",
      "model_module_version": "2.0.0",
      "model_name": "HTMLStyleModel",
      "state": {
       "description_width": "",
       "font_size": null,
       "text_color": null
      }
     },
     "f2b974db718f4539a62f284e2a3a71e2": {
      "model_module": "@jupyter-widgets/base",
      "model_module_version": "2.0.0",
      "model_name": "LayoutModel",
      "state": {}
     },
     "f2db4dbd9ac244e8bb35963ba5ae3f8a": {
      "model_module": "@jupyter-widgets/controls",
      "model_module_version": "2.0.0",
      "model_name": "HTMLModel",
      "state": {
       "layout": "IPY_MODEL_e6f4a129c4be484d9d16bed1c2013478",
       "style": "IPY_MODEL_8b742cbee5834534abb9503584e2bf21",
       "value": " 48.0/48.0 [00:00&lt;00:00, 5.33kB/s]"
      }
     },
     "f37707f771b7407c9e26302e11fd2072": {
      "model_module": "@jupyter-widgets/base",
      "model_module_version": "2.0.0",
      "model_name": "LayoutModel",
      "state": {}
     },
     "f3ac05e3c10a486e826917689a49596d": {
      "model_module": "@jupyter-widgets/controls",
      "model_module_version": "2.0.0",
      "model_name": "HTMLModel",
      "state": {
       "layout": "IPY_MODEL_c55db76217384beba3504370a5c58da6",
       "style": "IPY_MODEL_ff8514a1a5fa4a03b30b9eb72d58c19d",
       "value": " 25.0/25.0 [00:00&lt;00:00, 10.2kB/s]"
      }
     },
     "f4a62fc6eeb74090b1dc808f1e7e12ca": {
      "model_module": "@jupyter-widgets/controls",
      "model_module_version": "2.0.0",
      "model_name": "FloatProgressModel",
      "state": {
       "bar_style": "success",
       "layout": "IPY_MODEL_3d00b87cab8c4ab7af01a5c273fb38d8",
       "max": 1353,
       "style": "IPY_MODEL_1aef0649fbab4e2dbd15618fd0882af7",
       "value": 1353
      }
     },
     "f52278f139ac4813b6ca618243d5eedd": {
      "model_module": "@jupyter-widgets/base",
      "model_module_version": "2.0.0",
      "model_name": "LayoutModel",
      "state": {}
     },
     "f585c15e57c7401b8053d1ed8dac250d": {
      "model_module": "@jupyter-widgets/base",
      "model_module_version": "2.0.0",
      "model_name": "LayoutModel",
      "state": {}
     },
     "f5c169b54db64ddebc3f5e8d53fa4159": {
      "model_module": "@jupyter-widgets/base",
      "model_module_version": "2.0.0",
      "model_name": "LayoutModel",
      "state": {}
     },
     "f68650126a4546f097d92b027cc9d8e9": {
      "model_module": "@jupyter-widgets/controls",
      "model_module_version": "2.0.0",
      "model_name": "FloatProgressModel",
      "state": {
       "bar_style": "success",
       "layout": "IPY_MODEL_5ae7eb604a714cd3b268c8ce4039e824",
       "max": 1042301,
       "style": "IPY_MODEL_10b4f125612b4eceb190bb853893db53",
       "value": 1042301
      }
     },
     "f68668a1553e4d6fad473a5c4321e976": {
      "model_module": "@jupyter-widgets/controls",
      "model_module_version": "2.0.0",
      "model_name": "ProgressStyleModel",
      "state": {
       "description_width": ""
      }
     },
     "f76ec62074d349e9bf79f2e879b5553e": {
      "model_module": "@jupyter-widgets/controls",
      "model_module_version": "2.0.0",
      "model_name": "FloatProgressModel",
      "state": {
       "bar_style": "success",
       "layout": "IPY_MODEL_4a6539bd4c7147cba9a02a80de5b00f9",
       "max": 335,
       "style": "IPY_MODEL_69f3eb757c664c7093ddcc2895f6a5f3",
       "value": 335
      }
     },
     "f783fe5b3e864afea65db59e28349c9d": {
      "model_module": "@jupyter-widgets/base",
      "model_module_version": "2.0.0",
      "model_name": "LayoutModel",
      "state": {}
     },
     "f7ce794ceca5445d90084d040b14e6ca": {
      "model_module": "@jupyter-widgets/controls",
      "model_module_version": "2.0.0",
      "model_name": "HTMLModel",
      "state": {
       "layout": "IPY_MODEL_0b47f5191a4f42259d3bbfae8db747e8",
       "style": "IPY_MODEL_d6b35e963a174152b905b706111e5f54",
       "value": " 48.0/48.0 [00:00&lt;00:00, 10.4kB/s]"
      }
     },
     "f810f2de17a846c7af53699a4cddc2ab": {
      "model_module": "@jupyter-widgets/base",
      "model_module_version": "2.0.0",
      "model_name": "LayoutModel",
      "state": {}
     },
     "f8404511048042a6bccd8c7bf3a8a329": {
      "model_module": "@jupyter-widgets/controls",
      "model_module_version": "2.0.0",
      "model_name": "HTMLModel",
      "state": {
       "layout": "IPY_MODEL_e3470b63a3654482ac6a05ee673aad02",
       "style": "IPY_MODEL_05e2cb33ddcb4943a53fe3a235dd7bb0",
       "value": " 268M/268M [00:04&lt;00:00, 56.9MB/s]"
      }
     },
     "f91ecdf22baf48a38545eee54f185eeb": {
      "model_module": "@jupyter-widgets/base",
      "model_module_version": "2.0.0",
      "model_name": "LayoutModel",
      "state": {}
     },
     "f9bd72d13ce643139a98dda4749913ff": {
      "model_module": "@jupyter-widgets/controls",
      "model_module_version": "2.0.0",
      "model_name": "HBoxModel",
      "state": {
       "children": [
        "IPY_MODEL_7f6844b36bf94b03bffd375eb795bb56",
        "IPY_MODEL_f4a62fc6eeb74090b1dc808f1e7e12ca",
        "IPY_MODEL_0c201f45d42c4d99be1d72957bd61661"
       ],
       "layout": "IPY_MODEL_dde94a600ddb4ee6aba455c949ed59b2"
      }
     },
     "fc19b875037b4c4ea607f54405ff6167": {
      "model_module": "@jupyter-widgets/controls",
      "model_module_version": "2.0.0",
      "model_name": "HTMLStyleModel",
      "state": {
       "description_width": "",
       "font_size": null,
       "text_color": null
      }
     },
     "fd0a86b54379401e835a239247b2889c": {
      "model_module": "@jupyter-widgets/controls",
      "model_module_version": "2.0.0",
      "model_name": "HBoxModel",
      "state": {
       "children": [
        "IPY_MODEL_a8e9447eaec2431dbb52171829da583b",
        "IPY_MODEL_edf65decff9142b39bc65ffba2144296",
        "IPY_MODEL_1f08c8b16e5b48fd894420f9c50d5003"
       ],
       "layout": "IPY_MODEL_af1d41cd100e4eb1a6e2c5ffe921ad0e"
      }
     },
     "fd14afedda6841178afdfeedae4086d4": {
      "model_module": "@jupyter-widgets/base",
      "model_module_version": "2.0.0",
      "model_name": "LayoutModel",
      "state": {}
     },
     "fd160acefd454247888d71c459d18ee7": {
      "model_module": "@jupyter-widgets/controls",
      "model_module_version": "2.0.0",
      "model_name": "HTMLStyleModel",
      "state": {
       "description_width": "",
       "font_size": null,
       "text_color": null
      }
     },
     "fd37c4c2a63542ee90ef2283beb6b3d9": {
      "model_module": "@jupyter-widgets/controls",
      "model_module_version": "2.0.0",
      "model_name": "HBoxModel",
      "state": {
       "children": [
        "IPY_MODEL_a85aa2fa590549fdad2a999551b5ee58",
        "IPY_MODEL_54ffd9b8f6ec4a25a991b55224e049c7",
        "IPY_MODEL_7de7b235b7e44a01a18daf4154dad74d"
       ],
       "layout": "IPY_MODEL_9b202d02a933470c926f27440c9f0811"
      }
     },
     "fde657e1b4244e28b86e39b01484d03f": {
      "model_module": "@jupyter-widgets/controls",
      "model_module_version": "2.0.0",
      "model_name": "HTMLStyleModel",
      "state": {
       "description_width": "",
       "font_size": null,
       "text_color": null
      }
     },
     "fe3be07f3cf0423ebbc78a2316e7fad2": {
      "model_module": "@jupyter-widgets/controls",
      "model_module_version": "2.0.0",
      "model_name": "HTMLModel",
      "state": {
       "layout": "IPY_MODEL_a57ea7dd4fe348ca9c16663ec270c803",
       "style": "IPY_MODEL_a9da76b4f5e2470981988619b7c45776",
       "value": "vocab.json: 100%"
      }
     },
     "fe4e41989d4e4f22a8a1b5e851df2283": {
      "model_module": "@jupyter-widgets/controls",
      "model_module_version": "2.0.0",
      "model_name": "FloatProgressModel",
      "state": {
       "bar_style": "success",
       "layout": "IPY_MODEL_33b8e1178d254a0f8921b07e955e18b9",
       "max": 433292294,
       "style": "IPY_MODEL_1d65d52a36444886a72c30863f22f00c",
       "value": 433292294
      }
     },
     "ff8514a1a5fa4a03b30b9eb72d58c19d": {
      "model_module": "@jupyter-widgets/controls",
      "model_module_version": "2.0.0",
      "model_name": "HTMLStyleModel",
      "state": {
       "description_width": "",
       "font_size": null,
       "text_color": null
      }
     },
     "ffb27b160e0a4e98b4d47d1f96d42d8e": {
      "model_module": "@jupyter-widgets/controls",
      "model_module_version": "2.0.0",
      "model_name": "FloatProgressModel",
      "state": {
       "bar_style": "success",
       "layout": "IPY_MODEL_4de6a26542d546dcaf3a0d79c40db83a",
       "max": 248147986,
       "style": "IPY_MODEL_6a9a8892c44147c6bce8f063227c6151",
       "value": 248147986
      }
     },
     "ffd346a654eb4e42a1323c7ed0de4b6f": {
      "model_module": "@jupyter-widgets/controls",
      "model_module_version": "2.0.0",
      "model_name": "ProgressStyleModel",
      "state": {
       "description_width": ""
      }
     }
    },
    "version_major": 2,
    "version_minor": 0
   }
  }
 },
 "nbformat": 4,
 "nbformat_minor": 4
}
